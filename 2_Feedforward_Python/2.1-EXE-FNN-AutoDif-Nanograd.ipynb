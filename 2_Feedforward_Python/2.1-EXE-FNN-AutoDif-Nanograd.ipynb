{
 "cells": [
  {
   "cell_type": "markdown",
   "metadata": {
    "id": "HAva8TnYFtFu"
   },
   "source": [
    "# Contents and why we need this lab\n",
    "\n",
    "This lab is about implementing neural networks yourself before we start using other frameworks that hide some of the computation from you. It builds on the first lab, where you derived the equations for neural network forward and backward propagation and gradient descent parameter updates. \n",
    "\n",
    "All the frameworks for deep learning you will meet from now on use automatic differentiation (autodiff), so you do not have to code the backward step yourself. In this version of this lab, you will develop your own autodif implementation. We also have an optional [version](https://github.com/DeepLearningDTU/02456-deep-learning-with-PyTorch/blob/master/2_Feedforward_Python/2.2-FNN-NumPy.ipynb) of this lab where you have to code the backward pass explicitly in Numpy."
   ]
  },
  {
   "cell_type": "markdown",
   "metadata": {
    "id": "sCa7HzwpFtFy"
   },
   "source": [
    "# External sources of information\n",
    "\n",
    "1. Jupyter notebook. You can find more information about Jupyter notebooks [here](https://jupyter.org/). It will come as part of the [Anaconda](https://www.anaconda.com/) Python installation. \n",
    "2. [NumPy](https://numpy.org/). Part of Anaconda distribution.  If you already know how to program, most things about Python and NumPy can be found with Google searches.\n",
    "3. [Nanograd](https://github.com/rasmusbergpalm/nanograd) is a minimalistic version of autodiff developed by Rasmus Berg Palm that we use for our framework.\n"
   ]
  },
  {
   "cell_type": "markdown",
   "metadata": {
    "id": "1SjiIp-TFtF0"
   },
   "source": [
    "# This notebook will follow the next steps:\n",
    "\n",
    "1. Nanograd automatic differentiation framework\n",
    "2. Finite difference method\n",
    "3. Data generation\n",
    "4. Defining and initializing the network\n",
    "5. Forward pass\n",
    "6. Training loop \n",
    "7. Testing your model\n",
    "8. Further extensions"
   ]
  },
  {
   "cell_type": "markdown",
   "metadata": {
    "id": "OyXeAA-HuT7s"
   },
   "source": [
    "# Nanograd automatic differention framework"
   ]
  },
  {
   "cell_type": "markdown",
   "metadata": {
    "id": "k6UWKCLKubgA"
   },
   "source": [
    "The [Nanograd](https://github.com/rasmusbergpalm/nanograd) framework defines a class Var which both holds a value and gradient value that we can use to store the intermediate values when we apply the chain rule of differentiation."
   ]
  },
  {
   "cell_type": "code",
   "execution_count": 1,
   "metadata": {
    "id": "Jd4CoEBNzNWS"
   },
   "outputs": [],
   "source": [
    "# Copy and pasted from https://github.com/rasmusbergpalm/nanograd/blob/3a1bf9e9e724da813bfccf91a6f309abdade9f39/nanograd.py\n",
    "\n",
    "from math import exp, log\n",
    "import numpy as np\n",
    "\n",
    "class Var:\n",
    "    \"\"\"\n",
    "    A variable which holds a float and enables gradient computations.\n",
    "    \"\"\"\n",
    "\n",
    "    def __init__(self, val: float, grad_fn=lambda: []):\n",
    "        #assert type(val) == float\n",
    "        assert isinstance(val, (np.floating, float))\n",
    "        self.v = val\n",
    "        self.grad_fn = grad_fn\n",
    "        self.grad = 0.0\n",
    "\n",
    "    def backprop(self, bp):\n",
    "        self.grad += bp\n",
    "        for input, grad in self.grad_fn():\n",
    "            input.backprop(grad * bp)\n",
    "\n",
    "    def backward(self):\n",
    "        self.backprop(1.0)\n",
    "\n",
    "    def __add__(self: 'Var', other: 'Var') -> 'Var':\n",
    "        return Var(self.v + other.v, lambda: [(self, 1.0), (other, 1.0)])\n",
    "\n",
    "    def __mul__(self: 'Var', other: 'Var') -> 'Var':\n",
    "        return Var(self.v * other.v, lambda: [(self, other.v), (other, self.v)])\n",
    "\n",
    "    def __pow__(self, power):\n",
    "        assert type(power) in {float, int}, \"power must be float or int\"\n",
    "        return Var(self.v ** power, lambda: [(self, power * self.v ** (power - 1))])\n",
    "\n",
    "    def __neg__(self: 'Var') -> 'Var':\n",
    "        return Var(-1.0) * self\n",
    "\n",
    "    def __sub__(self: 'Var', other: 'Var') -> 'Var':\n",
    "        return self + (-other)\n",
    "\n",
    "    def __truediv__(self: 'Var', other: 'Var') -> 'Var':\n",
    "        return self * other ** -1\n",
    "\n",
    "    def __repr__(self):\n",
    "        return \"Var(v=%.4f, grad=%.4f)\" % (self.v, self.grad)\n",
    "\n",
    "    def relu(self):\n",
    "        x = self.v\n",
    "        f_of_x = x if x > 0.0 else 0.0  # x if positive, otherwise 0\n",
    "        df_dx = 1.0 if x > 0.0 else 0.0\n",
    "        return Var(f_of_x, lambda: [(self, df_dx)])\n",
    "\n",
    "    def identity(self):\n",
    "        x = self.v\n",
    "        f_of_x = x\n",
    "        df_dx = 1.0\n",
    "        return Var(f_of_x, lambda: [(self, df_dx)])\n",
    "    \n",
    "    def tanh(self):\n",
    "        x = self.v\n",
    "        f_of_x = np.tanh(x)\n",
    "        df_dx = 1 / np.cosh(x)**2\n",
    "        return Var(f_of_x, lambda: [(self, df_dx)])\n",
    "    \n",
    "    def sigmoid(self):\n",
    "        x = self.v\n",
    "        f_of_x = 1 / (1 + exp(-x))\n",
    "        df_dx = f_of_x * (1 - f_of_x)\n",
    "        return Var(f_of_x, lambda: [(self, df_dx)])"
   ]
  },
  {
   "cell_type": "markdown",
   "metadata": {},
   "source": [
    "Test our implemented activation functions."
   ]
  },
  {
   "cell_type": "code",
   "execution_count": 2,
   "metadata": {},
   "outputs": [],
   "source": [
    "# RELU (twice)\n",
    "a = Var(3.0)\n",
    "f = Var.relu(a)  # f = relu(a).\n",
    "f.backward()  # gradient of f wrt a should be 1\n",
    "assert np.isclose(f.v, 3.0)\n",
    "assert np.isclose(a.grad, 1)\n",
    "\n",
    "a = Var(-3.0)\n",
    "f = Var.relu(a)  # f = relu(a).\n",
    "f.backward()  # gradient of f wrt a should be 1\n",
    "assert np.isclose(f.v, 0.0)\n",
    "assert np.isclose(a.grad, 0)\n",
    "\n",
    "# IDENTITY\n",
    "a = Var(-3.0)\n",
    "f = Var.identity(a)  # f = identity(a).\n",
    "f.backward()  # gradient of f wrt a should be 1\n",
    "assert np.isclose(f.v, -3.0)\n",
    "assert np.isclose(a.grad, 1)\n",
    "\n",
    "# TANH\n",
    "a = Var(-3.0)\n",
    "f = Var.tanh(a)  # f = tanh(a).\n",
    "f.backward()  # gradient of f wrt a should be 1\n",
    "assert np.isclose(f.v, np.tanh(-3.0))\n",
    "assert np.isclose(a.grad, 1/np.cosh(-3)**2)\n",
    "\n",
    "# SIGMOID\n",
    "a = Var(-3.0)\n",
    "f = Var.sigmoid(a)  # f = sigmoid(a).\n",
    "f.backward()  # gradient of f wrt a should be 1\n",
    "assert np.isclose(f.v, 1/(1 + np.exp(3.0)))\n",
    "assert np.isclose(a.grad, 1/(1 + np.exp(3.0))*(1-1/(1 + np.exp(3.0))))\n",
    "\n"
   ]
  },
  {
   "cell_type": "markdown",
   "metadata": {
    "id": "yDX67D6jzcte"
   },
   "source": [
    "A few examples illustrate how we can use this:"
   ]
  },
  {
   "cell_type": "code",
   "execution_count": 3,
   "metadata": {},
   "outputs": [
    {
     "name": "stdout",
     "output_type": "stream",
     "text": [
      "Var(v=3.0000, grad=1.0000)\n",
      "Var(v=3.0000, grad=1.0000)\n",
      "Var(v=-3.0000, grad=0.0000)\n",
      "Var(v=0.0000, grad=1.0000)\n"
     ]
    }
   ],
   "source": [
    "# Check the relu function\n",
    "a = Var(3.0)\n",
    "f = Var.relu(a)  # f = relu(a).\n",
    "\n",
    "f.backward()  # gradient of f wrt a should be 1\n",
    "\n",
    "for v in [a, f]:\n",
    "    print(v)  # gradient of final output will always be 1\n",
    "\n",
    "a = Var(-3.0)\n",
    "f = Var.relu(a)  # f = relu(a).\n",
    "\n",
    "f.backward()  # gradient of f wrt a should be 0\n",
    "\n",
    "for v in [a, f]:\n",
    "    print(v)  # gradient of final output will always be 1"
   ]
  },
  {
   "cell_type": "code",
   "execution_count": 4,
   "metadata": {},
   "outputs": [
    {
     "name": "stdout",
     "output_type": "stream",
     "text": [
      "Var(v=3.0000, grad=1.0000)\n",
      "Var(v=3.0000, grad=1.0000)\n",
      "Var(v=-3.0000, grad=1.0000)\n",
      "Var(v=-3.0000, grad=1.0000)\n"
     ]
    }
   ],
   "source": [
    "# Check the identity function\n",
    "a = Var(3.0)\n",
    "f = Var.identity(a)  # f = relu(a).\n",
    "\n",
    "f.backward()  # gradient of f wrt a should be 1\n",
    "\n",
    "for v in [a, f]:\n",
    "    print(v)  # gradient of final output will always be 1\n",
    "\n",
    "a = Var(-3.0)\n",
    "f = Var.identity(a)  # f = relu(a).\n",
    "\n",
    "f.backward()  # gradient of f wrt a should be 1\n",
    "\n",
    "for v in [a, f]:\n",
    "    print(v)  # gradient of final output will always be 1"
   ]
  },
  {
   "cell_type": "code",
   "execution_count": 5,
   "metadata": {
    "colab": {
     "base_uri": "https://localhost:8080/"
    },
    "id": "xk6PeLc3zwPT",
    "outputId": "47e431b2-07ba-4cb1-ea21-997769641c67"
   },
   "outputs": [
    {
     "name": "stdout",
     "output_type": "stream",
     "text": [
      "Var(v=3.0000, grad=5.0000)\n",
      "Var(v=5.0000, grad=3.0000)\n",
      "Var(v=15.0000, grad=1.0000)\n"
     ]
    }
   ],
   "source": [
    "a = Var(3.0)\n",
    "b = Var(5.0)\n",
    "f = a * b  # custom __mult__ method to return correct Vars\n",
    "\n",
    "f.backward()  # initiates the backward propagation\n",
    "\n",
    "for v in [a, b, f]:\n",
    "    print(v)  # gradient of final output will always be 1"
   ]
  },
  {
   "cell_type": "code",
   "execution_count": 6,
   "metadata": {
    "colab": {
     "base_uri": "https://localhost:8080/"
    },
    "id": "JmKhYgsY0g_o",
    "outputId": "06c1b1df-c33c-40d3-922a-624612a591c7"
   },
   "outputs": [
    {
     "name": "stdout",
     "output_type": "stream",
     "text": [
      "Var(v=3.0000, grad=14.0000)\n",
      "Var(v=5.0000, grad=3.0000)\n",
      "Var(v=15.0000, grad=1.0000)\n",
      "Var(v=9.0000, grad=3.0000)\n",
      "Var(v=27.0000, grad=1.0000)\n",
      "Var(v=42.0000, grad=1.0000)\n"
     ]
    }
   ],
   "source": [
    "a = Var(3.0)\n",
    "b = Var(5.0)\n",
    "c = a * b\n",
    "d = Var(9.0)\n",
    "e = a * d\n",
    "f = c + e  # a*b + a*d = a*(b + d)\n",
    "\n",
    "f.backward()\n",
    "\n",
    "for v in [a, b, c, d, e, f]:\n",
    "    print(v)"
   ]
  },
  {
   "cell_type": "markdown",
   "metadata": {
    "id": "Fe3B6uEH140p"
   },
   "source": [
    "## Exercise a) What is being calculated?\n",
    "\n",
    "Explain briefly the output of the code? What is the expression we differentiate and with respect to what variables?"
   ]
  },
  {
   "cell_type": "markdown",
   "metadata": {},
   "source": [
    "The code outputs the partial derivative of the output with respect to the variable. So, for example, Var a gives the $\\partial f/\\partial a$. The value for f will always have a gradient of 1 because $\\partial f /\\partial f = 1$."
   ]
  },
  {
   "cell_type": "markdown",
   "metadata": {
    "id": "q8_Q0t2I3Ruj"
   },
   "source": [
    "## Exercise b) How does the backward function work?\n",
    "\n",
    "You need to understand how the backward function calculates the gradients. We can use the two examples above to help with that.\n",
    "\n",
    "Go through the following four steps and answer the questions on the way:\n",
    "\n",
    "1. We represent the two expressions as graphs as shown below. Fill in the missing expressions for the different derivatives.\n",
    "\n",
    "2. In the remainder consider the first expression. Make a schematic of the data structure which is generated when we define the expression for f. \n",
    "\n",
    "3. Then execute the backward function by hand to convince yourself that it indeed calculates the gradients with respect to the variables. \n",
    "\n",
    "4. Write down the sequence of calls to backprop."
   ]
  },
  {
   "cell_type": "code",
   "execution_count": 7,
   "metadata": {
    "id": "idGr71jYXl26"
   },
   "outputs": [],
   "source": [
    "# import logging\n",
    "import graphviz\n",
    "\n",
    "#logging.basicConfig(format='[%(levelname)s@%(name)s] %(message)s', level=logging.DEBUG)\n",
    "\n",
    "#graphviz.__version__, graphviz.version()"
   ]
  },
  {
   "cell_type": "code",
   "execution_count": 8,
   "metadata": {
    "colab": {
     "base_uri": "https://localhost:8080/",
     "height": 152
    },
    "id": "KPe30Q2QXzeG",
    "outputId": "7fa002cd-a018-4dbb-ddf1-28ed5e99ee19"
   },
   "outputs": [
    {
     "data": {
      "image/svg+xml": [
       "<?xml version=\"1.0\" encoding=\"UTF-8\" standalone=\"no\"?>\n",
       "<!DOCTYPE svg PUBLIC \"-//W3C//DTD SVG 1.1//EN\"\n",
       " \"http://www.w3.org/Graphics/SVG/1.1/DTD/svg11.dtd\">\n",
       "<!-- Generated by graphviz version 8.1.0 (20230707.0739)\n",
       " -->\n",
       "<!-- Title: first expression Pages: 1 -->\n",
       "<svg width=\"177pt\" height=\"98pt\"\n",
       " viewBox=\"0.00 0.00 176.75 98.00\" xmlns=\"http://www.w3.org/2000/svg\" xmlns:xlink=\"http://www.w3.org/1999/xlink\">\n",
       "<g id=\"graph0\" class=\"graph\" transform=\"scale(1 1) rotate(0) translate(4 94)\">\n",
       "<title>first expression</title>\n",
       "<polygon fill=\"white\" stroke=\"none\" points=\"-4,4 -4,-94 172.75,-94 172.75,4 -4,4\"/>\n",
       "<!-- a -->\n",
       "<g id=\"node1\" class=\"node\">\n",
       "<title>a</title>\n",
       "<ellipse fill=\"none\" stroke=\"black\" cx=\"18\" cy=\"-72\" rx=\"18\" ry=\"18\"/>\n",
       "<text text-anchor=\"middle\" x=\"18\" y=\"-66.58\" font-family=\"Times New Roman,serif\" font-size=\"14.00\">a</text>\n",
       "</g>\n",
       "<!-- f -->\n",
       "<g id=\"node2\" class=\"node\">\n",
       "<title>f</title>\n",
       "<ellipse fill=\"none\" stroke=\"black\" cx=\"150.75\" cy=\"-45\" rx=\"18\" ry=\"18\"/>\n",
       "<text text-anchor=\"middle\" x=\"150.75\" y=\"-39.58\" font-family=\"Times New Roman,serif\" font-size=\"14.00\">f</text>\n",
       "</g>\n",
       "<!-- a&#45;&gt;f -->\n",
       "<g id=\"edge1\" class=\"edge\">\n",
       "<title>a&#45;&gt;f</title>\n",
       "<path fill=\"none\" stroke=\"black\" d=\"M36.09,-68.47C57.92,-63.96 95.97,-56.1 121.99,-50.73\"/>\n",
       "<polygon fill=\"black\" stroke=\"black\" points=\"122.57,-53.98 131.65,-48.53 121.15,-47.13 122.57,-53.98\"/>\n",
       "<text text-anchor=\"middle\" x=\"84.38\" y=\"-66.45\" font-family=\"Times New Roman,serif\" font-size=\"14.00\">df/da=b+d</text>\n",
       "</g>\n",
       "<!-- b -->\n",
       "<g id=\"node3\" class=\"node\">\n",
       "<title>b</title>\n",
       "<ellipse fill=\"none\" stroke=\"black\" cx=\"18\" cy=\"-18\" rx=\"18\" ry=\"18\"/>\n",
       "<text text-anchor=\"middle\" x=\"18\" y=\"-12.57\" font-family=\"Times New Roman,serif\" font-size=\"14.00\">b</text>\n",
       "</g>\n",
       "<!-- b&#45;&gt;f -->\n",
       "<g id=\"edge2\" class=\"edge\">\n",
       "<title>b&#45;&gt;f</title>\n",
       "<path fill=\"none\" stroke=\"black\" d=\"M36.12,-19.86C55.41,-22.15 87.61,-26.58 114.75,-33.25 117.47,-33.92 120.29,-34.7 123.08,-35.54\"/>\n",
       "<polygon fill=\"black\" stroke=\"black\" points=\"121.94,-39.18 132.53,-38.93 124.1,-32.52 121.94,-39.18\"/>\n",
       "<text text-anchor=\"middle\" x=\"84.38\" y=\"-36.45\" font-family=\"Times New Roman,serif\" font-size=\"14.00\">df/db=a</text>\n",
       "</g>\n",
       "</g>\n",
       "</svg>\n"
      ],
      "text/plain": [
       "<graphviz.graphs.Digraph at 0x1e09f431db0>"
      ]
     },
     "execution_count": 8,
     "metadata": {},
     "output_type": "execute_result"
    }
   ],
   "source": [
    "e1 = graphviz.Digraph('first expression', filename='fsm.gv')\n",
    "\n",
    "e1.attr(rankdir='LR', size='8,5')\n",
    "\n",
    "e1.attr('node', shape='circle')\n",
    "e1.edge('a', 'f', label='df/da=b+d')\n",
    "e1.edge('b', 'f', label='df/db=a')\n",
    "\n",
    "e1"
   ]
  },
  {
   "cell_type": "code",
   "execution_count": 9,
   "metadata": {
    "colab": {
     "base_uri": "https://localhost:8080/",
     "height": 232
    },
    "id": "0nittR-mZFeX",
    "outputId": "fa3656a3-732c-4abe-8084-98a492b0d6be"
   },
   "outputs": [
    {
     "data": {
      "image/svg+xml": [
       "<?xml version=\"1.0\" encoding=\"UTF-8\" standalone=\"no\"?>\n",
       "<!DOCTYPE svg PUBLIC \"-//W3C//DTD SVG 1.1//EN\"\n",
       " \"http://www.w3.org/Graphics/SVG/1.1/DTD/svg11.dtd\">\n",
       "<!-- Generated by graphviz version 8.1.0 (20230707.0739)\n",
       " -->\n",
       "<!-- Title: second expression Pages: 1 -->\n",
       "<svg width=\"280pt\" height=\"161pt\"\n",
       " viewBox=\"0.00 0.00 280.25 161.00\" xmlns=\"http://www.w3.org/2000/svg\" xmlns:xlink=\"http://www.w3.org/1999/xlink\">\n",
       "<g id=\"graph0\" class=\"graph\" transform=\"scale(1 1) rotate(0) translate(4 157)\">\n",
       "<title>second expression</title>\n",
       "<polygon fill=\"white\" stroke=\"none\" points=\"-4,4 -4,-157 276.25,-157 276.25,4 -4,4\"/>\n",
       "<!-- a -->\n",
       "<g id=\"node1\" class=\"node\">\n",
       "<title>a</title>\n",
       "<ellipse fill=\"none\" stroke=\"black\" cx=\"18\" cy=\"-77\" rx=\"18\" ry=\"18\"/>\n",
       "<text text-anchor=\"middle\" x=\"18\" y=\"-71.58\" font-family=\"Times New Roman,serif\" font-size=\"14.00\">a</text>\n",
       "</g>\n",
       "<!-- c -->\n",
       "<g id=\"node2\" class=\"node\">\n",
       "<title>c</title>\n",
       "<ellipse fill=\"none\" stroke=\"black\" cx=\"137.25\" cy=\"-103\" rx=\"18\" ry=\"18\"/>\n",
       "<text text-anchor=\"middle\" x=\"137.25\" y=\"-97.58\" font-family=\"Times New Roman,serif\" font-size=\"14.00\">c</text>\n",
       "</g>\n",
       "<!-- a&#45;&gt;c -->\n",
       "<g id=\"edge1\" class=\"edge\">\n",
       "<title>a&#45;&gt;c</title>\n",
       "<path fill=\"none\" stroke=\"black\" d=\"M36.05,-80.78C55.07,-85 86.11,-91.88 108.61,-96.87\"/>\n",
       "<polygon fill=\"black\" stroke=\"black\" points=\"107.66,-100.47 118.18,-99.21 109.18,-93.63 107.66,-100.47\"/>\n",
       "<text text-anchor=\"middle\" x=\"77.62\" y=\"-96.45\" font-family=\"Times New Roman,serif\" font-size=\"14.00\">dc/da=b</text>\n",
       "</g>\n",
       "<!-- e -->\n",
       "<g id=\"node4\" class=\"node\">\n",
       "<title>e</title>\n",
       "<ellipse fill=\"none\" stroke=\"black\" cx=\"137.25\" cy=\"-49\" rx=\"18\" ry=\"18\"/>\n",
       "<text text-anchor=\"middle\" x=\"137.25\" y=\"-43.58\" font-family=\"Times New Roman,serif\" font-size=\"14.00\">e</text>\n",
       "</g>\n",
       "<!-- a&#45;&gt;e -->\n",
       "<g id=\"edge3\" class=\"edge\">\n",
       "<title>a&#45;&gt;e</title>\n",
       "<path fill=\"none\" stroke=\"black\" d=\"M35.25,-71.06C41.11,-69.05 47.8,-66.89 54,-65.25 71.89,-60.5 92.29,-56.46 108.31,-53.6\"/>\n",
       "<polygon fill=\"black\" stroke=\"black\" points=\"108.84,-56.88 118.09,-51.73 107.64,-49.99 108.84,-56.88\"/>\n",
       "<text text-anchor=\"middle\" x=\"77.62\" y=\"-68.45\" font-family=\"Times New Roman,serif\" font-size=\"14.00\">de/da=d</text>\n",
       "</g>\n",
       "<!-- f -->\n",
       "<g id=\"node6\" class=\"node\">\n",
       "<title>f</title>\n",
       "<ellipse fill=\"none\" stroke=\"black\" cx=\"254.25\" cy=\"-75\" rx=\"18\" ry=\"18\"/>\n",
       "<text text-anchor=\"middle\" x=\"254.25\" y=\"-69.58\" font-family=\"Times New Roman,serif\" font-size=\"14.00\">f</text>\n",
       "</g>\n",
       "<!-- c&#45;&gt;f -->\n",
       "<g id=\"edge5\" class=\"edge\">\n",
       "<title>c&#45;&gt;f</title>\n",
       "<path fill=\"none\" stroke=\"black\" d=\"M155.22,-98.87C173.84,-94.33 204,-86.99 225.96,-81.65\"/>\n",
       "<polygon fill=\"black\" stroke=\"black\" points=\"226.7,-84.82 235.59,-79.06 225.04,-78.02 226.7,-84.82\"/>\n",
       "<text text-anchor=\"middle\" x=\"195.75\" y=\"-95.45\" font-family=\"Times New Roman,serif\" font-size=\"14.00\">df/dc=1</text>\n",
       "</g>\n",
       "<!-- b -->\n",
       "<g id=\"node3\" class=\"node\">\n",
       "<title>b</title>\n",
       "<ellipse fill=\"none\" stroke=\"black\" cx=\"18\" cy=\"-135\" rx=\"18\" ry=\"18\"/>\n",
       "<text text-anchor=\"middle\" x=\"18\" y=\"-129.57\" font-family=\"Times New Roman,serif\" font-size=\"14.00\">b</text>\n",
       "</g>\n",
       "<!-- b&#45;&gt;c -->\n",
       "<g id=\"edge2\" class=\"edge\">\n",
       "<title>b&#45;&gt;c</title>\n",
       "<path fill=\"none\" stroke=\"black\" d=\"M35.72,-130.62C52.36,-126.23 78.6,-119.27 101.25,-113 103.77,-112.3 106.39,-111.57 109.01,-110.83\"/>\n",
       "<polygon fill=\"black\" stroke=\"black\" points=\"109.87,-113.94 118.53,-107.84 107.96,-107.21 109.87,-113.94\"/>\n",
       "<text text-anchor=\"middle\" x=\"77.62\" y=\"-127.45\" font-family=\"Times New Roman,serif\" font-size=\"14.00\">dc/db=a</text>\n",
       "</g>\n",
       "<!-- e&#45;&gt;f -->\n",
       "<g id=\"edge6\" class=\"edge\">\n",
       "<title>e&#45;&gt;f</title>\n",
       "<path fill=\"none\" stroke=\"black\" d=\"M155.65,-50.54C172.01,-52.25 197.09,-55.55 218.25,-61.25 221.26,-62.06 224.37,-63.05 227.44,-64.12\"/>\n",
       "<polygon fill=\"black\" stroke=\"black\" points=\"225.88,-67.65 236.47,-67.94 228.37,-61.11 225.88,-67.65\"/>\n",
       "<text text-anchor=\"middle\" x=\"195.75\" y=\"-64.45\" font-family=\"Times New Roman,serif\" font-size=\"14.00\">df/de=1</text>\n",
       "</g>\n",
       "<!-- d -->\n",
       "<g id=\"node5\" class=\"node\">\n",
       "<title>d</title>\n",
       "<ellipse fill=\"none\" stroke=\"black\" cx=\"18\" cy=\"-18\" rx=\"18\" ry=\"18\"/>\n",
       "<text text-anchor=\"middle\" x=\"18\" y=\"-12.57\" font-family=\"Times New Roman,serif\" font-size=\"14.00\">d</text>\n",
       "</g>\n",
       "<!-- d&#45;&gt;e -->\n",
       "<g id=\"edge4\" class=\"edge\">\n",
       "<title>d&#45;&gt;e</title>\n",
       "<path fill=\"none\" stroke=\"black\" d=\"M36.18,-21.13C52.93,-24.34 79.06,-29.78 101.25,-36.25 104.06,-37.07 106.98,-38 109.87,-38.97\"/>\n",
       "<polygon fill=\"black\" stroke=\"black\" points=\"108.42,-42.53 119.02,-42.58 110.77,-35.94 108.42,-42.53\"/>\n",
       "<text text-anchor=\"middle\" x=\"77.62\" y=\"-39.45\" font-family=\"Times New Roman,serif\" font-size=\"14.00\">de/dd=a</text>\n",
       "</g>\n",
       "</g>\n",
       "</svg>\n"
      ],
      "text/plain": [
       "<graphviz.graphs.Digraph at 0x1e09f432ce0>"
      ]
     },
     "execution_count": 9,
     "metadata": {},
     "output_type": "execute_result"
    }
   ],
   "source": [
    "e2 = graphviz.Digraph('second expression', filename='fsm.gv')\n",
    "\n",
    "e2.attr(rankdir='LR', size='8,5')\n",
    "\n",
    "e2.attr('node', shape='circle')\n",
    "e2.edge('a', 'c', label='dc/da=b')\n",
    "e2.edge('b', 'c', label='dc/db=a')\n",
    "e2.edge('a', 'e', label='de/da=d')\n",
    "e2.edge('d', 'e', label='de/dd=a')\n",
    "e2.edge('c', 'f', label='df/dc=1')\n",
    "e2.edge('e', 'f', label='df/de=1')\n",
    "\n",
    "e2"
   ]
  },
  {
   "cell_type": "markdown",
   "metadata": {
    "id": "A5oi21W4gpeM"
   },
   "source": [
    "## Exercise c) What happens if we run backward again?\n",
    "\n",
    "Try to execute the code below. Explain what happens.\n",
    "\n",
    "Because we have not reinitialized the object, the initial gradient is not set to zero, as it should be. Thus, the gradient of f with respect to f is 2, and every other gradient is double. The values of the variables are not affected."
   ]
  },
  {
   "cell_type": "code",
   "execution_count": 10,
   "metadata": {
    "colab": {
     "base_uri": "https://localhost:8080/"
    },
    "id": "DCtpJyr-gyX1",
    "outputId": "d014bcfa-c9ae-49c3-d268-91cc6ca94ea5"
   },
   "outputs": [
    {
     "name": "stdout",
     "output_type": "stream",
     "text": [
      "Var(v=3.0000, grad=28.0000)\n",
      "Var(v=5.0000, grad=6.0000)\n",
      "Var(v=15.0000, grad=2.0000)\n",
      "Var(v=9.0000, grad=6.0000)\n",
      "Var(v=27.0000, grad=2.0000)\n",
      "Var(v=42.0000, grad=2.0000)\n"
     ]
    }
   ],
   "source": [
    "f.backward()\n",
    "\n",
    "for v in [a, b, c, d, e, f]:\n",
    "    print(v)"
   ]
  },
  {
   "cell_type": "markdown",
   "metadata": {
    "id": "e8bPVq2VhsP-"
   },
   "source": [
    "## Exercise d) Zero gradient\n",
    "\n",
    "We can zero the gradient by backpropagating a -1.0 as is shown in the example below. (If you have run backward multiple time then you also have to run the cell below an equal amount of times.) Explain what is going on.\n",
    "\n",
    "The call to backprop decrements `self.grad` from 1 to 2, so the resulting gradients are correct."
   ]
  },
  {
   "cell_type": "code",
   "execution_count": 11,
   "metadata": {
    "colab": {
     "base_uri": "https://localhost:8080/"
    },
    "id": "OnyPDQx9lJe0",
    "outputId": "7a125fdc-60c4-4340-a580-8b82aea5b0db"
   },
   "outputs": [
    {
     "name": "stdout",
     "output_type": "stream",
     "text": [
      "Var(v=2.0000, grad=0.0000)\n",
      "Var(v=5.0000, grad=6.0000)\n",
      "Var(v=15.0000, grad=2.0000)\n",
      "Var(v=9.0000, grad=6.0000)\n",
      "Var(v=27.0000, grad=2.0000)\n",
      "Var(v=42.0000, grad=2.0000)\n",
      "Var(v=2.0000, grad=0.0000)\n",
      "Var(v=5.0000, grad=3.0000)\n",
      "Var(v=15.0000, grad=1.0000)\n",
      "Var(v=9.0000, grad=3.0000)\n",
      "Var(v=27.0000, grad=1.0000)\n",
      "Var(v=42.0000, grad=1.0000)\n"
     ]
    }
   ],
   "source": [
    "a = Var(2.0)\n",
    "\n",
    "for v in [a, b, c, d, e, f]:\n",
    "    print(v)\n",
    "\n",
    "f.backprop(-1.0)\n",
    "\n",
    "for v in [a, b, c, d, e, f]:\n",
    "    print(v)"
   ]
  },
  {
   "cell_type": "markdown",
   "metadata": {
    "id": "U4057_ljNvWB"
   },
   "source": [
    "## Exercise e) Test correctness of derivatives with the finite difference method\n",
    "\n",
    "Write a small function that uses [the finite difference method](https://en.wikipedia.org/wiki/Finite_difference_method) to numerically test that backpropation implementation is working. In short we will use\n",
    "$$\n",
    "\\frac{\\partial f(a)}{\\partial a} \\approx \\frac{f(a+da)-f(a)}{da}\n",
    "$$\n",
    "for $da \\ll 1$.\n",
    "\n",
    "As an example, we could approximate the derivative of the function $f(a)=a^2$ in e.g. the value $a=4$ using the finite difference method. This amounts to inserting the relevant values and approximating the gradient $f'(4)$ with the fraction above. \n"
   ]
  },
  {
   "cell_type": "code",
   "execution_count": 12,
   "metadata": {
    "colab": {
     "base_uri": "https://localhost:8080/"
    },
    "id": "9TGil92lSXDN",
    "outputId": "7ef5489b-b525-4132-ab08-0b1109c07f4d"
   },
   "outputs": [
    {
     "name": "stdout",
     "output_type": "stream",
     "text": [
      "Var(v=4.0000, grad=8.0000)\n",
      "Var(v=16.0000, grad=1.0000)\n",
      "8.000000661922968\n"
     ]
    }
   ],
   "source": [
    "# f function - try to change the code to test other types of functions as well (such as different polynomials etc.)\n",
    "def f_function(a):\n",
    "  a = Var(a)\n",
    "  f = a ** 2\n",
    "  f.backward()\n",
    "  return a,f\n",
    "\n",
    "a = 4.0\n",
    "avar, f = f_function(a)\n",
    "for v in (avar, f):\n",
    "  print(v)\n",
    "\n",
    "# Insert your finite difference code here\n",
    "def finite_difference(fun, a, da=1e-10):\n",
    "    \"\"\"\n",
    "    This function compute the finite difference between\n",
    "    \n",
    "    Input:\n",
    "    da:          The finite difference                           (float)\n",
    "    \n",
    "    Output:\n",
    "    finite_difference: numerical approximation to the derivative (float) \n",
    "    \"\"\"\n",
    "    \n",
    "    fa_da = fun(a + da)[-1].v           # <- Insert correct expression\n",
    "    fa = fun(a)[-1].v               # <- Insert correct expression\n",
    "\n",
    "    finite_difference = (fa_da - fa) / da\n",
    "    \n",
    "    return finite_difference\n",
    "\n",
    "fd = finite_difference(f_function, a)\n",
    "print(fd)\n",
    "assert np.isclose(fd, avar.grad)"
   ]
  },
  {
   "cell_type": "markdown",
   "metadata": {
    "id": "6pZar5RKaUkg"
   },
   "source": [
    "# Create an artificial dataset to play with\n",
    "\n",
    "We create a non-linear 1d regression task. The generator supports various noise levels and it creates train, validation and test sets. You can modify it yourself if you want more or less challenging tasks."
   ]
  },
  {
   "cell_type": "code",
   "execution_count": 13,
   "metadata": {
    "id": "Y6yfMAQ8aduj"
   },
   "outputs": [],
   "source": [
    "import numpy as np\n",
    "import matplotlib.pyplot as plt\n",
    "\n",
    "np.random.seed(42)"
   ]
  },
  {
   "cell_type": "code",
   "execution_count": 14,
   "metadata": {
    "id": "4YabfD43ajNh"
   },
   "outputs": [],
   "source": [
    "def data_generator(noise=0.1, n_samples=300, D1=True):\n",
    "    # Create covariates and response variable\n",
    "    if D1:\n",
    "        X = np.linspace(-3, 3, num=n_samples).reshape(-1,1) # 1-D\n",
    "        np.random.shuffle(X)\n",
    "        y = np.random.normal((0.5*np.sin(X[:,0]*3) + X[:,0]), noise) # 1-D with trend\n",
    "    else:\n",
    "        X = np.random.multivariate_normal(np.zeros(3), noise*np.eye(3), size = n_samples) # 3-D\n",
    "        np.random.shuffle(X)    \n",
    "        y = np.sin(X[:,0]) - 5*(X[:,1]**2) + 0.5*X[:,2] # 3-D\n",
    "\n",
    "    # Stack them together vertically to split data set\n",
    "    data_set = np.vstack((X.T,y)).T\n",
    "    \n",
    "    train, validation, test = np.split(data_set, [int(0.35*n_samples), int(0.7*n_samples)], axis=0)\n",
    "    \n",
    "    # Standardization of the data, remember we do the standardization with the training set mean and standard deviation\n",
    "    train_mu = np.mean(train, axis=0)\n",
    "    train_sigma = np.std(train, axis=0)\n",
    "    \n",
    "    train = (train-train_mu)/train_sigma\n",
    "    validation = (validation-train_mu)/train_sigma\n",
    "    test = (test-train_mu)/train_sigma\n",
    "    \n",
    "    x_train, x_validation, x_test = train[:,:-1], validation[:,:-1], test[:,:-1]\n",
    "    y_train, y_validation, y_test = train[:,-1], validation[:,-1], test[:,-1]\n",
    "\n",
    "    return x_train, y_train,  x_validation, y_validation, x_test, y_test"
   ]
  },
  {
   "cell_type": "code",
   "execution_count": 15,
   "metadata": {
    "id": "u1oDngHLapIz"
   },
   "outputs": [],
   "source": [
    "D1 = True\n",
    "x_train, y_train,  x_validation, y_validation, x_test, y_test = data_generator(noise=0.5, D1=D1)"
   ]
  },
  {
   "cell_type": "code",
   "execution_count": 16,
   "metadata": {
    "colab": {
     "base_uri": "https://localhost:8080/",
     "height": 265
    },
    "id": "Ysfa3FsBavlm",
    "outputId": "399e5382-ae7d-48f6-9774-7ea4c73e7d95"
   },
   "outputs": [
    {
     "data": {
      "image/png": "[encoded data removed]",
      "text/plain": [
       "<Figure size 640x480 with 1 Axes>"
      ]
     },
     "metadata": {},
     "output_type": "display_data"
    }
   ],
   "source": [
    "if D1:\n",
    "    plt.scatter(x_train[:,0], y_train)\n",
    "    plt.scatter(x_validation[:,0], y_validation)\n",
    "    plt.scatter(x_test[:,0], y_test)\n",
    "else:\n",
    "    plt.scatter(x_train[:,1], y_train)\n",
    "    plt.scatter(x_validation[:,1], y_validation)\n",
    "    plt.scatter(x_test[:,1], y_test)\n",
    "plt.show()"
   ]
  },
  {
   "cell_type": "code",
   "execution_count": 17,
   "metadata": {
    "id": "zac2HHNlgbpm"
   },
   "outputs": [],
   "source": [
    "# convert from nparray to Var\n",
    "def nparray_to_Var(x):\n",
    "  if x.ndim==1:\n",
    "    y = [[Var(float(x[i]))] for i in range(x.shape[0])] # always work with list of list\n",
    "  else:\n",
    "    y = [[Var(float(x[i,j])) for j in range(x.shape[1])] for i in range(x.shape[0])]\n",
    "  return y\n",
    "   \n",
    "x_train = nparray_to_Var(x_train)\n",
    "y_train = nparray_to_Var(y_train)\n",
    "x_validation = nparray_to_Var(x_validation)\n",
    "y_validation = nparray_to_Var(y_validation)\n",
    "x_test = nparray_to_Var(x_test)\n",
    "y_test = nparray_to_Var(y_test)\n"
   ]
  },
  {
   "cell_type": "markdown",
   "metadata": {
    "id": "VbjrqcpVFtGe"
   },
   "source": [
    "# Defining and initializing the network\n",
    "\n",
    "The steps to create a feed forward neural network are the following:\n",
    "\n",
    "1. **Number of hidden layer and hidden units**. We have to define the number of hidden units in each layer. The number of features in X and the output dimensionality (the size of Y) are given but the numbers in between are set by the researcher. Remember that for each unit in each layer beside in the input has a bias term.\n",
    "2. **Activation functions** for each hidden layer. Each hidden layer in your list must have an activation function (it can also be the linear activation which is equivalent to identity function). The power of neural networks comes from non-linear activation functions that learn representations (features) from the data allowing us to learn from it. \n",
    "3. **Parameter initialization**. We will initialize the weights to have random values. This is done in practice by drawing pseudo random numbers from a Gaussian or uniform distribution. It turns out that for deeper models we have to be careful about how we scale the random numbers. This will be the topic of the exercise below. For now we will just use unit variance Gaussians.  \n",
    "\n",
    "In order to make life easier for ourselves we define a DenseLayer class that takes care of initialization and the forward pass. We can also extend it later with print and advanced initialization capabilities. For the latter we have introduced a Initializer class.\n",
    "\n",
    "Note that we use Sequence in the code below. A Sequence is an ordered list. This means the order we insert and access items are the same."
   ]
  },
  {
   "cell_type": "code",
   "execution_count": 18,
   "metadata": {
    "id": "ij_ieRsAt7Xt"
   },
   "outputs": [],
   "source": [
    "class Initializer:\n",
    "\n",
    "  def init_weights(self, n_in, n_out):\n",
    "    raise NotImplementedError\n",
    "\n",
    "  def init_bias(self, n_out):\n",
    "    raise NotImplementedError"
   ]
  },
  {
   "cell_type": "code",
   "execution_count": 19,
   "metadata": {
    "id": "eb18N5phuIha"
   },
   "outputs": [],
   "source": [
    "import random\n",
    "\n",
    "class NormalInitializer(Initializer):\n",
    "\n",
    "  def __init__(self, mean=0, std=0.1):\n",
    "    self.mean = mean\n",
    "    self.std = std\n",
    "\n",
    "  def init_weights(self, n_in, n_out):\n",
    "    return [[Var(random.gauss(self.mean, self.std)) for _ in range(n_out)] for _ in range(n_in)]\n",
    "\n",
    "  def init_bias(self, n_out):\n",
    "    return [Var(0.0) for _ in range(n_out)]\n",
    "\n",
    "class ConstantInitializer(Initializer):\n",
    "\n",
    "  def __init__(self, weight=1.0, bias=0.0):\n",
    "    self.weight = weight\n",
    "    self.bias = bias\n",
    "\n",
    "  def init_weights(self, n_in, n_out):\n",
    "    return [[Var(self.weight) for _ in range(n_out)] for _ in range(n_in)]\n",
    "\n",
    "  def init_bias(self, n_out):\n",
    "    return [Var(self.bias) for _ in range(n_out)]"
   ]
  },
  {
   "cell_type": "code",
   "execution_count": 26,
   "metadata": {
    "id": "jOLYGnZKuM6W"
   },
   "outputs": [],
   "source": [
    "from typing import Sequence\n",
    "\n",
    "class DenseLayer:\n",
    "    def __init__(self, n_in: int, n_out: int, act_fn, initializer = NormalInitializer()):\n",
    "        self.weights = initializer.init_weights(n_in, n_out)\n",
    "        self.bias = initializer.init_bias(n_out)\n",
    "        self.act_fn = act_fn\n",
    "    \n",
    "    def __repr__(self):    \n",
    "        return 'Weights: ' + repr(self.weights) + ' Biases: ' + repr(self.bias)\n",
    "\n",
    "    def parameters(self) -> Sequence[Var]:\n",
    "      params = []\n",
    "      for r in self.weights:\n",
    "        params += r\n",
    "\n",
    "      return params + self.bias\n",
    "\n",
    "    def forward(self, single_input: Sequence[Var]) -> Sequence[Var]:\n",
    "        # self.weights is a matrix with dimension n_in x n_out. We check that the dimensionality of the input \n",
    "        # to the current layer matches the number of nodes in the current layer\n",
    "        assert len(self.weights) == len(single_input), \"weights and single_input must match in first dimension\"\n",
    "        weights = self.weights\n",
    "        out = []  # will end up being length n_out, number of nodes in current layer\n",
    "        # For some given data point single_input, we now want to calculate the resulting value in each node in the current layer\n",
    "        # We therefore loop over the (number of) nodes in the current layer (n_out)\n",
    "        for j in range(len(weights[0])): \n",
    "            # Initialize the node value depending on its corresponding parameters.\n",
    "            node = Var(0.0)  # initialize node to zero\n",
    "            # We now finish the linear transformation corresponding to the parameters of the currently considered node.\n",
    "            for i in range(len(single_input)):  # loop over inputs to the node\n",
    "                node += weights[i][j] * single_input[i]  # <- Insert code\n",
    "            # add the bias\n",
    "            node += self.bias[j]\n",
    "            # apply the activation function\n",
    "            node = self.act_fn(node)\n",
    "            out.append(node)\n",
    "\n",
    "        return out\n",
    "    \n",
    "    def print_parameters(self):\n",
    "        print('  Bias:')\n",
    "        for i_b in range(len(self.bias)):\n",
    "            print('    ', self.bias[i_b])\n",
    "        print('  Weights:')\n",
    "        for j in range(len(self.weights)):\n",
    "            print('    ', self.weights[j])"
   ]
  },
  {
   "cell_type": "markdown",
   "metadata": {
    "id": "jpIZPBpNI0pO"
   },
   "source": [
    "## Exercise f) Add more activation functions\n",
    "\n",
    "To have a full definition of the neural network, we must define an activation function for every layer. Several activation functions have been proposed and have different characteristics. In the Var class we have already defined the rectified linear init (relu). \n",
    " \n",
    "Implement the following activation functions in the Var class:\n",
    "\n",
    "* Identity: $$\\mathrm{identity}(x) = x$$\n",
    "* Hyperbolic tangent: $$\\tanh(x)$$\n",
    "* Sigmoid (or logistic function): $$\\mathrm{sigmoid}(x) = \\frac{1}{1.0 + \\exp(-x ) }$$  Hint: $\\mathrm{sigmoid}'(x)= \\mathrm{sigmoid}(x)(1-\\mathrm{sigmoid}(x))$.  \n",
    "\n",
    "Hint: You can seek inspiration in the relu method in the Var class."
   ]
  },
  {
   "cell_type": "markdown",
   "metadata": {
    "id": "p_8n_SKnIW2F"
   },
   "source": [
    "## Exercise g) Complete the forward pass\n",
    "\n",
    "In the code below we initialize a 1-5-1 network and pass the training set through it. *The forward method in DenseLayer is **not** complete*. It just outputs zeros right now. The method forward should perform an [affine transformation](https://en.wikipedia.org/wiki/Affine_transformation) on the input followed by an application of the activation function."
   ]
  },
  {
   "cell_type": "code",
   "execution_count": 27,
   "metadata": {
    "colab": {
     "base_uri": "https://localhost:8080/",
     "height": 337
    },
    "id": "xDEjtePxE7Mv",
    "outputId": "753406cd-d8a1-4282-ce03-25ad959b0e11"
   },
   "outputs": [
    {
     "name": "stdout",
     "output_type": "stream",
     "text": [
      "[[Var(v=-0.0025, grad=0.0000)], [Var(v=-0.0050, grad=0.0000)], [Var(v=-0.0004, grad=0.0000)], [Var(v=-0.0096, grad=0.0000)], [Var(v=-0.0037, grad=0.0000)], [Var(v=-0.0034, grad=0.0000)], [Var(v=-0.0022, grad=0.0000)], [Var(v=-0.0023, grad=0.0000)], [Var(v=-0.0099, grad=0.0000)], [Var(v=-0.0014, grad=0.0000)], [Var(v=-0.0038, grad=0.0000)], [Var(v=-0.0061, grad=0.0000)], [Var(v=-0.0031, grad=0.0000)], [Var(v=-0.0070, grad=0.0000)], [Var(v=-0.0016, grad=0.0000)], [Var(v=-0.0032, grad=0.0000)], [Var(v=-0.0059, grad=0.0000)], [Var(v=-0.0028, grad=0.0000)], [Var(v=-0.0003, grad=0.0000)], [Var(v=-0.0010, grad=0.0000)], [Var(v=-0.0046, grad=0.0000)], [Var(v=-0.0020, grad=0.0000)], [Var(v=-0.0043, grad=0.0000)], [Var(v=-0.0043, grad=0.0000)], [Var(v=-0.0027, grad=0.0000)], [Var(v=-0.0072, grad=0.0000)], [Var(v=-0.0055, grad=0.0000)], [Var(v=-0.0061, grad=0.0000)], [Var(v=-0.0006, grad=0.0000)], [Var(v=-0.0038, grad=0.0000)], [Var(v=-0.0090, grad=0.0000)], [Var(v=-0.0009, grad=0.0000)], [Var(v=-0.0078, grad=0.0000)], [Var(v=-0.0085, grad=0.0000)], [Var(v=-0.0029, grad=0.0000)], [Var(v=-0.0016, grad=0.0000)], [Var(v=-0.0097, grad=0.0000)], [Var(v=-0.0037, grad=0.0000)], [Var(v=-0.0069, grad=0.0000)], [Var(v=-0.0049, grad=0.0000)], [Var(v=-0.0035, grad=0.0000)], [Var(v=-0.0047, grad=0.0000)], [Var(v=-0.0057, grad=0.0000)], [Var(v=-0.0059, grad=0.0000)], [Var(v=-0.0046, grad=0.0000)], [Var(v=-0.0057, grad=0.0000)], [Var(v=-0.0037, grad=0.0000)], [Var(v=-0.0035, grad=0.0000)], [Var(v=-0.0022, grad=0.0000)], [Var(v=-0.0036, grad=0.0000)], [Var(v=-0.0016, grad=0.0000)], [Var(v=-0.0001, grad=0.0000)], [Var(v=-0.0039, grad=0.0000)], [Var(v=-0.0048, grad=0.0000)], [Var(v=-0.0062, grad=0.0000)], [Var(v=-0.0054, grad=0.0000)], [Var(v=-0.0032, grad=0.0000)], [Var(v=-0.0035, grad=0.0000)], [Var(v=-0.0020, grad=0.0000)], [Var(v=-0.0084, grad=0.0000)], [Var(v=-0.0036, grad=0.0000)], [Var(v=-0.0060, grad=0.0000)], [Var(v=-0.0098, grad=0.0000)], [Var(v=-0.0018, grad=0.0000)], [Var(v=-0.0013, grad=0.0000)], [Var(v=-0.0081, grad=0.0000)], [Var(v=-0.0087, grad=0.0000)], [Var(v=-0.0046, grad=0.0000)], [Var(v=-0.0062, grad=0.0000)], [Var(v=-0.0018, grad=0.0000)], [Var(v=-0.0024, grad=0.0000)], [Var(v=-0.0011, grad=0.0000)], [Var(v=-0.0035, grad=0.0000)], [Var(v=-0.0021, grad=0.0000)], [Var(v=-0.0008, grad=0.0000)], [Var(v=-0.0056, grad=0.0000)], [Var(v=-0.0043, grad=0.0000)], [Var(v=-0.0041, grad=0.0000)], [Var(v=-0.0054, grad=0.0000)], [Var(v=-0.0058, grad=0.0000)], [Var(v=-0.0009, grad=0.0000)], [Var(v=-0.0005, grad=0.0000)], [Var(v=-0.0089, grad=0.0000)], [Var(v=-0.0012, grad=0.0000)], [Var(v=-0.0045, grad=0.0000)], [Var(v=-0.0019, grad=0.0000)], [Var(v=-0.0016, grad=0.0000)], [Var(v=-0.0050, grad=0.0000)], [Var(v=-0.0092, grad=0.0000)], [Var(v=-0.0095, grad=0.0000)], [Var(v=-0.0021, grad=0.0000)], [Var(v=-0.0029, grad=0.0000)], [Var(v=-0.0053, grad=0.0000)], [Var(v=-0.0033, grad=0.0000)], [Var(v=-0.0076, grad=0.0000)], [Var(v=-0.0091, grad=0.0000)], [Var(v=-0.0015, grad=0.0000)], [Var(v=-0.0003, grad=0.0000)], [Var(v=-0.0053, grad=0.0000)], [Var(v=-0.0054, grad=0.0000)], [Var(v=-0.0035, grad=0.0000)], [Var(v=-0.0052, grad=0.0000)], [Var(v=-0.0080, grad=0.0000)], [Var(v=-0.0017, grad=0.0000)], [Var(v=-0.0049, grad=0.0000)]]\n"
     ]
    }
   ],
   "source": [
    "NN = [\n",
    "    DenseLayer(1, 5, lambda x: x.relu()),\n",
    "    DenseLayer(5, 1, lambda x: x.identity())\n",
    "]\n",
    "\n",
    "def forward(input, network):\n",
    "\n",
    "  def forward_single(x, network):\n",
    "    for layer in network:\n",
    "        x = layer.forward(x)\n",
    "    return x\n",
    "\n",
    "  output = [ forward_single(input[n], network) for n in range(len(input))]\n",
    "  return output\n",
    "\n",
    "network_output = forward(x_train, NN)\n",
    "print(network_output)\n"
   ]
  },
  {
   "cell_type": "markdown",
   "metadata": {
    "id": "oLrGJytZFtGm"
   },
   "source": [
    "## Exercise h) Print all network parameters\n",
    "\n",
    "Make a function that prints all the parameters of the network (weights and biases) with information about in which layer the appear. In the object oriented spirit you should introduce a method in the DenseLayer class to print the parameters of a layer. Hint: You can take inspiration from the corresponding method in Var. "
   ]
  },
  {
   "cell_type": "code",
   "execution_count": 53,
   "metadata": {
    "id": "iac-VwYGFtGm"
   },
   "outputs": [
    {
     "name": "stdout",
     "output_type": "stream",
     "text": [
      "Layer 1\n",
      "  Bias:\n",
      "     Var(v=0.0000, grad=0.0000)\n",
      "  Weights:\n",
      "     [Var(v=1.0000, grad=0.0000)]\n"
     ]
    }
   ],
   "source": [
    "def print_network(network):\n",
    "    for il in range(len(network)):\n",
    "        print('Layer %i' % (il + 1))\n",
    "        network[il].print_parameters()\n",
    "\n",
    "print_network(NN)"
   ]
  },
  {
   "cell_type": "markdown",
   "metadata": {
    "id": "_79HOAXrFtHK"
   },
   "source": [
    "## Visualization\n",
    "\n",
    "Now that we have defined our activation functions we can visualize them to see what they look like:"
   ]
  },
  {
   "cell_type": "code",
   "execution_count": 48,
   "metadata": {
    "id": "1FcylHqLTl-Z"
   },
   "outputs": [
    {
     "data": {
      "text/plain": [
       "[<matplotlib.lines.Line2D at 0x1e0a1bfa9e0>]"
      ]
     },
     "execution_count": 48,
     "metadata": {},
     "output_type": "execute_result"
    },
    {
     "data": {
      "image/png": "[encoded data removed]",
      "text/plain": [
       "<Figure size 640x480 with 1 Axes>"
      ]
     },
     "metadata": {},
     "output_type": "display_data"
    }
   ],
   "source": [
    "x = np.linspace(-6, 6, 100)\n",
    "\n",
    "# convert from Var to ndarray  \n",
    "def Var_to_nparray(x):\n",
    "  y = np.zeros((len(x),len(x[0])))\n",
    "  for i in range(len(x)):\n",
    "    for j in range(len(x[0])):\n",
    "      y[i,j] = x[i][j].v\n",
    "  return y\n",
    "\n",
    "# define 1-1 network with weight = 1 and relu activation \n",
    "NN = [ DenseLayer(1, 1, lambda x: x.relu(), initializer = ConstantInitializer(1.0)) ] \n",
    "y = Var_to_nparray(forward(nparray_to_Var(x), NN))\n",
    "\n",
    "#y = Var_to_nparray(relu(nparray_to_Var(x)))\n",
    "plt.plot(x,y)"
   ]
  },
  {
   "cell_type": "code",
   "execution_count": 136,
   "metadata": {
    "id": "oOL2UolJFtHL"
   },
   "outputs": [
    {
     "data": {
      "image/png": "[encoded data removed]",
      "text/plain": [
       "<Figure size 500x500 with 1 Axes>"
      ]
     },
     "metadata": {},
     "output_type": "display_data"
    }
   ],
   "source": [
    "# Testing all activation layers\n",
    "\n",
    "x = np.linspace(-6, 6, 100)\n",
    "units = {\n",
    "    \"identity\": lambda x: x.identity(),\n",
    "    \"sigmoid\": lambda x: x.sigmoid(),\n",
    "    \"relu\": lambda x: x.relu(),\n",
    "    \"tanh\": lambda x: x.tanh()\n",
    "}\n",
    "\n",
    "plt.figure(figsize=(5, 5))\n",
    "[plt.plot(x, Var_to_nparray(forward(nparray_to_Var(x), [DenseLayer(1, 1, unit, initializer = ConstantInitializer(1.0))]) ), label=unit_name, lw=2) for unit_name, unit in units.items()] # unit(nparray_to_Var(x))), label=unit_name, lw=2) for unit_name, unit in units.items()]\n",
    "plt.legend(loc=2, fontsize=16)\n",
    "plt.title('Our activation functions', fontsize=20)\n",
    "plt.ylim([-2, 5])\n",
    "plt.xlim([-6, 6])\n",
    "plt.show()"
   ]
  },
  {
   "cell_type": "markdown",
   "metadata": {
    "id": "b-jdEl-7FtGs"
   },
   "source": [
    "# Advanced initialization schemes\n",
    "\n",
    "If we are not careful with initialization, the signals we propagate forward ($a^{(l)}$, $l=1,\\ldots,L$) and backward ($\\delta^l$, $l=L,L-1,\\ldots,1$) can blow up or shrink to zero. A statistical analysis of the variance of the signals for different activation functions can be found in these two papers: [Glorot initialization](http://proceedings.mlr.press/v9/glorot10a/glorot10a.pdf) and [He initialization](https://arxiv.org/pdf/1502.01852v1.pdf). \n",
    "\n",
    "The result of the analyses are proposals for how to make the initialization such that the variance of the signals (forward and backward) are kept approxmimatly constant when propagating from layer to layer. The exact expressions depend upon the non-linear activation function used. In Glorot initialization, the aim is to keep both the forward and backward variances constant whereas He only aims at keeping the variance in the forward pass constant.\n",
    "\n",
    "We define $n_{in}$ and $n_{out}$ as the number of input units and output units of a particular layer. \n",
    "\n",
    "The Glorot initialization has the form: \n",
    "\n",
    "$$w_{ij} \\sim N \\bigg( 0, \\, \\frac{2 \\alpha }{n_{in} + n_{out}} \\bigg) \\ . $$\n",
    "\n",
    "where $N(\\mu,\\sigma^2)$ is a Gaussian distribution with mean $\\mu$ and variance $\\sigma^2$ and $\\alpha$ is a parameter that depends upon the activation function used. For $\\tanh$, $\\alpha=1$ and for Rectified Linear Unit (ReLU) activations, $\\alpha=2$. (It is also possible to use a uniform distribution for initialization, see [this blog post](https://mmuratarat.github.io/2019-02-25/xavier-glorot-he-weight-init).) \n",
    "\n",
    "The He initialization is very similar\n",
    "\n",
    "$$w_{ij} \\sim N \\bigg( 0, \\, \\frac{\\alpha}{n_{in}} \\bigg) \\ . $$"
   ]
  },
  {
   "cell_type": "markdown",
   "metadata": {
    "id": "mqeyab9qFtGs"
   },
   "source": [
    "## Exercise i) Glorot and He initialization\n",
    " \n",
    "Using the Initializer class, implement functions that implement Glorot and He \n",
    "\n",
    "Explain briefly how you would test numerically that these initializations have the sought after property. Hint: See plots in Glorot paper.\n",
    "\n",
    "Comment: If you want to be more advanced then try to make a universal initializer taking both the activation function and type (Glorot or He) as argument."
   ]
  },
  {
   "cell_type": "code",
   "execution_count": 30,
   "metadata": {
    "id": "Qyk01CgaFtGt"
   },
   "outputs": [],
   "source": [
    "## Glorot\n",
    "def DenseLayer_Glorot_tanh(n_in: int, n_out: int):\n",
    "  var = 2*alpha / (n_in + n_out)\n",
    "  std = np.sqrt(var) # <- replace with proper initialization\n",
    "  return DenseLayer(n_in, n_out, lambda x: x.tanh(), initializer = NormalInitializer(std))\n",
    "\n",
    "## He\n",
    "def DenseLayer_He_relu(n_in: int, n_out: int):\n",
    "  var = alpha / n_in\n",
    "  std = np.sqrt(var) # <- replace with proper initialization\n",
    "  return DenseLayer(n_in, n_out, lambda x: x.relu(), initializer = NormalInitializer(std))"
   ]
  },
  {
   "cell_type": "markdown",
   "metadata": {
    "id": "-XyXBD37FtHk"
   },
   "source": [
    "## Exercise j) Forward pass unit test\n",
    "\n",
    "Write a bit of code to make a unit test that the forward pass works. This can be done by defining a simple network with for example all weights equal to one (using the ConstantInitializer method) and identity activation functions. \n",
    "\n",
    "Hints: Use the [assert](https://www.w3schools.com/python/ref_keyword_assert.asp), the nparray_to_Var and the Var_to_nparray commands. "
   ]
  },
  {
   "cell_type": "code",
   "execution_count": 69,
   "metadata": {
    "id": "k0miqRUAFtHl"
   },
   "outputs": [
    {
     "name": "stdout",
     "output_type": "stream",
     "text": [
      "Input: [-2. -1.  0.  1.]\n",
      "Layer 1\n",
      "  Bias:\n",
      "     Var(v=1.0000, grad=0.0000)\n",
      "     Var(v=1.0000, grad=0.0000)\n",
      "  Weights:\n",
      "     [Var(v=1.0000, grad=0.0000), Var(v=1.0000, grad=0.0000)]\n",
      "Layer 2\n",
      "  Bias:\n",
      "     Var(v=1.0000, grad=0.0000)\n",
      "  Weights:\n",
      "     [Var(v=1.0000, grad=0.0000)]\n",
      "     [Var(v=1.0000, grad=0.0000)]\n"
     ]
    }
   ],
   "source": [
    "# Insert code here\n",
    "weight, bias = 1.0, 1.0\n",
    "NNtest = [\n",
    "    DenseLayer(1, 2, lambda x: x.identity(), initializer=ConstantInitializer(weight=weight, bias=bias)),\n",
    "    DenseLayer(2, 1, lambda x: x.identity(), initializer=ConstantInitializer(weight=weight, bias=bias))\n",
    "]\n",
    "\n",
    "inp = np.array([-2, -1., 0., 1.])\n",
    "print('Input:', inp)\n",
    "x_test = nparray_to_Var(inp)\n",
    "print_network(NNtest)\n",
    "test_output = Var_to_nparray(forward(x_test, NNtest))\n",
    "theory_2nodes = 2*(weight*inp + bias) + bias\n",
    "np.testing.assert_array_equal(test_output.squeeze(), theory_2nodes)\n",
    "\n"
   ]
  },
  {
   "cell_type": "markdown",
   "metadata": {
    "id": "faCxhfFnFtHp"
   },
   "source": [
    "# Loss functions\n",
    "\n",
    "We are only missing a loss function to we need to define a loss function and its derivative with respect to the output of the neural network $y$"
   ]
  },
  {
   "cell_type": "code",
   "execution_count": 70,
   "metadata": {
    "id": "I2eDYKvAFtHq"
   },
   "outputs": [],
   "source": [
    "def squared_loss(t, y):\n",
    "  \n",
    "  # add check that sizes agree\n",
    "  \n",
    "  def squared_loss_single(t, y):\n",
    "    Loss = Var(0.0)\n",
    "    for i in range(len(t)): # sum over outputs\n",
    "      Loss += (t[i]-y[i]) ** 2\n",
    "    return Loss\n",
    "\n",
    "  Loss = Var(0.0)\n",
    "  for n in range(len(t)): # sum over training data\n",
    "    Loss += squared_loss_single(t[n],y[n])\n",
    "  return Loss"
   ]
  },
  {
   "cell_type": "markdown",
   "metadata": {
    "id": "SrwSJ2UWFtHu"
   },
   "source": [
    "## Exercise k) Implement cross entropy loss\n",
    "\n",
    "Insert code below to implement cross-entropy loss for general dimensionality of $t$. Use a logits formulation:\n",
    "$$\n",
    "\\rm{Loss} = - \\sum_i t_i \\, log \\, p_i \n",
    "$$\n",
    "with $p$ given by the the softmax function in terms of the logits $h$:\n",
    "$$\n",
    "p_i = \\frac{\\exp(h_i)}{\\sum_{i'} \\exp(h_{i'})} .\n",
    "$$\n",
    "Inserting $p$ in the expression for the loss gives\n",
    "$$\n",
    "\\rm{Loss} = - \\sum_i t_i h_i + \\rm{LogSumExp}(h) \\ ,\n",
    "$$\n",
    "where \n",
    "$$\n",
    "\\rm{LogSumExp}(h) = \\log \\sum_i \\exp h_i \\ .\n",
    "$$\n",
    "This is true for $t$ being a one-hot vector. \n",
    "\n",
    "Call the function to convince yourself it works. \n",
    "\n",
    "In practice you want to implement a [numerically stable](https://leimao.github.io/blog/LogSumExp/) version of LogSumExp. But we will not bother about that here.\n",
    "\n",
    "Help: You can add these methods in the Var class:\n",
    "\n",
    "    def exp(self):\n",
    "        return Var(exp(self.v), lambda: [(self, exp(self.v))])\n",
    "    \n",
    "    def log(self):\n",
    "        return Var(log(self.v), lambda: [(self, self.v ** -1)])"
   ]
  },
  {
   "cell_type": "code",
   "execution_count": 71,
   "metadata": {
    "id": "6nMuxyfzFtHv"
   },
   "outputs": [],
   "source": [
    "def cross_entropy_loss(t, h):\n",
    "     \n",
    "    denom = 0\n",
    "    for i in range(len(h)):\n",
    "        denom += exp(h[i])\n",
    "\n",
    "    Loss = Var(0.0)\n",
    "    for i in range(len(t)):\n",
    "        ti = t[i]\n",
    "        pi = exp(h[i]) / denom\n",
    "        Loss += ti * np.log(pi)\n",
    "\n",
    "    return Loss"
   ]
  },
  {
   "cell_type": "markdown",
   "metadata": {
    "id": "8fAF5ew4FtHy"
   },
   "source": [
    "# Backward pass\n",
    "\n",
    "Now the magic happens! We get the calculation of the gradients for free. Just do:"
   ]
  },
  {
   "cell_type": "code",
   "execution_count": 72,
   "metadata": {
    "id": "iHyfPPI9Qqwu"
   },
   "outputs": [],
   "source": [
    "NN = [\n",
    "    DenseLayer(1, 5, lambda x: x.relu()),\n",
    "    DenseLayer(5, 1, lambda x: x.identity())\n",
    "]\n",
    "\n",
    "output = forward(x_train, NN)\n",
    "\n",
    "Loss = squared_loss(y_train,output)\n",
    "Loss.backward()"
   ]
  },
  {
   "cell_type": "markdown",
   "metadata": {
    "id": "49biIAYKQ1oG"
   },
   "source": [
    "and the gradients will be calculated:"
   ]
  },
  {
   "cell_type": "code",
   "execution_count": 73,
   "metadata": {
    "id": "_rGt1bq_Q7uk"
   },
   "outputs": [
    {
     "name": "stdout",
     "output_type": "stream",
     "text": [
      "Layer 0 \n",
      " Weights: [[Var(v=-0.0429, grad=-16.0916), Var(v=-0.0370, grad=0.3822), Var(v=-0.0037, grad=-6.1476), Var(v=0.2069, grad=11.4590), Var(v=-0.1748, grad=-15.2839)]] Biases: [Var(v=0.0000, grad=14.6352), Var(v=0.0000, grad=-0.3476), Var(v=0.0000, grad=5.5912), Var(v=0.0000, grad=9.8389), Var(v=0.0000, grad=13.9006)]\n",
      "Layer 1 \n",
      " Weights: [[Var(v=0.1619, grad=4.2623)], [Var(v=-0.0038, grad=3.6760)], [Var(v=0.0618, grad=0.3727)], [Var(v=-0.1101, grad=-21.5320)], [Var(v=0.1538, grad=17.3751)]] Biases: [Var(v=0.0000, grad=1.0312)]\n"
     ]
    },
    {
     "data": {
      "text/plain": [
       "[None, None]"
      ]
     },
     "execution_count": 73,
     "metadata": {},
     "output_type": "execute_result"
    }
   ],
   "source": [
    "[print('Layer', i, '\\n', NN[i]) for i in range(len(NN))] "
   ]
  },
  {
   "cell_type": "markdown",
   "metadata": {
    "id": "D7d7qK0uFtH9"
   },
   "source": [
    "# Backward pass unit test\n",
    "\n",
    "Above we used finite differences to test that Nanograd is actually doing what it is supposed to do. We can in principle try the same for the neural network. But we will trust that the test above is enough."
   ]
  },
  {
   "cell_type": "markdown",
   "metadata": {
    "id": "WgBi8GOSFtIN"
   },
   "source": [
    "# Training and validation\n",
    "\n",
    "We are ready to train some neural networks!\n",
    "\n",
    "We initialize again:"
   ]
  },
  {
   "cell_type": "code",
   "execution_count": 74,
   "metadata": {
    "id": "01ePmzBzRtdh"
   },
   "outputs": [],
   "source": [
    "NN = [\n",
    "    DenseLayer(1, 15, lambda x: x.relu()),\n",
    "    DenseLayer(15, 50, lambda x: x.relu()),\n",
    "    DenseLayer(50, 1, lambda x: x.identity())\n",
    "]\n",
    "\n",
    "output = forward(x_train, NN)\n",
    "\n",
    "Loss = squared_loss(y_train,output)\n",
    "Loss.backward()"
   ]
  },
  {
   "cell_type": "markdown",
   "metadata": {
    "id": "10iRPiQ1ISHw"
   },
   "source": [
    "and make an update:\n",
    "\n",
    "We introduce a help function parameters to have a handle in all parameters in the network."
   ]
  },
  {
   "cell_type": "code",
   "execution_count": 75,
   "metadata": {
    "id": "dhAI7eyeznia"
   },
   "outputs": [
    {
     "name": "stdout",
     "output_type": "stream",
     "text": [
      "Network before update:\n",
      "Layer 0 \n",
      " Weights: [[Var(v=-0.1167, grad=0.1736), Var(v=0.0108, grad=2.1318), Var(v=0.0025, grad=2.6017), Var(v=0.1939, grad=1.5991), Var(v=-0.1444, grad=-2.7757), Var(v=0.0309, grad=-3.3680), Var(v=-0.0152, grad=6.5757), Var(v=-0.0111, grad=-5.6645), Var(v=-0.0608, grad=-1.6109), Var(v=-0.0432, grad=-2.9378), Var(v=-0.2214, grad=-3.9377), Var(v=0.0378, grad=-1.5245), Var(v=0.1658, grad=5.4080), Var(v=0.0436, grad=-4.2243), Var(v=0.0076, grad=-2.8161)]] Biases: [Var(v=0.0000, grad=-0.1579), Var(v=0.0000, grad=1.8309), Var(v=0.0000, grad=2.2345), Var(v=0.0000, grad=1.3734), Var(v=0.0000, grad=2.5236), Var(v=0.0000, grad=-2.8926), Var(v=0.0000, grad=-5.9786), Var(v=0.0000, grad=5.1502), Var(v=0.0000, grad=1.4646), Var(v=0.0000, grad=2.6710), Var(v=0.0000, grad=3.5801), Var(v=0.0000, grad=-1.3093), Var(v=0.0000, grad=4.6447), Var(v=0.0000, grad=-3.6281), Var(v=0.0000, grad=-2.4186)]\n",
      "Layer 1 \n",
      " Weights: [[Var(v=-0.1197, grad=0.0000), Var(v=0.0334, grad=-1.9424), Var(v=0.0380, grad=1.1282), Var(v=-0.0227, grad=0.0000), Var(v=-0.0027, grad=-0.9568), Var(v=-0.0759, grad=0.0000), Var(v=-0.0108, grad=0.0000), Var(v=0.1360, grad=-0.2750), Var(v=0.0310, grad=0.0000), Var(v=0.0017, grad=0.0000), Var(v=-0.1148, grad=0.0000), Var(v=-0.0555, grad=0.0000), Var(v=0.0947, grad=0.2850), Var(v=-0.0203, grad=0.1013), Var(v=0.1602, grad=0.0000), Var(v=-0.0467, grad=0.4882), Var(v=-0.0311, grad=-0.3269), Var(v=-0.1579, grad=-1.7604), Var(v=0.0868, grad=1.5220), Var(v=-0.0032, grad=0.0000), Var(v=0.0293, grad=-0.5491), Var(v=0.0149, grad=0.0000), Var(v=0.0837, grad=0.0000), Var(v=0.0745, grad=0.0000), Var(v=-0.0729, grad=0.0000), Var(v=0.0578, grad=-0.1785), Var(v=0.0571, grad=-1.6856), Var(v=0.0917, grad=1.0209), Var(v=0.0896, grad=2.4182), Var(v=0.0474, grad=0.1294), Var(v=-0.1374, grad=0.0000), Var(v=-0.0735, grad=0.0000), Var(v=0.0557, grad=1.7788), Var(v=-0.0599, grad=0.0000), Var(v=-0.1019, grad=0.0000), Var(v=-0.2508, grad=0.0000), Var(v=-0.0377, grad=0.0000), Var(v=0.2075, grad=-1.0337), Var(v=0.2120, grad=-1.6409), Var(v=-0.1467, grad=0.0000), Var(v=-0.0585, grad=0.0000), Var(v=-0.1177, grad=0.0000), Var(v=0.0025, grad=0.0000), Var(v=0.1719, grad=0.0000), Var(v=0.1672, grad=0.5506), Var(v=-0.0249, grad=0.0000), Var(v=-0.1088, grad=0.0000), Var(v=0.0040, grad=1.8370), Var(v=-0.0739, grad=0.0000), Var(v=-0.2491, grad=0.8666)], [Var(v=-0.1031, grad=0.0000), Var(v=-0.1050, grad=0.0000), Var(v=-0.0201, grad=-0.1096), Var(v=-0.0130, grad=0.0000), Var(v=-0.0542, grad=0.0929), Var(v=0.0338, grad=-0.0818), Var(v=-0.0781, grad=0.0000), Var(v=0.0268, grad=0.0267), Var(v=0.0771, grad=0.0240), Var(v=-0.0392, grad=0.0000), Var(v=-0.0323, grad=-0.1699), Var(v=0.0948, grad=0.0000), Var(v=-0.1621, grad=0.0000), Var(v=-0.1909, grad=-0.0098), Var(v=-0.0777, grad=0.0000), Var(v=0.0740, grad=0.0000), Var(v=0.1467, grad=0.0317), Var(v=0.0769, grad=0.1709), Var(v=0.0195, grad=-0.1478), Var(v=0.0347, grad=0.1726), Var(v=-0.0303, grad=0.0000), Var(v=0.0044, grad=0.0000), Var(v=-0.1828, grad=0.0000), Var(v=0.0048, grad=0.0516), Var(v=-0.0062, grad=-0.0860), Var(v=0.0455, grad=0.0173), Var(v=0.0442, grad=0.1637), Var(v=0.0086, grad=0.0000), Var(v=-0.0307, grad=0.0000), Var(v=0.0011, grad=0.0000), Var(v=-0.0689, grad=0.0000), Var(v=0.0834, grad=0.0000), Var(v=0.0275, grad=-0.1727), Var(v=-0.0415, grad=0.0000), Var(v=0.0839, grad=-0.0531), Var(v=0.0092, grad=0.0436), Var(v=0.0286, grad=0.0000), Var(v=0.0661, grad=0.1004), Var(v=-0.0274, grad=0.0000), Var(v=0.0409, grad=-0.1889), Var(v=-0.1500, grad=0.0000), Var(v=0.0019, grad=0.2660), Var(v=-0.0952, grad=0.0058), Var(v=-0.0496, grad=0.0400), Var(v=0.1589, grad=0.0000), Var(v=-0.1608, grad=0.0719), Var(v=0.0650, grad=0.0000), Var(v=0.0498, grad=0.0000), Var(v=-0.0629, grad=-0.0696), Var(v=-0.0954, grad=-0.0841)], [Var(v=0.0110, grad=0.0000), Var(v=-0.0921, grad=0.0000), Var(v=-0.0063, grad=-0.0252), Var(v=-0.0234, grad=0.0000), Var(v=0.0295, grad=0.0214), Var(v=-0.0309, grad=-0.0188), Var(v=0.1323, grad=0.0000), Var(v=0.0911, grad=0.0062), Var(v=0.0882, grad=0.0055), Var(v=0.0302, grad=0.0000), Var(v=-0.0680, grad=-0.0392), Var(v=-0.2138, grad=0.0000), Var(v=0.1579, grad=0.0000), Var(v=0.0859, grad=-0.0023), Var(v=0.0060, grad=0.0000), Var(v=-0.0657, grad=0.0000), Var(v=-0.0919, grad=0.0073), Var(v=-0.0430, grad=0.0394), Var(v=-0.0829, grad=-0.0340), Var(v=0.0679, grad=0.0398), Var(v=-0.0723, grad=0.0000), Var(v=-0.0986, grad=0.0000), Var(v=-0.0461, grad=0.0000), Var(v=0.2615, grad=0.0119), Var(v=0.1089, grad=-0.0198), Var(v=-0.0473, grad=0.0040), Var(v=0.0571, grad=0.0377), Var(v=0.1099, grad=0.0000), Var(v=-0.1132, grad=0.0000), Var(v=0.0276, grad=0.0000), Var(v=-0.0572, grad=0.0000), Var(v=-0.1050, grad=0.0000), Var(v=0.0473, grad=-0.0398), Var(v=-0.1254, grad=0.0000), Var(v=0.0153, grad=-0.0122), Var(v=0.0034, grad=0.0100), Var(v=-0.0166, grad=0.0000), Var(v=0.0690, grad=0.0231), Var(v=0.1562, grad=0.0000), Var(v=0.1148, grad=-0.0435), Var(v=-0.0422, grad=0.0000), Var(v=0.0228, grad=0.0613), Var(v=-0.1568, grad=0.0013), Var(v=-0.0404, grad=0.0092), Var(v=0.0728, grad=0.0000), Var(v=-0.0037, grad=0.0166), Var(v=0.0173, grad=0.0000), Var(v=0.1757, grad=0.0000), Var(v=0.0999, grad=-0.0160), Var(v=-0.0919, grad=-0.0194)], [Var(v=-0.0996, grad=0.0000), Var(v=-0.1258, grad=0.0000), Var(v=0.0764, grad=-1.9712), Var(v=-0.0251, grad=0.0000), Var(v=0.1030, grad=1.6716), Var(v=0.1502, grad=-1.4713), Var(v=-0.1184, grad=0.0000), Var(v=0.0379, grad=0.4805), Var(v=-0.0355, grad=0.4326), Var(v=-0.0827, grad=0.0000), Var(v=0.0772, grad=-3.0579), Var(v=0.0692, grad=0.0000), Var(v=-0.0444, grad=0.0000), Var(v=-0.0142, grad=-0.1769), Var(v=0.0263, grad=0.0000), Var(v=-0.0184, grad=0.0000), Var(v=0.0521, grad=0.5711), Var(v=0.0636, grad=3.0756), Var(v=0.0651, grad=-2.6592), Var(v=0.1130, grad=3.1052), Var(v=-0.0851, grad=0.0000), Var(v=-0.1386, grad=0.0000), Var(v=-0.0457, grad=0.0000), Var(v=0.1156, grad=0.9287), Var(v=0.1088, grad=-1.5478), Var(v=0.1441, grad=0.3119), Var(v=0.0736, grad=2.9449), Var(v=-0.0029, grad=0.0000), Var(v=0.0423, grad=0.0000), Var(v=-0.1079, grad=0.0000), Var(v=0.0097, grad=0.0000), Var(v=0.0271, grad=0.0000), Var(v=-0.0443, grad=-3.1078), Var(v=-0.1270, grad=0.0000), Var(v=0.0340, grad=-0.9551), Var(v=0.0661, grad=0.7837), Var(v=-0.0975, grad=0.0000), Var(v=-0.0701, grad=1.8060), Var(v=-0.0658, grad=0.0000), Var(v=0.0732, grad=-3.3986), Var(v=-0.1033, grad=0.0000), Var(v=0.1265, grad=4.7866), Var(v=0.0139, grad=0.1050), Var(v=0.2639, grad=0.7202), Var(v=-0.0686, grad=0.0000), Var(v=-0.0797, grad=1.2941), Var(v=-0.2441, grad=0.0000), Var(v=-0.0589, grad=0.0000), Var(v=0.0693, grad=-1.2520), Var(v=0.1667, grad=-1.5140)], [Var(v=0.0197, grad=0.0000), Var(v=0.1771, grad=-2.4041), Var(v=-0.0012, grad=1.3964), Var(v=-0.0266, grad=0.0000), Var(v=0.1442, grad=-1.1842), Var(v=-0.1232, grad=0.0000), Var(v=-0.1001, grad=0.0000), Var(v=0.0754, grad=-0.3404), Var(v=-0.1200, grad=0.0000), Var(v=-0.1010, grad=0.0000), Var(v=-0.1158, grad=0.0000), Var(v=0.1120, grad=0.0000), Var(v=0.0465, grad=0.3527), Var(v=0.1390, grad=0.1253), Var(v=-0.1942, grad=0.0000), Var(v=0.0228, grad=0.6042), Var(v=0.0257, grad=-0.4046), Var(v=-0.0191, grad=-2.1788), Var(v=0.1251, grad=1.8838), Var(v=0.0251, grad=0.0000), Var(v=0.1998, grad=-0.6796), Var(v=-0.0224, grad=0.0000), Var(v=-0.0237, grad=0.0000), Var(v=-0.1448, grad=0.0000), Var(v=0.0874, grad=0.0000), Var(v=0.1634, grad=-0.2210), Var(v=-0.0167, grad=-2.0862), Var(v=-0.1202, grad=1.2636), Var(v=0.0688, grad=2.9930), Var(v=-0.0226, grad=0.1601), Var(v=-0.0211, grad=0.0000), Var(v=0.0795, grad=0.0000), Var(v=0.1322, grad=2.2016), Var(v=0.0814, grad=0.0000), Var(v=0.0712, grad=0.0000), Var(v=-0.1433, grad=0.0000), Var(v=-0.0234, grad=0.0000), Var(v=0.0678, grad=-1.2794), Var(v=-0.0045, grad=-2.0309), Var(v=0.0584, grad=0.0000), Var(v=-0.0384, grad=0.0000), Var(v=0.0630, grad=0.0000), Var(v=0.0559, grad=0.0000), Var(v=-0.0909, grad=0.0000), Var(v=0.0222, grad=0.6815), Var(v=0.0719, grad=0.0000), Var(v=-0.1586, grad=0.0000), Var(v=0.1624, grad=2.2737), Var(v=-0.1030, grad=0.0000), Var(v=0.1857, grad=1.0725)], [Var(v=-0.0327, grad=0.0000), Var(v=-0.0154, grad=0.0000), Var(v=0.0984, grad=-0.3145), Var(v=-0.0717, grad=0.0000), Var(v=0.1231, grad=0.2667), Var(v=-0.0661, grad=-0.2347), Var(v=-0.0332, grad=0.0000), Var(v=-0.0899, grad=0.0767), Var(v=0.0199, grad=0.0690), Var(v=0.0052, grad=0.0000), Var(v=0.0115, grad=-0.4878), Var(v=-0.1459, grad=0.0000), Var(v=0.0271, grad=0.0000), Var(v=0.0610, grad=-0.0282), Var(v=-0.0141, grad=0.0000), Var(v=0.0044, grad=0.0000), Var(v=0.0097, grad=0.0911), Var(v=-0.0978, grad=0.4907), Var(v=-0.0117, grad=-0.4242), Var(v=-0.0688, grad=0.4954), Var(v=0.0776, grad=0.0000), Var(v=-0.1148, grad=0.0000), Var(v=-0.0042, grad=0.0000), Var(v=-0.1196, grad=0.1482), Var(v=0.0018, grad=-0.2469), Var(v=0.0404, grad=0.0498), Var(v=-0.1473, grad=0.4698), Var(v=-0.1423, grad=0.0000), Var(v=0.0094, grad=0.0000), Var(v=-0.1406, grad=0.0000), Var(v=-0.1705, grad=0.0000), Var(v=0.0887, grad=0.0000), Var(v=-0.0142, grad=-0.4958), Var(v=0.0480, grad=0.0000), Var(v=0.0079, grad=-0.1524), Var(v=-0.0909, grad=0.1250), Var(v=-0.0292, grad=0.0000), Var(v=0.2132, grad=0.2881), Var(v=-0.0908, grad=0.0000), Var(v=0.1847, grad=-0.5422), Var(v=-0.0008, grad=0.0000), Var(v=0.1248, grad=0.7636), Var(v=0.0961, grad=0.0168), Var(v=-0.2443, grad=0.1149), Var(v=0.0229, grad=0.0000), Var(v=0.0564, grad=0.2064), Var(v=0.0332, grad=0.0000), Var(v=-0.0203, grad=0.0000), Var(v=0.1030, grad=-0.1997), Var(v=-0.1540, grad=-0.2415)], [Var(v=0.1372, grad=0.0000), Var(v=0.1040, grad=-0.2536), Var(v=-0.0380, grad=0.1473), Var(v=-0.1293, grad=0.0000), Var(v=0.0858, grad=-0.1249), Var(v=-0.1040, grad=0.0000), Var(v=-0.0796, grad=0.0000), Var(v=0.0113, grad=-0.0359), Var(v=0.0953, grad=0.0000), Var(v=0.1068, grad=0.0000), Var(v=-0.0707, grad=0.0000), Var(v=-0.0609, grad=0.0000), Var(v=-0.0069, grad=0.0372), Var(v=0.1240, grad=0.0132), Var(v=0.0014, grad=0.0000), Var(v=-0.0002, grad=0.0637), Var(v=-0.0845, grad=-0.0427), Var(v=-0.0263, grad=-0.2299), Var(v=-0.0734, grad=0.1987), Var(v=0.1843, grad=0.0000), Var(v=0.0975, grad=-0.0717), Var(v=0.0540, grad=0.0000), Var(v=-0.0153, grad=0.0000), Var(v=-0.0225, grad=0.0000), Var(v=0.0874, grad=0.0000), Var(v=-0.0839, grad=-0.0233), Var(v=-0.0235, grad=-0.2201), Var(v=-0.1504, grad=0.1333), Var(v=0.2106, grad=0.3157), Var(v=0.0896, grad=0.0169), Var(v=-0.0077, grad=0.0000), Var(v=-0.1131, grad=0.0000), Var(v=-0.1441, grad=0.2323), Var(v=0.0362, grad=0.0000), Var(v=-0.0832, grad=0.0000), Var(v=0.1444, grad=0.0000), Var(v=0.0077, grad=0.0000), Var(v=-0.0080, grad=-0.1350), Var(v=0.1740, grad=-0.2142), Var(v=-0.0292, grad=0.0000), Var(v=0.0522, grad=0.0000), Var(v=-0.0581, grad=0.0000), Var(v=0.0247, grad=0.0000), Var(v=0.1928, grad=0.0000), Var(v=-0.0001, grad=0.0719), Var(v=0.1772, grad=0.0000), Var(v=0.0935, grad=0.0000), Var(v=-0.1265, grad=0.2399), Var(v=-0.0207, grad=0.0000), Var(v=-0.0141, grad=0.1131)], [Var(v=0.0377, grad=0.0000), Var(v=-0.0113, grad=-0.1850), Var(v=-0.0686, grad=0.1075), Var(v=-0.0885, grad=0.0000), Var(v=-0.0509, grad=-0.0911), Var(v=-0.0561, grad=0.0000), Var(v=-0.0625, grad=0.0000), Var(v=-0.1620, grad=-0.0262), Var(v=-0.0416, grad=0.0000), Var(v=-0.0351, grad=0.0000), Var(v=0.1167, grad=0.0000), Var(v=-0.0914, grad=0.0000), Var(v=-0.1027, grad=0.0271), Var(v=0.1777, grad=0.0096), Var(v=-0.0658, grad=0.0000), Var(v=-0.0814, grad=0.0465), Var(v=0.1781, grad=-0.0311), Var(v=0.0259, grad=-0.1677), Var(v=-0.1401, grad=0.1450), Var(v=0.1675, grad=0.0000), Var(v=-0.0975, grad=-0.0523), Var(v=0.0168, grad=0.0000), Var(v=0.0355, grad=0.0000), Var(v=-0.0580, grad=0.0000), Var(v=0.1397, grad=0.0000), Var(v=-0.0292, grad=-0.0170), Var(v=-0.1565, grad=-0.1605), Var(v=0.1322, grad=0.0972), Var(v=0.1517, grad=0.2303), Var(v=0.2168, grad=0.0123), Var(v=0.0567, grad=0.0000), Var(v=0.1652, grad=0.0000), Var(v=0.1175, grad=0.1694), Var(v=0.1112, grad=0.0000), Var(v=0.1487, grad=0.0000), Var(v=0.0811, grad=0.0000), Var(v=-0.1364, grad=0.0000), Var(v=0.0549, grad=-0.0985), Var(v=0.1672, grad=-0.1563), Var(v=0.0349, grad=0.0000), Var(v=0.0111, grad=0.0000), Var(v=0.0373, grad=0.0000), Var(v=0.1017, grad=0.0000), Var(v=0.0577, grad=0.0000), Var(v=0.1165, grad=0.0524), Var(v=-0.0785, grad=0.0000), Var(v=0.0683, grad=0.0000), Var(v=0.1533, grad=0.1750), Var(v=-0.1122, grad=0.0000), Var(v=-0.0977, grad=0.0825)], [Var(v=-0.1159, grad=0.0000), Var(v=-0.0637, grad=-1.0125), Var(v=-0.0488, grad=0.5881), Var(v=-0.0394, grad=0.0000), Var(v=-0.0523, grad=-0.4987), Var(v=0.0107, grad=0.0000), Var(v=0.0054, grad=0.0000), Var(v=-0.0646, grad=-0.1434), Var(v=-0.0374, grad=0.0000), Var(v=-0.0512, grad=0.0000), Var(v=-0.0162, grad=0.0000), Var(v=-0.1115, grad=0.0000), Var(v=0.1228, grad=0.1485), Var(v=0.0266, grad=0.0528), Var(v=0.0045, grad=0.0000), Var(v=-0.0177, grad=0.2545), Var(v=0.1245, grad=-0.1704), Var(v=-0.0442, grad=-0.9176), Var(v=-0.1516, grad=0.7933), Var(v=-0.0800, grad=0.0000), Var(v=0.0789, grad=-0.2862), Var(v=-0.0178, grad=0.0000), Var(v=0.0963, grad=0.0000), Var(v=-0.1569, grad=0.0000), Var(v=0.0523, grad=0.0000), Var(v=0.0371, grad=-0.0931), Var(v=0.1781, grad=-0.8786), Var(v=0.1868, grad=0.5321), Var(v=0.0335, grad=1.2605), Var(v=0.1454, grad=0.0674), Var(v=-0.0948, grad=0.0000), Var(v=-0.1626, grad=0.0000), Var(v=0.0751, grad=0.9272), Var(v=-0.0473, grad=0.0000), Var(v=-0.1203, grad=0.0000), Var(v=0.1019, grad=0.0000), Var(v=-0.0432, grad=0.0000), Var(v=-0.0039, grad=-0.5388), Var(v=-0.1345, grad=-0.8553), Var(v=0.2880, grad=0.0000), Var(v=0.0488, grad=0.0000), Var(v=-0.0542, grad=0.0000), Var(v=0.0664, grad=0.0000), Var(v=0.0524, grad=0.0000), Var(v=0.2242, grad=0.2870), Var(v=-0.0576, grad=0.0000), Var(v=0.0452, grad=0.0000), Var(v=-0.0774, grad=0.9575), Var(v=0.0738, grad=0.0000), Var(v=-0.0734, grad=0.4517)], [Var(v=0.0659, grad=0.0000), Var(v=0.0864, grad=-0.7188), Var(v=0.0584, grad=0.4175), Var(v=0.0436, grad=0.0000), Var(v=0.0923, grad=-0.3541), Var(v=-0.1993, grad=0.0000), Var(v=-0.0283, grad=0.0000), Var(v=-0.0440, grad=-0.1018), Var(v=0.1094, grad=0.0000), Var(v=-0.1659, grad=0.0000), Var(v=-0.0977, grad=0.0000), Var(v=-0.0644, grad=0.0000), Var(v=0.0055, grad=0.1055), Var(v=-0.1630, grad=0.0375), Var(v=0.0717, grad=0.0000), Var(v=0.0571, grad=0.1807), Var(v=-0.1244, grad=-0.1210), Var(v=0.1972, grad=-0.6514), Var(v=0.3775, grad=0.5632), Var(v=-0.0549, grad=0.0000), Var(v=0.1730, grad=-0.2032), Var(v=-0.0420, grad=0.0000), Var(v=-0.0465, grad=0.0000), Var(v=0.1111, grad=0.0000), Var(v=0.0602, grad=0.0000), Var(v=-0.1054, grad=-0.0661), Var(v=-0.0173, grad=-0.6238), Var(v=-0.0156, grad=0.3778), Var(v=0.2477, grad=0.8949), Var(v=-0.0771, grad=0.0479), Var(v=-0.1774, grad=0.0000), Var(v=0.0522, grad=0.0000), Var(v=0.1234, grad=0.6582), Var(v=-0.0264, grad=0.0000), Var(v=0.0097, grad=0.0000), Var(v=-0.0008, grad=0.0000), Var(v=0.0295, grad=0.0000), Var(v=-0.0571, grad=-0.3825), Var(v=0.0331, grad=-0.6072), Var(v=0.0014, grad=0.0000), Var(v=0.0212, grad=0.0000), Var(v=-0.1903, grad=0.0000), Var(v=-0.1036, grad=0.0000), Var(v=0.0346, grad=0.0000), Var(v=-0.0160, grad=0.2038), Var(v=-0.1422, grad=0.0000), Var(v=-0.1378, grad=0.0000), Var(v=-0.2350, grad=0.6798), Var(v=0.2273, grad=0.0000), Var(v=-0.0804, grad=0.3207)], [Var(v=-0.0162, grad=0.0000), Var(v=-0.0255, grad=-3.6856), Var(v=0.1023, grad=2.1407), Var(v=-0.1441, grad=0.0000), Var(v=0.1010, grad=-1.8154), Var(v=-0.0716, grad=0.0000), Var(v=-0.1328, grad=0.0000), Var(v=-0.0821, grad=-0.5219), Var(v=-0.0746, grad=0.0000), Var(v=0.0398, grad=0.0000), Var(v=-0.1409, grad=0.0000), Var(v=-0.0795, grad=0.0000), Var(v=0.0163, grad=0.5407), Var(v=0.1454, grad=0.1922), Var(v=-0.0240, grad=0.0000), Var(v=0.1121, grad=0.9263), Var(v=0.2133, grad=-0.6202), Var(v=0.1113, grad=-3.3402), Var(v=-0.0408, grad=2.8879), Var(v=-0.0510, grad=0.0000), Var(v=-0.0478, grad=-1.0419), Var(v=-0.0043, grad=0.0000), Var(v=-0.0540, grad=0.0000), Var(v=0.0045, grad=0.0000), Var(v=-0.1030, grad=0.0000), Var(v=-0.0231, grad=-0.3388), Var(v=0.0277, grad=-3.1982), Var(v=0.0758, grad=1.9371), Var(v=0.0610, grad=4.5884), Var(v=0.1203, grad=0.2455), Var(v=-0.0394, grad=0.0000), Var(v=-0.0008, grad=0.0000), Var(v=0.1220, grad=3.3751), Var(v=-0.0701, grad=0.0000), Var(v=-0.0451, grad=0.0000), Var(v=0.0891, grad=0.0000), Var(v=0.0045, grad=0.0000), Var(v=-0.0792, grad=-1.9614), Var(v=0.1669, grad=-3.1134), Var(v=-0.1119, grad=0.0000), Var(v=-0.0349, grad=0.0000), Var(v=-0.1380, grad=0.0000), Var(v=-0.0602, grad=0.0000), Var(v=-0.1114, grad=0.0000), Var(v=0.0846, grad=1.0448), Var(v=-0.0635, grad=0.0000), Var(v=0.0088, grad=0.0000), Var(v=0.1323, grad=3.4856), Var(v=-0.0746, grad=0.0000), Var(v=0.0959, grad=1.6442)], [Var(v=0.0249, grad=0.0000), Var(v=-0.0299, grad=0.0000), Var(v=-0.0654, grad=-0.3842), Var(v=0.0218, grad=0.0000), Var(v=-0.0255, grad=0.3258), Var(v=0.0551, grad=-0.2868), Var(v=-0.0660, grad=0.0000), Var(v=-0.2321, grad=0.0937), Var(v=0.1750, grad=0.0843), Var(v=-0.0662, grad=0.0000), Var(v=0.0135, grad=-0.5961), Var(v=0.0496, grad=0.0000), Var(v=-0.1329, grad=0.0000), Var(v=-0.0433, grad=-0.0345), Var(v=0.1028, grad=0.0000), Var(v=-0.2546, grad=0.0000), Var(v=-0.1172, grad=0.1113), Var(v=0.0734, grad=0.5995), Var(v=0.2217, grad=-0.5184), Var(v=0.0747, grad=0.6053), Var(v=-0.1022, grad=0.0000), Var(v=-0.0716, grad=0.0000), Var(v=-0.1617, grad=0.0000), Var(v=0.0178, grad=0.1810), Var(v=-0.0698, grad=-0.3017), Var(v=0.0164, grad=0.0608), Var(v=0.0221, grad=0.5740), Var(v=0.0239, grad=0.0000), Var(v=0.0465, grad=0.0000), Var(v=-0.0018, grad=0.0000), Var(v=-0.0016, grad=0.0000), Var(v=0.0684, grad=0.0000), Var(v=0.0378, grad=-0.6058), Var(v=-0.1239, grad=0.0000), Var(v=0.0742, grad=-0.1862), Var(v=-0.1685, grad=0.1528), Var(v=-0.0173, grad=0.0000), Var(v=0.0365, grad=0.3520), Var(v=-0.0538, grad=0.0000), Var(v=0.0426, grad=-0.6625), Var(v=-0.0061, grad=0.0000), Var(v=-0.0004, grad=0.9330), Var(v=-0.0917, grad=0.0205), Var(v=-0.1428, grad=0.1404), Var(v=0.1748, grad=0.0000), Var(v=0.0462, grad=0.2523), Var(v=-0.0272, grad=0.0000), Var(v=0.0427, grad=0.0000), Var(v=-0.0137, grad=-0.2441), Var(v=-0.1382, grad=-0.2951)], [Var(v=-0.2336, grad=0.0000), Var(v=0.0788, grad=0.0000), Var(v=-0.0255, grad=-1.6856), Var(v=-0.0141, grad=0.0000), Var(v=0.0670, grad=1.4295), Var(v=-0.0568, grad=-1.2581), Var(v=-0.0341, grad=0.0000), Var(v=0.0859, grad=0.4109), Var(v=0.0734, grad=0.3699), Var(v=0.0045, grad=0.0000), Var(v=0.0223, grad=-2.6149), Var(v=-0.0836, grad=0.0000), Var(v=-0.1350, grad=0.0000), Var(v=0.0767, grad=-0.1513), Var(v=-0.0525, grad=0.0000), Var(v=-0.0521, grad=0.0000), Var(v=0.0600, grad=0.4883), Var(v=0.0135, grad=2.6301), Var(v=0.0057, grad=-2.2739), Var(v=-0.0026, grad=2.6553), Var(v=-0.0150, grad=0.0000), Var(v=-0.1088, grad=0.0000), Var(v=-0.0110, grad=0.0000), Var(v=-0.0257, grad=0.7941), Var(v=0.0106, grad=-1.3236), Var(v=-0.0820, grad=0.2667), Var(v=0.0534, grad=2.5183), Var(v=-0.1167, grad=0.0000), Var(v=-0.0602, grad=0.0000), Var(v=0.0393, grad=0.0000), Var(v=-0.0222, grad=0.0000), Var(v=-0.1079, grad=0.0000), Var(v=0.0782, grad=-2.6575), Var(v=-0.1353, grad=0.0000), Var(v=0.1355, grad=-0.8167), Var(v=0.1339, grad=0.6701), Var(v=-0.0551, grad=0.0000), Var(v=0.0534, grad=1.5444), Var(v=0.1048, grad=0.0000), Var(v=-0.0763, grad=-2.9062), Var(v=-0.0676, grad=0.0000), Var(v=0.1245, grad=4.0931), Var(v=0.0536, grad=0.0898), Var(v=-0.1078, grad=0.6159), Var(v=-0.0342, grad=0.0000), Var(v=0.1038, grad=1.1066), Var(v=0.1976, grad=0.0000), Var(v=-0.1291, grad=0.0000), Var(v=0.0028, grad=-1.0706), Var(v=0.0499, grad=-1.2947)], [Var(v=0.0016, grad=0.0000), Var(v=0.0323, grad=0.0000), Var(v=0.0299, grad=-0.4438), Var(v=0.1434, grad=0.0000), Var(v=-0.2264, grad=0.3763), Var(v=0.0072, grad=-0.3312), Var(v=0.0720, grad=0.0000), Var(v=-0.0805, grad=0.1082), Var(v=0.1639, grad=0.0974), Var(v=0.0858, grad=0.0000), Var(v=0.0263, grad=-0.6884), Var(v=-0.1075, grad=0.0000), Var(v=-0.0288, grad=0.0000), Var(v=-0.0442, grad=-0.0398), Var(v=-0.0858, grad=0.0000), Var(v=0.0489, grad=0.0000), Var(v=-0.0861, grad=0.1286), Var(v=-0.2368, grad=0.6924), Var(v=0.0584, grad=-0.5986), Var(v=0.2197, grad=0.6990), Var(v=-0.0006, grad=0.0000), Var(v=-0.1231, grad=0.0000), Var(v=0.0708, grad=0.0000), Var(v=-0.0528, grad=0.2091), Var(v=0.0334, grad=-0.3485), Var(v=-0.0559, grad=0.0702), Var(v=-0.0504, grad=0.6630), Var(v=0.1276, grad=0.0000), Var(v=-0.0363, grad=0.0000), Var(v=-0.0512, grad=0.0000), Var(v=0.0682, grad=0.0000), Var(v=0.0115, grad=0.0000), Var(v=0.0931, grad=-0.6996), Var(v=-0.0863, grad=0.0000), Var(v=0.1114, grad=-0.2150), Var(v=-0.1365, grad=0.1764), Var(v=0.0037, grad=0.0000), Var(v=0.0667, grad=0.4066), Var(v=-0.0357, grad=0.0000), Var(v=-0.0885, grad=-0.7651), Var(v=-0.1064, grad=0.0000), Var(v=-0.0088, grad=1.0776), Var(v=-0.0346, grad=0.0236), Var(v=0.0834, grad=0.1621), Var(v=-0.0141, grad=0.0000), Var(v=0.0893, grad=0.2913), Var(v=-0.0341, grad=0.0000), Var(v=-0.0305, grad=0.0000), Var(v=-0.1040, grad=-0.2819), Var(v=-0.0052, grad=-0.3408)], [Var(v=0.0701, grad=0.0000), Var(v=0.2269, grad=0.0000), Var(v=-0.0512, grad=-0.0769), Var(v=-0.1640, grad=0.0000), Var(v=0.0748, grad=0.0652), Var(v=0.0081, grad=-0.0574), Var(v=-0.0316, grad=0.0000), Var(v=0.0651, grad=0.0187), Var(v=0.0620, grad=0.0169), Var(v=-0.1711, grad=0.0000), Var(v=0.1519, grad=-0.1193), Var(v=0.1200, grad=0.0000), Var(v=-0.0346, grad=0.0000), Var(v=-0.0248, grad=-0.0069), Var(v=0.0816, grad=0.0000), Var(v=0.1640, grad=0.0000), Var(v=0.0014, grad=0.0223), Var(v=-0.0630, grad=0.1199), Var(v=-0.2136, grad=-0.1037), Var(v=-0.0617, grad=0.1211), Var(v=0.1300, grad=0.0000), Var(v=-0.0595, grad=0.0000), Var(v=-0.1267, grad=0.0000), Var(v=0.1039, grad=0.0362), Var(v=0.0615, grad=-0.0604), Var(v=-0.1057, grad=0.0122), Var(v=-0.1518, grad=0.1149), Var(v=-0.1842, grad=0.0000), Var(v=-0.1781, grad=0.0000), Var(v=-0.0280, grad=0.0000), Var(v=0.0026, grad=0.0000), Var(v=-0.0484, grad=0.0000), Var(v=0.0090, grad=-0.1212), Var(v=0.1009, grad=0.0000), Var(v=-0.0692, grad=-0.0372), Var(v=0.2215, grad=0.0306), Var(v=-0.0748, grad=0.0000), Var(v=-0.1282, grad=0.0704), Var(v=-0.0584, grad=0.0000), Var(v=0.0426, grad=-0.1325), Var(v=-0.0523, grad=0.0000), Var(v=-0.0133, grad=0.1867), Var(v=0.0861, grad=0.0041), Var(v=0.0297, grad=0.0281), Var(v=-0.0427, grad=0.0000), Var(v=-0.0336, grad=0.0505), Var(v=0.0204, grad=0.0000), Var(v=0.1034, grad=0.0000), Var(v=-0.0274, grad=-0.0488), Var(v=-0.0952, grad=-0.0590)]] Biases: [Var(v=0.0000, grad=0.0000), Var(v=0.0000, grad=-15.1324), Var(v=0.0000, grad=0.0579), Var(v=0.0000, grad=0.0000), Var(v=0.0000, grad=-0.0491), Var(v=0.0000, grad=-6.5173), Var(v=0.0000, grad=0.0000), Var(v=0.0000, grad=-0.0141), Var(v=0.0000, grad=1.9161), Var(v=0.0000, grad=0.0000), Var(v=0.0000, grad=-13.5454), Var(v=0.0000, grad=0.0000), Var(v=0.0000, grad=2.2201), Var(v=0.0000, grad=0.0052), Var(v=0.0000, grad=0.0000), Var(v=0.0000, grad=3.8034), Var(v=0.0000, grad=-0.0168), Var(v=0.0000, grad=-0.0903), Var(v=0.0000, grad=0.0781), Var(v=0.0000, grad=13.7550), Var(v=0.0000, grad=-4.2777), Var(v=0.0000, grad=0.0000), Var(v=0.0000, grad=0.0000), Var(v=0.0000, grad=4.1136), Var(v=0.0000, grad=-6.8565), Var(v=0.0000, grad=-0.0092), Var(v=0.0000, grad=-0.0865), Var(v=0.0000, grad=7.9533), Var(v=0.0000, grad=18.8391), Var(v=0.0000, grad=1.0079), Var(v=0.0000, grad=0.0000), Var(v=0.0000, grad=0.0000), Var(v=0.0000, grad=0.0912), Var(v=0.0000, grad=0.0000), Var(v=0.0000, grad=-4.2307), Var(v=0.0000, grad=3.4714), Var(v=0.0000, grad=0.0000), Var(v=0.0000, grad=-0.0530), Var(v=0.0000, grad=-12.7831), Var(v=0.0000, grad=-15.0546), Var(v=0.0000, grad=0.0000), Var(v=0.0000, grad=21.2030), Var(v=0.0000, grad=0.4653), Var(v=0.0000, grad=3.1904), Var(v=0.0000, grad=4.2896), Var(v=0.0000, grad=5.7323), Var(v=0.0000, grad=0.0000), Var(v=0.0000, grad=14.3114), Var(v=0.0000, grad=-5.5460), Var(v=0.0000, grad=0.0444)]\n",
      "Layer 2 \n",
      " Weights: [[Var(v=-0.0462, grad=0.0000)], [Var(v=-0.1707, grad=2.4510)], [Var(v=0.0992, grad=1.2341)], [Var(v=-0.0081, grad=0.0000)], [Var(v=-0.0841, grad=1.8588)], [Var(v=0.0740, grad=-2.0927)], [Var(v=0.0148, grad=0.0000)], [Var(v=-0.0242, grad=-0.6632)], [Var(v=-0.0218, grad=-2.1728)], [Var(v=0.0754, grad=0.0000)], [Var(v=0.1538, grad=-2.1859)], [Var(v=0.1108, grad=0.0000)], [Var(v=0.0250, grad=2.7141)], [Var(v=0.0089, grad=4.0735)], [Var(v=-0.0067, grad=0.0000)], [Var(v=0.0429, grad=2.2574)], [Var(v=-0.0287, grad=3.5073)], [Var(v=-0.1547, grad=0.4615)], [Var(v=0.1338, grad=-0.0095)], [Var(v=-0.1562, grad=-3.2648)], [Var(v=-0.0483, grad=3.3513)], [Var(v=0.0072, grad=0.0000)], [Var(v=0.1028, grad=0.0000)], [Var(v=-0.0467, grad=-1.4657)], [Var(v=0.0779, grad=-2.2955)], [Var(v=-0.0157, grad=0.7126)], [Var(v=-0.1482, grad=0.0826)], [Var(v=0.0897, grad=1.9482)], [Var(v=0.2125, grad=5.0252)], [Var(v=0.0114, grad=3.7226)], [Var(v=-0.0011, grad=0.0000)], [Var(v=0.1305, grad=0.0000)], [Var(v=0.1563, grad=4.9923)], [Var(v=0.0109, grad=0.0000)], [Var(v=0.0480, grad=-3.8337)], [Var(v=-0.0394, grad=-2.2205)], [Var(v=-0.1855, grad=0.0000)], [Var(v=-0.0909, grad=0.7669)], [Var(v=-0.1442, grad=5.7325)], [Var(v=0.1710, grad=-0.6197)], [Var(v=0.0207, grad=0.0000)], [Var(v=-0.2408, grad=-4.9832)], [Var(v=-0.0053, grad=-0.9046)], [Var(v=-0.0362, grad=-2.4149)], [Var(v=0.0484, grad=5.4279)], [Var(v=-0.0651, grad=-0.7331)], [Var(v=0.0667, grad=0.0000)], [Var(v=0.1615, grad=3.7178)], [Var(v=0.0630, grad=-1.1674)], [Var(v=0.0762, grad=-1.9587)]] Biases: [Var(v=0.0000, grad=0.5835)]\n",
      "\n",
      "Network after update:\n",
      "Layer 0 \n",
      " Weights: [[Var(v=-0.1184, grad=0.1736), Var(v=-0.0105, grad=2.1318), Var(v=-0.0235, grad=2.6017), Var(v=0.1779, grad=1.5991), Var(v=-0.1167, grad=-2.7757), Var(v=0.0646, grad=-3.3680), Var(v=-0.0810, grad=6.5757), Var(v=0.0455, grad=-5.6645), Var(v=-0.0447, grad=-1.6109), Var(v=-0.0138, grad=-2.9378), Var(v=-0.1821, grad=-3.9377), Var(v=0.0530, grad=-1.5245), Var(v=0.1117, grad=5.4080), Var(v=0.0859, grad=-4.2243), Var(v=0.0357, grad=-2.8161)]] Biases: [Var(v=0.0016, grad=-0.1579), Var(v=-0.0183, grad=1.8309), Var(v=-0.0223, grad=2.2345), Var(v=-0.0137, grad=1.3734), Var(v=-0.0252, grad=2.5236), Var(v=0.0289, grad=-2.8926), Var(v=0.0598, grad=-5.9786), Var(v=-0.0515, grad=5.1502), Var(v=-0.0146, grad=1.4646), Var(v=-0.0267, grad=2.6710), Var(v=-0.0358, grad=3.5801), Var(v=0.0131, grad=-1.3093), Var(v=-0.0464, grad=4.6447), Var(v=0.0363, grad=-3.6281), Var(v=0.0242, grad=-2.4186)]\n",
      "Layer 1 \n",
      " Weights: [[Var(v=-0.1197, grad=0.0000), Var(v=0.0528, grad=-1.9424), Var(v=0.0267, grad=1.1282), Var(v=-0.0227, grad=0.0000), Var(v=0.0069, grad=-0.9568), Var(v=-0.0759, grad=0.0000), Var(v=-0.0108, grad=0.0000), Var(v=0.1388, grad=-0.2750), Var(v=0.0310, grad=0.0000), Var(v=0.0017, grad=0.0000), Var(v=-0.1148, grad=0.0000), Var(v=-0.0555, grad=0.0000), Var(v=0.0919, grad=0.2850), Var(v=-0.0213, grad=0.1013), Var(v=0.1602, grad=0.0000), Var(v=-0.0516, grad=0.4882), Var(v=-0.0278, grad=-0.3269), Var(v=-0.1402, grad=-1.7604), Var(v=0.0716, grad=1.5220), Var(v=-0.0032, grad=0.0000), Var(v=0.0348, grad=-0.5491), Var(v=0.0149, grad=0.0000), Var(v=0.0837, grad=0.0000), Var(v=0.0745, grad=0.0000), Var(v=-0.0729, grad=0.0000), Var(v=0.0595, grad=-0.1785), Var(v=0.0739, grad=-1.6856), Var(v=0.0815, grad=1.0209), Var(v=0.0655, grad=2.4182), Var(v=0.0461, grad=0.1294), Var(v=-0.1374, grad=0.0000), Var(v=-0.0735, grad=0.0000), Var(v=0.0379, grad=1.7788), Var(v=-0.0599, grad=0.0000), Var(v=-0.1019, grad=0.0000), Var(v=-0.2508, grad=0.0000), Var(v=-0.0377, grad=0.0000), Var(v=0.2178, grad=-1.0337), Var(v=0.2284, grad=-1.6409), Var(v=-0.1467, grad=0.0000), Var(v=-0.0585, grad=0.0000), Var(v=-0.1177, grad=0.0000), Var(v=0.0025, grad=0.0000), Var(v=0.1719, grad=0.0000), Var(v=0.1617, grad=0.5506), Var(v=-0.0249, grad=0.0000), Var(v=-0.1088, grad=0.0000), Var(v=-0.0143, grad=1.8370), Var(v=-0.0739, grad=0.0000), Var(v=-0.2577, grad=0.8666)], [Var(v=-0.1031, grad=0.0000), Var(v=-0.1050, grad=0.0000), Var(v=-0.0190, grad=-0.1096), Var(v=-0.0130, grad=0.0000), Var(v=-0.0552, grad=0.0929), Var(v=0.0346, grad=-0.0818), Var(v=-0.0781, grad=0.0000), Var(v=0.0266, grad=0.0267), Var(v=0.0768, grad=0.0240), Var(v=-0.0392, grad=0.0000), Var(v=-0.0306, grad=-0.1699), Var(v=0.0948, grad=0.0000), Var(v=-0.1621, grad=0.0000), Var(v=-0.1908, grad=-0.0098), Var(v=-0.0777, grad=0.0000), Var(v=0.0740, grad=0.0000), Var(v=0.1464, grad=0.0317), Var(v=0.0752, grad=0.1709), Var(v=0.0209, grad=-0.1478), Var(v=0.0330, grad=0.1726), Var(v=-0.0303, grad=0.0000), Var(v=0.0044, grad=0.0000), Var(v=-0.1828, grad=0.0000), Var(v=0.0042, grad=0.0516), Var(v=-0.0054, grad=-0.0860), Var(v=0.0453, grad=0.0173), Var(v=0.0425, grad=0.1637), Var(v=0.0086, grad=0.0000), Var(v=-0.0307, grad=0.0000), Var(v=0.0011, grad=0.0000), Var(v=-0.0689, grad=0.0000), Var(v=0.0834, grad=0.0000), Var(v=0.0293, grad=-0.1727), Var(v=-0.0415, grad=0.0000), Var(v=0.0844, grad=-0.0531), Var(v=0.0088, grad=0.0436), Var(v=0.0286, grad=0.0000), Var(v=0.0651, grad=0.1004), Var(v=-0.0274, grad=0.0000), Var(v=0.0428, grad=-0.1889), Var(v=-0.1500, grad=0.0000), Var(v=-0.0007, grad=0.2660), Var(v=-0.0953, grad=0.0058), Var(v=-0.0500, grad=0.0400), Var(v=0.1589, grad=0.0000), Var(v=-0.1615, grad=0.0719), Var(v=0.0650, grad=0.0000), Var(v=0.0498, grad=0.0000), Var(v=-0.0623, grad=-0.0696), Var(v=-0.0946, grad=-0.0841)], [Var(v=0.0110, grad=0.0000), Var(v=-0.0921, grad=0.0000), Var(v=-0.0061, grad=-0.0252), Var(v=-0.0234, grad=0.0000), Var(v=0.0292, grad=0.0214), Var(v=-0.0307, grad=-0.0188), Var(v=0.1323, grad=0.0000), Var(v=0.0911, grad=0.0062), Var(v=0.0882, grad=0.0055), Var(v=0.0302, grad=0.0000), Var(v=-0.0676, grad=-0.0392), Var(v=-0.2138, grad=0.0000), Var(v=0.1579, grad=0.0000), Var(v=0.0860, grad=-0.0023), Var(v=0.0060, grad=0.0000), Var(v=-0.0657, grad=0.0000), Var(v=-0.0920, grad=0.0073), Var(v=-0.0434, grad=0.0394), Var(v=-0.0825, grad=-0.0340), Var(v=0.0675, grad=0.0398), Var(v=-0.0723, grad=0.0000), Var(v=-0.0986, grad=0.0000), Var(v=-0.0461, grad=0.0000), Var(v=0.2614, grad=0.0119), Var(v=0.1091, grad=-0.0198), Var(v=-0.0474, grad=0.0040), Var(v=0.0567, grad=0.0377), Var(v=0.1099, grad=0.0000), Var(v=-0.1132, grad=0.0000), Var(v=0.0276, grad=0.0000), Var(v=-0.0572, grad=0.0000), Var(v=-0.1050, grad=0.0000), Var(v=0.0477, grad=-0.0398), Var(v=-0.1254, grad=0.0000), Var(v=0.0154, grad=-0.0122), Var(v=0.0033, grad=0.0100), Var(v=-0.0166, grad=0.0000), Var(v=0.0688, grad=0.0231), Var(v=0.1562, grad=0.0000), Var(v=0.1153, grad=-0.0435), Var(v=-0.0422, grad=0.0000), Var(v=0.0222, grad=0.0613), Var(v=-0.1568, grad=0.0013), Var(v=-0.0405, grad=0.0092), Var(v=0.0728, grad=0.0000), Var(v=-0.0039, grad=0.0166), Var(v=0.0173, grad=0.0000), Var(v=0.1757, grad=0.0000), Var(v=0.1000, grad=-0.0160), Var(v=-0.0917, grad=-0.0194)], [Var(v=-0.0996, grad=0.0000), Var(v=-0.1258, grad=0.0000), Var(v=0.0961, grad=-1.9712), Var(v=-0.0251, grad=0.0000), Var(v=0.0863, grad=1.6716), Var(v=0.1649, grad=-1.4713), Var(v=-0.1184, grad=0.0000), Var(v=0.0331, grad=0.4805), Var(v=-0.0398, grad=0.4326), Var(v=-0.0827, grad=0.0000), Var(v=0.1078, grad=-3.0579), Var(v=0.0692, grad=0.0000), Var(v=-0.0444, grad=0.0000), Var(v=-0.0124, grad=-0.1769), Var(v=0.0263, grad=0.0000), Var(v=-0.0184, grad=0.0000), Var(v=0.0464, grad=0.5711), Var(v=0.0328, grad=3.0756), Var(v=0.0917, grad=-2.6592), Var(v=0.0820, grad=3.1052), Var(v=-0.0851, grad=0.0000), Var(v=-0.1386, grad=0.0000), Var(v=-0.0457, grad=0.0000), Var(v=0.1063, grad=0.9287), Var(v=0.1243, grad=-1.5478), Var(v=0.1409, grad=0.3119), Var(v=0.0441, grad=2.9449), Var(v=-0.0029, grad=0.0000), Var(v=0.0423, grad=0.0000), Var(v=-0.1079, grad=0.0000), Var(v=0.0097, grad=0.0000), Var(v=0.0271, grad=0.0000), Var(v=-0.0133, grad=-3.1078), Var(v=-0.1270, grad=0.0000), Var(v=0.0436, grad=-0.9551), Var(v=0.0582, grad=0.7837), Var(v=-0.0975, grad=0.0000), Var(v=-0.0881, grad=1.8060), Var(v=-0.0658, grad=0.0000), Var(v=0.1072, grad=-3.3986), Var(v=-0.1033, grad=0.0000), Var(v=0.0786, grad=4.7866), Var(v=0.0129, grad=0.1050), Var(v=0.2567, grad=0.7202), Var(v=-0.0686, grad=0.0000), Var(v=-0.0926, grad=1.2941), Var(v=-0.2441, grad=0.0000), Var(v=-0.0589, grad=0.0000), Var(v=0.0818, grad=-1.2520), Var(v=0.1818, grad=-1.5140)], [Var(v=0.0197, grad=0.0000), Var(v=0.2011, grad=-2.4041), Var(v=-0.0152, grad=1.3964), Var(v=-0.0266, grad=0.0000), Var(v=0.1560, grad=-1.1842), Var(v=-0.1232, grad=0.0000), Var(v=-0.1001, grad=0.0000), Var(v=0.0788, grad=-0.3404), Var(v=-0.1200, grad=0.0000), Var(v=-0.1010, grad=0.0000), Var(v=-0.1158, grad=0.0000), Var(v=0.1120, grad=0.0000), Var(v=0.0429, grad=0.3527), Var(v=0.1377, grad=0.1253), Var(v=-0.1942, grad=0.0000), Var(v=0.0168, grad=0.6042), Var(v=0.0297, grad=-0.4046), Var(v=0.0027, grad=-2.1788), Var(v=0.1063, grad=1.8838), Var(v=0.0251, grad=0.0000), Var(v=0.2066, grad=-0.6796), Var(v=-0.0224, grad=0.0000), Var(v=-0.0237, grad=0.0000), Var(v=-0.1448, grad=0.0000), Var(v=0.0874, grad=0.0000), Var(v=0.1656, grad=-0.2210), Var(v=0.0042, grad=-2.0862), Var(v=-0.1329, grad=1.2636), Var(v=0.0389, grad=2.9930), Var(v=-0.0242, grad=0.1601), Var(v=-0.0211, grad=0.0000), Var(v=0.0795, grad=0.0000), Var(v=0.1102, grad=2.2016), Var(v=0.0814, grad=0.0000), Var(v=0.0712, grad=0.0000), Var(v=-0.1433, grad=0.0000), Var(v=-0.0234, grad=0.0000), Var(v=0.0806, grad=-1.2794), Var(v=0.0158, grad=-2.0309), Var(v=0.0584, grad=0.0000), Var(v=-0.0384, grad=0.0000), Var(v=0.0630, grad=0.0000), Var(v=0.0559, grad=0.0000), Var(v=-0.0909, grad=0.0000), Var(v=0.0153, grad=0.6815), Var(v=0.0719, grad=0.0000), Var(v=-0.1586, grad=0.0000), Var(v=0.1397, grad=2.2737), Var(v=-0.1030, grad=0.0000), Var(v=0.1749, grad=1.0725)], [Var(v=-0.0327, grad=0.0000), Var(v=-0.0154, grad=0.0000), Var(v=0.1016, grad=-0.3145), Var(v=-0.0717, grad=0.0000), Var(v=0.1205, grad=0.2667), Var(v=-0.0638, grad=-0.2347), Var(v=-0.0332, grad=0.0000), Var(v=-0.0907, grad=0.0767), Var(v=0.0192, grad=0.0690), Var(v=0.0052, grad=0.0000), Var(v=0.0164, grad=-0.4878), Var(v=-0.1459, grad=0.0000), Var(v=0.0271, grad=0.0000), Var(v=0.0613, grad=-0.0282), Var(v=-0.0141, grad=0.0000), Var(v=0.0044, grad=0.0000), Var(v=0.0088, grad=0.0911), Var(v=-0.1027, grad=0.4907), Var(v=-0.0074, grad=-0.4242), Var(v=-0.0737, grad=0.4954), Var(v=0.0776, grad=0.0000), Var(v=-0.1148, grad=0.0000), Var(v=-0.0042, grad=0.0000), Var(v=-0.1211, grad=0.1482), Var(v=0.0043, grad=-0.2469), Var(v=0.0399, grad=0.0498), Var(v=-0.1520, grad=0.4698), Var(v=-0.1423, grad=0.0000), Var(v=0.0094, grad=0.0000), Var(v=-0.1406, grad=0.0000), Var(v=-0.1705, grad=0.0000), Var(v=0.0887, grad=0.0000), Var(v=-0.0093, grad=-0.4958), Var(v=0.0480, grad=0.0000), Var(v=0.0094, grad=-0.1524), Var(v=-0.0922, grad=0.1250), Var(v=-0.0292, grad=0.0000), Var(v=0.2103, grad=0.2881), Var(v=-0.0908, grad=0.0000), Var(v=0.1901, grad=-0.5422), Var(v=-0.0008, grad=0.0000), Var(v=0.1171, grad=0.7636), Var(v=0.0959, grad=0.0168), Var(v=-0.2454, grad=0.1149), Var(v=0.0229, grad=0.0000), Var(v=0.0543, grad=0.2064), Var(v=0.0332, grad=0.0000), Var(v=-0.0203, grad=0.0000), Var(v=0.1050, grad=-0.1997), Var(v=-0.1516, grad=-0.2415)], [Var(v=0.1372, grad=0.0000), Var(v=0.1066, grad=-0.2536), Var(v=-0.0395, grad=0.1473), Var(v=-0.1293, grad=0.0000), Var(v=0.0870, grad=-0.1249), Var(v=-0.1040, grad=0.0000), Var(v=-0.0796, grad=0.0000), Var(v=0.0117, grad=-0.0359), Var(v=0.0953, grad=0.0000), Var(v=0.1068, grad=0.0000), Var(v=-0.0707, grad=0.0000), Var(v=-0.0609, grad=0.0000), Var(v=-0.0072, grad=0.0372), Var(v=0.1239, grad=0.0132), Var(v=0.0014, grad=0.0000), Var(v=-0.0008, grad=0.0637), Var(v=-0.0841, grad=-0.0427), Var(v=-0.0240, grad=-0.2299), Var(v=-0.0754, grad=0.1987), Var(v=0.1843, grad=0.0000), Var(v=0.0982, grad=-0.0717), Var(v=0.0540, grad=0.0000), Var(v=-0.0153, grad=0.0000), Var(v=-0.0225, grad=0.0000), Var(v=0.0874, grad=0.0000), Var(v=-0.0836, grad=-0.0233), Var(v=-0.0213, grad=-0.2201), Var(v=-0.1517, grad=0.1333), Var(v=0.2074, grad=0.3157), Var(v=0.0894, grad=0.0169), Var(v=-0.0077, grad=0.0000), Var(v=-0.1131, grad=0.0000), Var(v=-0.1464, grad=0.2323), Var(v=0.0362, grad=0.0000), Var(v=-0.0832, grad=0.0000), Var(v=0.1444, grad=0.0000), Var(v=0.0077, grad=0.0000), Var(v=-0.0066, grad=-0.1350), Var(v=0.1762, grad=-0.2142), Var(v=-0.0292, grad=0.0000), Var(v=0.0522, grad=0.0000), Var(v=-0.0581, grad=0.0000), Var(v=0.0247, grad=0.0000), Var(v=0.1928, grad=0.0000), Var(v=-0.0008, grad=0.0719), Var(v=0.1772, grad=0.0000), Var(v=0.0935, grad=0.0000), Var(v=-0.1289, grad=0.2399), Var(v=-0.0207, grad=0.0000), Var(v=-0.0152, grad=0.1131)], [Var(v=0.0377, grad=0.0000), Var(v=-0.0095, grad=-0.1850), Var(v=-0.0697, grad=0.1075), Var(v=-0.0885, grad=0.0000), Var(v=-0.0500, grad=-0.0911), Var(v=-0.0561, grad=0.0000), Var(v=-0.0625, grad=0.0000), Var(v=-0.1617, grad=-0.0262), Var(v=-0.0416, grad=0.0000), Var(v=-0.0351, grad=0.0000), Var(v=0.1167, grad=0.0000), Var(v=-0.0914, grad=0.0000), Var(v=-0.1030, grad=0.0271), Var(v=0.1776, grad=0.0096), Var(v=-0.0658, grad=0.0000), Var(v=-0.0819, grad=0.0465), Var(v=0.1784, grad=-0.0311), Var(v=0.0276, grad=-0.1677), Var(v=-0.1415, grad=0.1450), Var(v=0.1675, grad=0.0000), Var(v=-0.0970, grad=-0.0523), Var(v=0.0168, grad=0.0000), Var(v=0.0355, grad=0.0000), Var(v=-0.0580, grad=0.0000), Var(v=0.1397, grad=0.0000), Var(v=-0.0290, grad=-0.0170), Var(v=-0.1548, grad=-0.1605), Var(v=0.1312, grad=0.0972), Var(v=0.1494, grad=0.2303), Var(v=0.2167, grad=0.0123), Var(v=0.0567, grad=0.0000), Var(v=0.1652, grad=0.0000), Var(v=0.1159, grad=0.1694), Var(v=0.1112, grad=0.0000), Var(v=0.1487, grad=0.0000), Var(v=0.0811, grad=0.0000), Var(v=-0.1364, grad=0.0000), Var(v=0.0559, grad=-0.0985), Var(v=0.1688, grad=-0.1563), Var(v=0.0349, grad=0.0000), Var(v=0.0111, grad=0.0000), Var(v=0.0373, grad=0.0000), Var(v=0.1017, grad=0.0000), Var(v=0.0577, grad=0.0000), Var(v=0.1160, grad=0.0524), Var(v=-0.0785, grad=0.0000), Var(v=0.0683, grad=0.0000), Var(v=0.1515, grad=0.1750), Var(v=-0.1122, grad=0.0000), Var(v=-0.0985, grad=0.0825)], [Var(v=-0.1159, grad=0.0000), Var(v=-0.0535, grad=-1.0125), Var(v=-0.0547, grad=0.5881), Var(v=-0.0394, grad=0.0000), Var(v=-0.0474, grad=-0.4987), Var(v=0.0107, grad=0.0000), Var(v=0.0054, grad=0.0000), Var(v=-0.0632, grad=-0.1434), Var(v=-0.0374, grad=0.0000), Var(v=-0.0512, grad=0.0000), Var(v=-0.0162, grad=0.0000), Var(v=-0.1115, grad=0.0000), Var(v=0.1213, grad=0.1485), Var(v=0.0261, grad=0.0528), Var(v=0.0045, grad=0.0000), Var(v=-0.0202, grad=0.2545), Var(v=0.1262, grad=-0.1704), Var(v=-0.0350, grad=-0.9176), Var(v=-0.1595, grad=0.7933), Var(v=-0.0800, grad=0.0000), Var(v=0.0818, grad=-0.2862), Var(v=-0.0178, grad=0.0000), Var(v=0.0963, grad=0.0000), Var(v=-0.1569, grad=0.0000), Var(v=0.0523, grad=0.0000), Var(v=0.0380, grad=-0.0931), Var(v=0.1869, grad=-0.8786), Var(v=0.1815, grad=0.5321), Var(v=0.0209, grad=1.2605), Var(v=0.1447, grad=0.0674), Var(v=-0.0948, grad=0.0000), Var(v=-0.1626, grad=0.0000), Var(v=0.0658, grad=0.9272), Var(v=-0.0473, grad=0.0000), Var(v=-0.1203, grad=0.0000), Var(v=0.1019, grad=0.0000), Var(v=-0.0432, grad=0.0000), Var(v=0.0015, grad=-0.5388), Var(v=-0.1259, grad=-0.8553), Var(v=0.2880, grad=0.0000), Var(v=0.0488, grad=0.0000), Var(v=-0.0542, grad=0.0000), Var(v=0.0664, grad=0.0000), Var(v=0.0524, grad=0.0000), Var(v=0.2213, grad=0.2870), Var(v=-0.0576, grad=0.0000), Var(v=0.0452, grad=0.0000), Var(v=-0.0870, grad=0.9575), Var(v=0.0738, grad=0.0000), Var(v=-0.0779, grad=0.4517)], [Var(v=0.0659, grad=0.0000), Var(v=0.0936, grad=-0.7188), Var(v=0.0543, grad=0.4175), Var(v=0.0436, grad=0.0000), Var(v=0.0959, grad=-0.3541), Var(v=-0.1993, grad=0.0000), Var(v=-0.0283, grad=0.0000), Var(v=-0.0430, grad=-0.1018), Var(v=0.1094, grad=0.0000), Var(v=-0.1659, grad=0.0000), Var(v=-0.0977, grad=0.0000), Var(v=-0.0644, grad=0.0000), Var(v=0.0044, grad=0.1055), Var(v=-0.1634, grad=0.0375), Var(v=0.0717, grad=0.0000), Var(v=0.0553, grad=0.1807), Var(v=-0.1232, grad=-0.1210), Var(v=0.2038, grad=-0.6514), Var(v=0.3719, grad=0.5632), Var(v=-0.0549, grad=0.0000), Var(v=0.1751, grad=-0.2032), Var(v=-0.0420, grad=0.0000), Var(v=-0.0465, grad=0.0000), Var(v=0.1111, grad=0.0000), Var(v=0.0602, grad=0.0000), Var(v=-0.1047, grad=-0.0661), Var(v=-0.0110, grad=-0.6238), Var(v=-0.0194, grad=0.3778), Var(v=0.2388, grad=0.8949), Var(v=-0.0776, grad=0.0479), Var(v=-0.1774, grad=0.0000), Var(v=0.0522, grad=0.0000), Var(v=0.1168, grad=0.6582), Var(v=-0.0264, grad=0.0000), Var(v=0.0097, grad=0.0000), Var(v=-0.0008, grad=0.0000), Var(v=0.0295, grad=0.0000), Var(v=-0.0533, grad=-0.3825), Var(v=0.0392, grad=-0.6072), Var(v=0.0014, grad=0.0000), Var(v=0.0212, grad=0.0000), Var(v=-0.1903, grad=0.0000), Var(v=-0.1036, grad=0.0000), Var(v=0.0346, grad=0.0000), Var(v=-0.0181, grad=0.2038), Var(v=-0.1422, grad=0.0000), Var(v=-0.1378, grad=0.0000), Var(v=-0.2418, grad=0.6798), Var(v=0.2273, grad=0.0000), Var(v=-0.0836, grad=0.3207)], [Var(v=-0.0162, grad=0.0000), Var(v=0.0113, grad=-3.6856), Var(v=0.0809, grad=2.1407), Var(v=-0.1441, grad=0.0000), Var(v=0.1191, grad=-1.8154), Var(v=-0.0716, grad=0.0000), Var(v=-0.1328, grad=0.0000), Var(v=-0.0769, grad=-0.5219), Var(v=-0.0746, grad=0.0000), Var(v=0.0398, grad=0.0000), Var(v=-0.1409, grad=0.0000), Var(v=-0.0795, grad=0.0000), Var(v=0.0109, grad=0.5407), Var(v=0.1435, grad=0.1922), Var(v=-0.0240, grad=0.0000), Var(v=0.1029, grad=0.9263), Var(v=0.2195, grad=-0.6202), Var(v=0.1447, grad=-3.3402), Var(v=-0.0696, grad=2.8879), Var(v=-0.0510, grad=0.0000), Var(v=-0.0374, grad=-1.0419), Var(v=-0.0043, grad=0.0000), Var(v=-0.0540, grad=0.0000), Var(v=0.0045, grad=0.0000), Var(v=-0.1030, grad=0.0000), Var(v=-0.0197, grad=-0.3388), Var(v=0.0597, grad=-3.1982), Var(v=0.0564, grad=1.9371), Var(v=0.0151, grad=4.5884), Var(v=0.1179, grad=0.2455), Var(v=-0.0394, grad=0.0000), Var(v=-0.0008, grad=0.0000), Var(v=0.0883, grad=3.3751), Var(v=-0.0701, grad=0.0000), Var(v=-0.0451, grad=0.0000), Var(v=0.0891, grad=0.0000), Var(v=0.0045, grad=0.0000), Var(v=-0.0596, grad=-1.9614), Var(v=0.1980, grad=-3.1134), Var(v=-0.1119, grad=0.0000), Var(v=-0.0349, grad=0.0000), Var(v=-0.1380, grad=0.0000), Var(v=-0.0602, grad=0.0000), Var(v=-0.1114, grad=0.0000), Var(v=0.0741, grad=1.0448), Var(v=-0.0635, grad=0.0000), Var(v=0.0088, grad=0.0000), Var(v=0.0974, grad=3.4856), Var(v=-0.0746, grad=0.0000), Var(v=0.0795, grad=1.6442)], [Var(v=0.0249, grad=0.0000), Var(v=-0.0299, grad=0.0000), Var(v=-0.0616, grad=-0.3842), Var(v=0.0218, grad=0.0000), Var(v=-0.0288, grad=0.3258), Var(v=0.0580, grad=-0.2868), Var(v=-0.0660, grad=0.0000), Var(v=-0.2330, grad=0.0937), Var(v=0.1742, grad=0.0843), Var(v=-0.0662, grad=0.0000), Var(v=0.0195, grad=-0.5961), Var(v=0.0496, grad=0.0000), Var(v=-0.1329, grad=0.0000), Var(v=-0.0429, grad=-0.0345), Var(v=0.1028, grad=0.0000), Var(v=-0.2546, grad=0.0000), Var(v=-0.1183, grad=0.1113), Var(v=0.0674, grad=0.5995), Var(v=0.2269, grad=-0.5184), Var(v=0.0687, grad=0.6053), Var(v=-0.1022, grad=0.0000), Var(v=-0.0716, grad=0.0000), Var(v=-0.1617, grad=0.0000), Var(v=0.0160, grad=0.1810), Var(v=-0.0668, grad=-0.3017), Var(v=0.0158, grad=0.0608), Var(v=0.0164, grad=0.5740), Var(v=0.0239, grad=0.0000), Var(v=0.0465, grad=0.0000), Var(v=-0.0018, grad=0.0000), Var(v=-0.0016, grad=0.0000), Var(v=0.0684, grad=0.0000), Var(v=0.0438, grad=-0.6058), Var(v=-0.1239, grad=0.0000), Var(v=0.0761, grad=-0.1862), Var(v=-0.1700, grad=0.1528), Var(v=-0.0173, grad=0.0000), Var(v=0.0330, grad=0.3520), Var(v=-0.0538, grad=0.0000), Var(v=0.0492, grad=-0.6625), Var(v=-0.0061, grad=0.0000), Var(v=-0.0098, grad=0.9330), Var(v=-0.0919, grad=0.0205), Var(v=-0.1442, grad=0.1404), Var(v=0.1748, grad=0.0000), Var(v=0.0437, grad=0.2523), Var(v=-0.0272, grad=0.0000), Var(v=0.0427, grad=0.0000), Var(v=-0.0113, grad=-0.2441), Var(v=-0.1353, grad=-0.2951)], [Var(v=-0.2336, grad=0.0000), Var(v=0.0788, grad=0.0000), Var(v=-0.0086, grad=-1.6856), Var(v=-0.0141, grad=0.0000), Var(v=0.0528, grad=1.4295), Var(v=-0.0442, grad=-1.2581), Var(v=-0.0341, grad=0.0000), Var(v=0.0818, grad=0.4109), Var(v=0.0697, grad=0.3699), Var(v=0.0045, grad=0.0000), Var(v=0.0485, grad=-2.6149), Var(v=-0.0836, grad=0.0000), Var(v=-0.1350, grad=0.0000), Var(v=0.0782, grad=-0.1513), Var(v=-0.0525, grad=0.0000), Var(v=-0.0521, grad=0.0000), Var(v=0.0551, grad=0.4883), Var(v=-0.0128, grad=2.6301), Var(v=0.0284, grad=-2.2739), Var(v=-0.0291, grad=2.6553), Var(v=-0.0150, grad=0.0000), Var(v=-0.1088, grad=0.0000), Var(v=-0.0110, grad=0.0000), Var(v=-0.0337, grad=0.7941), Var(v=0.0238, grad=-1.3236), Var(v=-0.0846, grad=0.2667), Var(v=0.0282, grad=2.5183), Var(v=-0.1167, grad=0.0000), Var(v=-0.0602, grad=0.0000), Var(v=0.0393, grad=0.0000), Var(v=-0.0222, grad=0.0000), Var(v=-0.1079, grad=0.0000), Var(v=0.1048, grad=-2.6575), Var(v=-0.1353, grad=0.0000), Var(v=0.1436, grad=-0.8167), Var(v=0.1272, grad=0.6701), Var(v=-0.0551, grad=0.0000), Var(v=0.0379, grad=1.5444), Var(v=0.1048, grad=0.0000), Var(v=-0.0473, grad=-2.9062), Var(v=-0.0676, grad=0.0000), Var(v=0.0836, grad=4.0931), Var(v=0.0527, grad=0.0898), Var(v=-0.1140, grad=0.6159), Var(v=-0.0342, grad=0.0000), Var(v=0.0927, grad=1.1066), Var(v=0.1976, grad=0.0000), Var(v=-0.1291, grad=0.0000), Var(v=0.0135, grad=-1.0706), Var(v=0.0628, grad=-1.2947)], [Var(v=0.0016, grad=0.0000), Var(v=0.0323, grad=0.0000), Var(v=0.0343, grad=-0.4438), Var(v=0.1434, grad=0.0000), Var(v=-0.2302, grad=0.3763), Var(v=0.0106, grad=-0.3312), Var(v=0.0720, grad=0.0000), Var(v=-0.0816, grad=0.1082), Var(v=0.1629, grad=0.0974), Var(v=0.0858, grad=0.0000), Var(v=0.0331, grad=-0.6884), Var(v=-0.1075, grad=0.0000), Var(v=-0.0288, grad=0.0000), Var(v=-0.0438, grad=-0.0398), Var(v=-0.0858, grad=0.0000), Var(v=0.0489, grad=0.0000), Var(v=-0.0874, grad=0.1286), Var(v=-0.2437, grad=0.6924), Var(v=0.0644, grad=-0.5986), Var(v=0.2127, grad=0.6990), Var(v=-0.0006, grad=0.0000), Var(v=-0.1231, grad=0.0000), Var(v=0.0708, grad=0.0000), Var(v=-0.0549, grad=0.2091), Var(v=0.0369, grad=-0.3485), Var(v=-0.0566, grad=0.0702), Var(v=-0.0570, grad=0.6630), Var(v=0.1276, grad=0.0000), Var(v=-0.0363, grad=0.0000), Var(v=-0.0512, grad=0.0000), Var(v=0.0682, grad=0.0000), Var(v=0.0115, grad=0.0000), Var(v=0.1000, grad=-0.6996), Var(v=-0.0863, grad=0.0000), Var(v=0.1136, grad=-0.2150), Var(v=-0.1383, grad=0.1764), Var(v=0.0037, grad=0.0000), Var(v=0.0626, grad=0.4066), Var(v=-0.0357, grad=0.0000), Var(v=-0.0809, grad=-0.7651), Var(v=-0.1064, grad=0.0000), Var(v=-0.0196, grad=1.0776), Var(v=-0.0348, grad=0.0236), Var(v=0.0817, grad=0.1621), Var(v=-0.0141, grad=0.0000), Var(v=0.0863, grad=0.2913), Var(v=-0.0341, grad=0.0000), Var(v=-0.0305, grad=0.0000), Var(v=-0.1012, grad=-0.2819), Var(v=-0.0018, grad=-0.3408)], [Var(v=0.0701, grad=0.0000), Var(v=0.2269, grad=0.0000), Var(v=-0.0505, grad=-0.0769), Var(v=-0.1640, grad=0.0000), Var(v=0.0741, grad=0.0652), Var(v=0.0086, grad=-0.0574), Var(v=-0.0316, grad=0.0000), Var(v=0.0650, grad=0.0187), Var(v=0.0618, grad=0.0169), Var(v=-0.1711, grad=0.0000), Var(v=0.1531, grad=-0.1193), Var(v=0.1200, grad=0.0000), Var(v=-0.0346, grad=0.0000), Var(v=-0.0247, grad=-0.0069), Var(v=0.0816, grad=0.0000), Var(v=0.1640, grad=0.0000), Var(v=0.0011, grad=0.0223), Var(v=-0.0642, grad=0.1199), Var(v=-0.2125, grad=-0.1037), Var(v=-0.0629, grad=0.1211), Var(v=0.1300, grad=0.0000), Var(v=-0.0595, grad=0.0000), Var(v=-0.1267, grad=0.0000), Var(v=0.1036, grad=0.0362), Var(v=0.0621, grad=-0.0604), Var(v=-0.1058, grad=0.0122), Var(v=-0.1530, grad=0.1149), Var(v=-0.1842, grad=0.0000), Var(v=-0.1781, grad=0.0000), Var(v=-0.0280, grad=0.0000), Var(v=0.0026, grad=0.0000), Var(v=-0.0484, grad=0.0000), Var(v=0.0102, grad=-0.1212), Var(v=0.1009, grad=0.0000), Var(v=-0.0689, grad=-0.0372), Var(v=0.2212, grad=0.0306), Var(v=-0.0748, grad=0.0000), Var(v=-0.1289, grad=0.0704), Var(v=-0.0584, grad=0.0000), Var(v=0.0440, grad=-0.1325), Var(v=-0.0523, grad=0.0000), Var(v=-0.0151, grad=0.1867), Var(v=0.0861, grad=0.0041), Var(v=0.0294, grad=0.0281), Var(v=-0.0427, grad=0.0000), Var(v=-0.0341, grad=0.0505), Var(v=0.0204, grad=0.0000), Var(v=0.1034, grad=0.0000), Var(v=-0.0269, grad=-0.0488), Var(v=-0.0946, grad=-0.0590)]] Biases: [Var(v=0.0000, grad=0.0000), Var(v=0.1513, grad=-15.1324), Var(v=-0.0006, grad=0.0579), Var(v=0.0000, grad=0.0000), Var(v=0.0005, grad=-0.0491), Var(v=0.0652, grad=-6.5173), Var(v=0.0000, grad=0.0000), Var(v=0.0001, grad=-0.0141), Var(v=-0.0192, grad=1.9161), Var(v=0.0000, grad=0.0000), Var(v=0.1355, grad=-13.5454), Var(v=0.0000, grad=0.0000), Var(v=-0.0222, grad=2.2201), Var(v=-0.0001, grad=0.0052), Var(v=0.0000, grad=0.0000), Var(v=-0.0380, grad=3.8034), Var(v=0.0002, grad=-0.0168), Var(v=0.0009, grad=-0.0903), Var(v=-0.0008, grad=0.0781), Var(v=-0.1375, grad=13.7550), Var(v=0.0428, grad=-4.2777), Var(v=0.0000, grad=0.0000), Var(v=0.0000, grad=0.0000), Var(v=-0.0411, grad=4.1136), Var(v=0.0686, grad=-6.8565), Var(v=0.0001, grad=-0.0092), Var(v=0.0009, grad=-0.0865), Var(v=-0.0795, grad=7.9533), Var(v=-0.1884, grad=18.8391), Var(v=-0.0101, grad=1.0079), Var(v=0.0000, grad=0.0000), Var(v=0.0000, grad=0.0000), Var(v=-0.0009, grad=0.0912), Var(v=0.0000, grad=0.0000), Var(v=0.0423, grad=-4.2307), Var(v=-0.0347, grad=3.4714), Var(v=0.0000, grad=0.0000), Var(v=0.0005, grad=-0.0530), Var(v=0.1278, grad=-12.7831), Var(v=0.1505, grad=-15.0546), Var(v=0.0000, grad=0.0000), Var(v=-0.2120, grad=21.2030), Var(v=-0.0047, grad=0.4653), Var(v=-0.0319, grad=3.1904), Var(v=-0.0429, grad=4.2896), Var(v=-0.0573, grad=5.7323), Var(v=0.0000, grad=0.0000), Var(v=-0.1431, grad=14.3114), Var(v=0.0555, grad=-5.5460), Var(v=-0.0004, grad=0.0444)]\n",
      "Layer 2 \n",
      " Weights: [[Var(v=-0.0462, grad=0.0000)], [Var(v=-0.1952, grad=2.4510)], [Var(v=0.0868, grad=1.2341)], [Var(v=-0.0081, grad=0.0000)], [Var(v=-0.1027, grad=1.8588)], [Var(v=0.0949, grad=-2.0927)], [Var(v=0.0148, grad=0.0000)], [Var(v=-0.0175, grad=-0.6632)], [Var(v=-0.0000, grad=-2.1728)], [Var(v=0.0754, grad=0.0000)], [Var(v=0.1757, grad=-2.1859)], [Var(v=0.1108, grad=0.0000)], [Var(v=-0.0021, grad=2.7141)], [Var(v=-0.0318, grad=4.0735)], [Var(v=-0.0067, grad=0.0000)], [Var(v=0.0203, grad=2.2574)], [Var(v=-0.0638, grad=3.5073)], [Var(v=-0.1593, grad=0.4615)], [Var(v=0.1339, grad=-0.0095)], [Var(v=-0.1236, grad=-3.2648)], [Var(v=-0.0818, grad=3.3513)], [Var(v=0.0072, grad=0.0000)], [Var(v=0.1028, grad=0.0000)], [Var(v=-0.0321, grad=-1.4657)], [Var(v=0.1008, grad=-2.2955)], [Var(v=-0.0228, grad=0.7126)], [Var(v=-0.1490, grad=0.0826)], [Var(v=0.0702, grad=1.9482)], [Var(v=0.1623, grad=5.0252)], [Var(v=-0.0259, grad=3.7226)], [Var(v=-0.0011, grad=0.0000)], [Var(v=0.1305, grad=0.0000)], [Var(v=0.1064, grad=4.9923)], [Var(v=0.0109, grad=0.0000)], [Var(v=0.0864, grad=-3.8337)], [Var(v=-0.0172, grad=-2.2205)], [Var(v=-0.1855, grad=0.0000)], [Var(v=-0.0985, grad=0.7669)], [Var(v=-0.2015, grad=5.7325)], [Var(v=0.1772, grad=-0.6197)], [Var(v=0.0207, grad=0.0000)], [Var(v=-0.1910, grad=-4.9832)], [Var(v=0.0038, grad=-0.9046)], [Var(v=-0.0121, grad=-2.4149)], [Var(v=-0.0059, grad=5.4279)], [Var(v=-0.0578, grad=-0.7331)], [Var(v=0.0667, grad=0.0000)], [Var(v=0.1243, grad=3.7178)], [Var(v=0.0747, grad=-1.1674)], [Var(v=0.0958, grad=-1.9587)]] Biases: [Var(v=-0.0058, grad=0.5835)]\n",
      "\n",
      "Network after zeroing gradients:\n",
      "Layer 0 \n",
      " Weights: [[Var(v=-0.1184, grad=0.0000), Var(v=-0.0105, grad=0.0000), Var(v=-0.0235, grad=0.0000), Var(v=0.1779, grad=0.0000), Var(v=-0.1167, grad=0.0000), Var(v=0.0646, grad=0.0000), Var(v=-0.0810, grad=0.0000), Var(v=0.0455, grad=0.0000), Var(v=-0.0447, grad=0.0000), Var(v=-0.0138, grad=0.0000), Var(v=-0.1821, grad=0.0000), Var(v=0.0530, grad=0.0000), Var(v=0.1117, grad=0.0000), Var(v=0.0859, grad=0.0000), Var(v=0.0357, grad=0.0000)]] Biases: [Var(v=0.0016, grad=0.0000), Var(v=-0.0183, grad=0.0000), Var(v=-0.0223, grad=0.0000), Var(v=-0.0137, grad=0.0000), Var(v=-0.0252, grad=0.0000), Var(v=0.0289, grad=0.0000), Var(v=0.0598, grad=0.0000), Var(v=-0.0515, grad=0.0000), Var(v=-0.0146, grad=0.0000), Var(v=-0.0267, grad=0.0000), Var(v=-0.0358, grad=0.0000), Var(v=0.0131, grad=0.0000), Var(v=-0.0464, grad=0.0000), Var(v=0.0363, grad=0.0000), Var(v=0.0242, grad=0.0000)]\n",
      "Layer 1 \n",
      " Weights: [[Var(v=-0.1197, grad=0.0000), Var(v=0.0528, grad=0.0000), Var(v=0.0267, grad=0.0000), Var(v=-0.0227, grad=0.0000), Var(v=0.0069, grad=0.0000), Var(v=-0.0759, grad=0.0000), Var(v=-0.0108, grad=0.0000), Var(v=0.1388, grad=0.0000), Var(v=0.0310, grad=0.0000), Var(v=0.0017, grad=0.0000), Var(v=-0.1148, grad=0.0000), Var(v=-0.0555, grad=0.0000), Var(v=0.0919, grad=0.0000), Var(v=-0.0213, grad=0.0000), Var(v=0.1602, grad=0.0000), Var(v=-0.0516, grad=0.0000), Var(v=-0.0278, grad=0.0000), Var(v=-0.1402, grad=0.0000), Var(v=0.0716, grad=0.0000), Var(v=-0.0032, grad=0.0000), Var(v=0.0348, grad=0.0000), Var(v=0.0149, grad=0.0000), Var(v=0.0837, grad=0.0000), Var(v=0.0745, grad=0.0000), Var(v=-0.0729, grad=0.0000), Var(v=0.0595, grad=0.0000), Var(v=0.0739, grad=0.0000), Var(v=0.0815, grad=0.0000), Var(v=0.0655, grad=0.0000), Var(v=0.0461, grad=0.0000), Var(v=-0.1374, grad=0.0000), Var(v=-0.0735, grad=0.0000), Var(v=0.0379, grad=0.0000), Var(v=-0.0599, grad=0.0000), Var(v=-0.1019, grad=0.0000), Var(v=-0.2508, grad=0.0000), Var(v=-0.0377, grad=0.0000), Var(v=0.2178, grad=0.0000), Var(v=0.2284, grad=0.0000), Var(v=-0.1467, grad=0.0000), Var(v=-0.0585, grad=0.0000), Var(v=-0.1177, grad=0.0000), Var(v=0.0025, grad=0.0000), Var(v=0.1719, grad=0.0000), Var(v=0.1617, grad=0.0000), Var(v=-0.0249, grad=0.0000), Var(v=-0.1088, grad=0.0000), Var(v=-0.0143, grad=0.0000), Var(v=-0.0739, grad=0.0000), Var(v=-0.2577, grad=0.0000)], [Var(v=-0.1031, grad=0.0000), Var(v=-0.1050, grad=0.0000), Var(v=-0.0190, grad=0.0000), Var(v=-0.0130, grad=0.0000), Var(v=-0.0552, grad=0.0000), Var(v=0.0346, grad=0.0000), Var(v=-0.0781, grad=0.0000), Var(v=0.0266, grad=0.0000), Var(v=0.0768, grad=0.0000), Var(v=-0.0392, grad=0.0000), Var(v=-0.0306, grad=0.0000), Var(v=0.0948, grad=0.0000), Var(v=-0.1621, grad=0.0000), Var(v=-0.1908, grad=0.0000), Var(v=-0.0777, grad=0.0000), Var(v=0.0740, grad=0.0000), Var(v=0.1464, grad=0.0000), Var(v=0.0752, grad=0.0000), Var(v=0.0209, grad=0.0000), Var(v=0.0330, grad=0.0000), Var(v=-0.0303, grad=0.0000), Var(v=0.0044, grad=0.0000), Var(v=-0.1828, grad=0.0000), Var(v=0.0042, grad=0.0000), Var(v=-0.0054, grad=0.0000), Var(v=0.0453, grad=0.0000), Var(v=0.0425, grad=0.0000), Var(v=0.0086, grad=0.0000), Var(v=-0.0307, grad=0.0000), Var(v=0.0011, grad=0.0000), Var(v=-0.0689, grad=0.0000), Var(v=0.0834, grad=0.0000), Var(v=0.0293, grad=0.0000), Var(v=-0.0415, grad=0.0000), Var(v=0.0844, grad=0.0000), Var(v=0.0088, grad=0.0000), Var(v=0.0286, grad=0.0000), Var(v=0.0651, grad=0.0000), Var(v=-0.0274, grad=0.0000), Var(v=0.0428, grad=0.0000), Var(v=-0.1500, grad=0.0000), Var(v=-0.0007, grad=0.0000), Var(v=-0.0953, grad=0.0000), Var(v=-0.0500, grad=0.0000), Var(v=0.1589, grad=0.0000), Var(v=-0.1615, grad=0.0000), Var(v=0.0650, grad=0.0000), Var(v=0.0498, grad=0.0000), Var(v=-0.0623, grad=0.0000), Var(v=-0.0946, grad=0.0000)], [Var(v=0.0110, grad=0.0000), Var(v=-0.0921, grad=0.0000), Var(v=-0.0061, grad=0.0000), Var(v=-0.0234, grad=0.0000), Var(v=0.0292, grad=0.0000), Var(v=-0.0307, grad=0.0000), Var(v=0.1323, grad=0.0000), Var(v=0.0911, grad=0.0000), Var(v=0.0882, grad=0.0000), Var(v=0.0302, grad=0.0000), Var(v=-0.0676, grad=0.0000), Var(v=-0.2138, grad=0.0000), Var(v=0.1579, grad=0.0000), Var(v=0.0860, grad=0.0000), Var(v=0.0060, grad=0.0000), Var(v=-0.0657, grad=0.0000), Var(v=-0.0920, grad=0.0000), Var(v=-0.0434, grad=0.0000), Var(v=-0.0825, grad=0.0000), Var(v=0.0675, grad=0.0000), Var(v=-0.0723, grad=0.0000), Var(v=-0.0986, grad=0.0000), Var(v=-0.0461, grad=0.0000), Var(v=0.2614, grad=0.0000), Var(v=0.1091, grad=0.0000), Var(v=-0.0474, grad=0.0000), Var(v=0.0567, grad=0.0000), Var(v=0.1099, grad=0.0000), Var(v=-0.1132, grad=0.0000), Var(v=0.0276, grad=0.0000), Var(v=-0.0572, grad=0.0000), Var(v=-0.1050, grad=0.0000), Var(v=0.0477, grad=0.0000), Var(v=-0.1254, grad=0.0000), Var(v=0.0154, grad=0.0000), Var(v=0.0033, grad=0.0000), Var(v=-0.0166, grad=0.0000), Var(v=0.0688, grad=0.0000), Var(v=0.1562, grad=0.0000), Var(v=0.1153, grad=0.0000), Var(v=-0.0422, grad=0.0000), Var(v=0.0222, grad=0.0000), Var(v=-0.1568, grad=0.0000), Var(v=-0.0405, grad=0.0000), Var(v=0.0728, grad=0.0000), Var(v=-0.0039, grad=0.0000), Var(v=0.0173, grad=0.0000), Var(v=0.1757, grad=0.0000), Var(v=0.1000, grad=0.0000), Var(v=-0.0917, grad=0.0000)], [Var(v=-0.0996, grad=0.0000), Var(v=-0.1258, grad=0.0000), Var(v=0.0961, grad=0.0000), Var(v=-0.0251, grad=0.0000), Var(v=0.0863, grad=0.0000), Var(v=0.1649, grad=0.0000), Var(v=-0.1184, grad=0.0000), Var(v=0.0331, grad=0.0000), Var(v=-0.0398, grad=0.0000), Var(v=-0.0827, grad=0.0000), Var(v=0.1078, grad=0.0000), Var(v=0.0692, grad=0.0000), Var(v=-0.0444, grad=0.0000), Var(v=-0.0124, grad=0.0000), Var(v=0.0263, grad=0.0000), Var(v=-0.0184, grad=0.0000), Var(v=0.0464, grad=0.0000), Var(v=0.0328, grad=0.0000), Var(v=0.0917, grad=0.0000), Var(v=0.0820, grad=0.0000), Var(v=-0.0851, grad=0.0000), Var(v=-0.1386, grad=0.0000), Var(v=-0.0457, grad=0.0000), Var(v=0.1063, grad=0.0000), Var(v=0.1243, grad=0.0000), Var(v=0.1409, grad=0.0000), Var(v=0.0441, grad=0.0000), Var(v=-0.0029, grad=0.0000), Var(v=0.0423, grad=0.0000), Var(v=-0.1079, grad=0.0000), Var(v=0.0097, grad=0.0000), Var(v=0.0271, grad=0.0000), Var(v=-0.0133, grad=0.0000), Var(v=-0.1270, grad=0.0000), Var(v=0.0436, grad=0.0000), Var(v=0.0582, grad=0.0000), Var(v=-0.0975, grad=0.0000), Var(v=-0.0881, grad=0.0000), Var(v=-0.0658, grad=0.0000), Var(v=0.1072, grad=0.0000), Var(v=-0.1033, grad=0.0000), Var(v=0.0786, grad=0.0000), Var(v=0.0129, grad=0.0000), Var(v=0.2567, grad=0.0000), Var(v=-0.0686, grad=0.0000), Var(v=-0.0926, grad=0.0000), Var(v=-0.2441, grad=0.0000), Var(v=-0.0589, grad=0.0000), Var(v=0.0818, grad=0.0000), Var(v=0.1818, grad=0.0000)], [Var(v=0.0197, grad=0.0000), Var(v=0.2011, grad=0.0000), Var(v=-0.0152, grad=0.0000), Var(v=-0.0266, grad=0.0000), Var(v=0.1560, grad=0.0000), Var(v=-0.1232, grad=0.0000), Var(v=-0.1001, grad=0.0000), Var(v=0.0788, grad=0.0000), Var(v=-0.1200, grad=0.0000), Var(v=-0.1010, grad=0.0000), Var(v=-0.1158, grad=0.0000), Var(v=0.1120, grad=0.0000), Var(v=0.0429, grad=0.0000), Var(v=0.1377, grad=0.0000), Var(v=-0.1942, grad=0.0000), Var(v=0.0168, grad=0.0000), Var(v=0.0297, grad=0.0000), Var(v=0.0027, grad=0.0000), Var(v=0.1063, grad=0.0000), Var(v=0.0251, grad=0.0000), Var(v=0.2066, grad=0.0000), Var(v=-0.0224, grad=0.0000), Var(v=-0.0237, grad=0.0000), Var(v=-0.1448, grad=0.0000), Var(v=0.0874, grad=0.0000), Var(v=0.1656, grad=0.0000), Var(v=0.0042, grad=0.0000), Var(v=-0.1329, grad=0.0000), Var(v=0.0389, grad=0.0000), Var(v=-0.0242, grad=0.0000), Var(v=-0.0211, grad=0.0000), Var(v=0.0795, grad=0.0000), Var(v=0.1102, grad=0.0000), Var(v=0.0814, grad=0.0000), Var(v=0.0712, grad=0.0000), Var(v=-0.1433, grad=0.0000), Var(v=-0.0234, grad=0.0000), Var(v=0.0806, grad=0.0000), Var(v=0.0158, grad=0.0000), Var(v=0.0584, grad=0.0000), Var(v=-0.0384, grad=0.0000), Var(v=0.0630, grad=0.0000), Var(v=0.0559, grad=0.0000), Var(v=-0.0909, grad=0.0000), Var(v=0.0153, grad=0.0000), Var(v=0.0719, grad=0.0000), Var(v=-0.1586, grad=0.0000), Var(v=0.1397, grad=0.0000), Var(v=-0.1030, grad=0.0000), Var(v=0.1749, grad=0.0000)], [Var(v=-0.0327, grad=0.0000), Var(v=-0.0154, grad=0.0000), Var(v=0.1016, grad=0.0000), Var(v=-0.0717, grad=0.0000), Var(v=0.1205, grad=0.0000), Var(v=-0.0638, grad=0.0000), Var(v=-0.0332, grad=0.0000), Var(v=-0.0907, grad=0.0000), Var(v=0.0192, grad=0.0000), Var(v=0.0052, grad=0.0000), Var(v=0.0164, grad=0.0000), Var(v=-0.1459, grad=0.0000), Var(v=0.0271, grad=0.0000), Var(v=0.0613, grad=0.0000), Var(v=-0.0141, grad=0.0000), Var(v=0.0044, grad=0.0000), Var(v=0.0088, grad=0.0000), Var(v=-0.1027, grad=0.0000), Var(v=-0.0074, grad=0.0000), Var(v=-0.0737, grad=0.0000), Var(v=0.0776, grad=0.0000), Var(v=-0.1148, grad=0.0000), Var(v=-0.0042, grad=0.0000), Var(v=-0.1211, grad=0.0000), Var(v=0.0043, grad=0.0000), Var(v=0.0399, grad=0.0000), Var(v=-0.1520, grad=0.0000), Var(v=-0.1423, grad=0.0000), Var(v=0.0094, grad=0.0000), Var(v=-0.1406, grad=0.0000), Var(v=-0.1705, grad=0.0000), Var(v=0.0887, grad=0.0000), Var(v=-0.0093, grad=0.0000), Var(v=0.0480, grad=0.0000), Var(v=0.0094, grad=0.0000), Var(v=-0.0922, grad=0.0000), Var(v=-0.0292, grad=0.0000), Var(v=0.2103, grad=0.0000), Var(v=-0.0908, grad=0.0000), Var(v=0.1901, grad=0.0000), Var(v=-0.0008, grad=0.0000), Var(v=0.1171, grad=0.0000), Var(v=0.0959, grad=0.0000), Var(v=-0.2454, grad=0.0000), Var(v=0.0229, grad=0.0000), Var(v=0.0543, grad=0.0000), Var(v=0.0332, grad=0.0000), Var(v=-0.0203, grad=0.0000), Var(v=0.1050, grad=0.0000), Var(v=-0.1516, grad=0.0000)], [Var(v=0.1372, grad=0.0000), Var(v=0.1066, grad=0.0000), Var(v=-0.0395, grad=0.0000), Var(v=-0.1293, grad=0.0000), Var(v=0.0870, grad=0.0000), Var(v=-0.1040, grad=0.0000), Var(v=-0.0796, grad=0.0000), Var(v=0.0117, grad=0.0000), Var(v=0.0953, grad=0.0000), Var(v=0.1068, grad=0.0000), Var(v=-0.0707, grad=0.0000), Var(v=-0.0609, grad=0.0000), Var(v=-0.0072, grad=0.0000), Var(v=0.1239, grad=0.0000), Var(v=0.0014, grad=0.0000), Var(v=-0.0008, grad=0.0000), Var(v=-0.0841, grad=0.0000), Var(v=-0.0240, grad=0.0000), Var(v=-0.0754, grad=0.0000), Var(v=0.1843, grad=0.0000), Var(v=0.0982, grad=0.0000), Var(v=0.0540, grad=0.0000), Var(v=-0.0153, grad=0.0000), Var(v=-0.0225, grad=0.0000), Var(v=0.0874, grad=0.0000), Var(v=-0.0836, grad=0.0000), Var(v=-0.0213, grad=0.0000), Var(v=-0.1517, grad=0.0000), Var(v=0.2074, grad=0.0000), Var(v=0.0894, grad=0.0000), Var(v=-0.0077, grad=0.0000), Var(v=-0.1131, grad=0.0000), Var(v=-0.1464, grad=0.0000), Var(v=0.0362, grad=0.0000), Var(v=-0.0832, grad=0.0000), Var(v=0.1444, grad=0.0000), Var(v=0.0077, grad=0.0000), Var(v=-0.0066, grad=0.0000), Var(v=0.1762, grad=0.0000), Var(v=-0.0292, grad=0.0000), Var(v=0.0522, grad=0.0000), Var(v=-0.0581, grad=0.0000), Var(v=0.0247, grad=0.0000), Var(v=0.1928, grad=0.0000), Var(v=-0.0008, grad=0.0000), Var(v=0.1772, grad=0.0000), Var(v=0.0935, grad=0.0000), Var(v=-0.1289, grad=0.0000), Var(v=-0.0207, grad=0.0000), Var(v=-0.0152, grad=0.0000)], [Var(v=0.0377, grad=0.0000), Var(v=-0.0095, grad=0.0000), Var(v=-0.0697, grad=0.0000), Var(v=-0.0885, grad=0.0000), Var(v=-0.0500, grad=0.0000), Var(v=-0.0561, grad=0.0000), Var(v=-0.0625, grad=0.0000), Var(v=-0.1617, grad=0.0000), Var(v=-0.0416, grad=0.0000), Var(v=-0.0351, grad=0.0000), Var(v=0.1167, grad=0.0000), Var(v=-0.0914, grad=0.0000), Var(v=-0.1030, grad=0.0000), Var(v=0.1776, grad=0.0000), Var(v=-0.0658, grad=0.0000), Var(v=-0.0819, grad=0.0000), Var(v=0.1784, grad=0.0000), Var(v=0.0276, grad=0.0000), Var(v=-0.1415, grad=0.0000), Var(v=0.1675, grad=0.0000), Var(v=-0.0970, grad=0.0000), Var(v=0.0168, grad=0.0000), Var(v=0.0355, grad=0.0000), Var(v=-0.0580, grad=0.0000), Var(v=0.1397, grad=0.0000), Var(v=-0.0290, grad=0.0000), Var(v=-0.1548, grad=0.0000), Var(v=0.1312, grad=0.0000), Var(v=0.1494, grad=0.0000), Var(v=0.2167, grad=0.0000), Var(v=0.0567, grad=0.0000), Var(v=0.1652, grad=0.0000), Var(v=0.1159, grad=0.0000), Var(v=0.1112, grad=0.0000), Var(v=0.1487, grad=0.0000), Var(v=0.0811, grad=0.0000), Var(v=-0.1364, grad=0.0000), Var(v=0.0559, grad=0.0000), Var(v=0.1688, grad=0.0000), Var(v=0.0349, grad=0.0000), Var(v=0.0111, grad=0.0000), Var(v=0.0373, grad=0.0000), Var(v=0.1017, grad=0.0000), Var(v=0.0577, grad=0.0000), Var(v=0.1160, grad=0.0000), Var(v=-0.0785, grad=0.0000), Var(v=0.0683, grad=0.0000), Var(v=0.1515, grad=0.0000), Var(v=-0.1122, grad=0.0000), Var(v=-0.0985, grad=0.0000)], [Var(v=-0.1159, grad=0.0000), Var(v=-0.0535, grad=0.0000), Var(v=-0.0547, grad=0.0000), Var(v=-0.0394, grad=0.0000), Var(v=-0.0474, grad=0.0000), Var(v=0.0107, grad=0.0000), Var(v=0.0054, grad=0.0000), Var(v=-0.0632, grad=0.0000), Var(v=-0.0374, grad=0.0000), Var(v=-0.0512, grad=0.0000), Var(v=-0.0162, grad=0.0000), Var(v=-0.1115, grad=0.0000), Var(v=0.1213, grad=0.0000), Var(v=0.0261, grad=0.0000), Var(v=0.0045, grad=0.0000), Var(v=-0.0202, grad=0.0000), Var(v=0.1262, grad=0.0000), Var(v=-0.0350, grad=0.0000), Var(v=-0.1595, grad=0.0000), Var(v=-0.0800, grad=0.0000), Var(v=0.0818, grad=0.0000), Var(v=-0.0178, grad=0.0000), Var(v=0.0963, grad=0.0000), Var(v=-0.1569, grad=0.0000), Var(v=0.0523, grad=0.0000), Var(v=0.0380, grad=0.0000), Var(v=0.1869, grad=0.0000), Var(v=0.1815, grad=0.0000), Var(v=0.0209, grad=0.0000), Var(v=0.1447, grad=0.0000), Var(v=-0.0948, grad=0.0000), Var(v=-0.1626, grad=0.0000), Var(v=0.0658, grad=0.0000), Var(v=-0.0473, grad=0.0000), Var(v=-0.1203, grad=0.0000), Var(v=0.1019, grad=0.0000), Var(v=-0.0432, grad=0.0000), Var(v=0.0015, grad=0.0000), Var(v=-0.1259, grad=0.0000), Var(v=0.2880, grad=0.0000), Var(v=0.0488, grad=0.0000), Var(v=-0.0542, grad=0.0000), Var(v=0.0664, grad=0.0000), Var(v=0.0524, grad=0.0000), Var(v=0.2213, grad=0.0000), Var(v=-0.0576, grad=0.0000), Var(v=0.0452, grad=0.0000), Var(v=-0.0870, grad=0.0000), Var(v=0.0738, grad=0.0000), Var(v=-0.0779, grad=0.0000)], [Var(v=0.0659, grad=0.0000), Var(v=0.0936, grad=0.0000), Var(v=0.0543, grad=0.0000), Var(v=0.0436, grad=0.0000), Var(v=0.0959, grad=0.0000), Var(v=-0.1993, grad=0.0000), Var(v=-0.0283, grad=0.0000), Var(v=-0.0430, grad=0.0000), Var(v=0.1094, grad=0.0000), Var(v=-0.1659, grad=0.0000), Var(v=-0.0977, grad=0.0000), Var(v=-0.0644, grad=0.0000), Var(v=0.0044, grad=0.0000), Var(v=-0.1634, grad=0.0000), Var(v=0.0717, grad=0.0000), Var(v=0.0553, grad=0.0000), Var(v=-0.1232, grad=0.0000), Var(v=0.2038, grad=0.0000), Var(v=0.3719, grad=0.0000), Var(v=-0.0549, grad=0.0000), Var(v=0.1751, grad=0.0000), Var(v=-0.0420, grad=0.0000), Var(v=-0.0465, grad=0.0000), Var(v=0.1111, grad=0.0000), Var(v=0.0602, grad=0.0000), Var(v=-0.1047, grad=0.0000), Var(v=-0.0110, grad=0.0000), Var(v=-0.0194, grad=0.0000), Var(v=0.2388, grad=0.0000), Var(v=-0.0776, grad=0.0000), Var(v=-0.1774, grad=0.0000), Var(v=0.0522, grad=0.0000), Var(v=0.1168, grad=0.0000), Var(v=-0.0264, grad=0.0000), Var(v=0.0097, grad=0.0000), Var(v=-0.0008, grad=0.0000), Var(v=0.0295, grad=0.0000), Var(v=-0.0533, grad=0.0000), Var(v=0.0392, grad=0.0000), Var(v=0.0014, grad=0.0000), Var(v=0.0212, grad=0.0000), Var(v=-0.1903, grad=0.0000), Var(v=-0.1036, grad=0.0000), Var(v=0.0346, grad=0.0000), Var(v=-0.0181, grad=0.0000), Var(v=-0.1422, grad=0.0000), Var(v=-0.1378, grad=0.0000), Var(v=-0.2418, grad=0.0000), Var(v=0.2273, grad=0.0000), Var(v=-0.0836, grad=0.0000)], [Var(v=-0.0162, grad=0.0000), Var(v=0.0113, grad=0.0000), Var(v=0.0809, grad=0.0000), Var(v=-0.1441, grad=0.0000), Var(v=0.1191, grad=0.0000), Var(v=-0.0716, grad=0.0000), Var(v=-0.1328, grad=0.0000), Var(v=-0.0769, grad=0.0000), Var(v=-0.0746, grad=0.0000), Var(v=0.0398, grad=0.0000), Var(v=-0.1409, grad=0.0000), Var(v=-0.0795, grad=0.0000), Var(v=0.0109, grad=0.0000), Var(v=0.1435, grad=0.0000), Var(v=-0.0240, grad=0.0000), Var(v=0.1029, grad=0.0000), Var(v=0.2195, grad=0.0000), Var(v=0.1447, grad=0.0000), Var(v=-0.0696, grad=0.0000), Var(v=-0.0510, grad=0.0000), Var(v=-0.0374, grad=0.0000), Var(v=-0.0043, grad=0.0000), Var(v=-0.0540, grad=0.0000), Var(v=0.0045, grad=0.0000), Var(v=-0.1030, grad=0.0000), Var(v=-0.0197, grad=0.0000), Var(v=0.0597, grad=0.0000), Var(v=0.0564, grad=0.0000), Var(v=0.0151, grad=0.0000), Var(v=0.1179, grad=0.0000), Var(v=-0.0394, grad=0.0000), Var(v=-0.0008, grad=0.0000), Var(v=0.0883, grad=0.0000), Var(v=-0.0701, grad=0.0000), Var(v=-0.0451, grad=0.0000), Var(v=0.0891, grad=0.0000), Var(v=0.0045, grad=0.0000), Var(v=-0.0596, grad=0.0000), Var(v=0.1980, grad=0.0000), Var(v=-0.1119, grad=0.0000), Var(v=-0.0349, grad=0.0000), Var(v=-0.1380, grad=0.0000), Var(v=-0.0602, grad=0.0000), Var(v=-0.1114, grad=0.0000), Var(v=0.0741, grad=0.0000), Var(v=-0.0635, grad=0.0000), Var(v=0.0088, grad=0.0000), Var(v=0.0974, grad=0.0000), Var(v=-0.0746, grad=0.0000), Var(v=0.0795, grad=0.0000)], [Var(v=0.0249, grad=0.0000), Var(v=-0.0299, grad=0.0000), Var(v=-0.0616, grad=0.0000), Var(v=0.0218, grad=0.0000), Var(v=-0.0288, grad=0.0000), Var(v=0.0580, grad=0.0000), Var(v=-0.0660, grad=0.0000), Var(v=-0.2330, grad=0.0000), Var(v=0.1742, grad=0.0000), Var(v=-0.0662, grad=0.0000), Var(v=0.0195, grad=0.0000), Var(v=0.0496, grad=0.0000), Var(v=-0.1329, grad=0.0000), Var(v=-0.0429, grad=0.0000), Var(v=0.1028, grad=0.0000), Var(v=-0.2546, grad=0.0000), Var(v=-0.1183, grad=0.0000), Var(v=0.0674, grad=0.0000), Var(v=0.2269, grad=0.0000), Var(v=0.0687, grad=0.0000), Var(v=-0.1022, grad=0.0000), Var(v=-0.0716, grad=0.0000), Var(v=-0.1617, grad=0.0000), Var(v=0.0160, grad=0.0000), Var(v=-0.0668, grad=0.0000), Var(v=0.0158, grad=0.0000), Var(v=0.0164, grad=0.0000), Var(v=0.0239, grad=0.0000), Var(v=0.0465, grad=0.0000), Var(v=-0.0018, grad=0.0000), Var(v=-0.0016, grad=0.0000), Var(v=0.0684, grad=0.0000), Var(v=0.0438, grad=0.0000), Var(v=-0.1239, grad=0.0000), Var(v=0.0761, grad=0.0000), Var(v=-0.1700, grad=0.0000), Var(v=-0.0173, grad=0.0000), Var(v=0.0330, grad=0.0000), Var(v=-0.0538, grad=0.0000), Var(v=0.0492, grad=0.0000), Var(v=-0.0061, grad=0.0000), Var(v=-0.0098, grad=0.0000), Var(v=-0.0919, grad=0.0000), Var(v=-0.1442, grad=0.0000), Var(v=0.1748, grad=0.0000), Var(v=0.0437, grad=0.0000), Var(v=-0.0272, grad=0.0000), Var(v=0.0427, grad=0.0000), Var(v=-0.0113, grad=0.0000), Var(v=-0.1353, grad=0.0000)], [Var(v=-0.2336, grad=0.0000), Var(v=0.0788, grad=0.0000), Var(v=-0.0086, grad=0.0000), Var(v=-0.0141, grad=0.0000), Var(v=0.0528, grad=0.0000), Var(v=-0.0442, grad=0.0000), Var(v=-0.0341, grad=0.0000), Var(v=0.0818, grad=0.0000), Var(v=0.0697, grad=0.0000), Var(v=0.0045, grad=0.0000), Var(v=0.0485, grad=0.0000), Var(v=-0.0836, grad=0.0000), Var(v=-0.1350, grad=0.0000), Var(v=0.0782, grad=0.0000), Var(v=-0.0525, grad=0.0000), Var(v=-0.0521, grad=0.0000), Var(v=0.0551, grad=0.0000), Var(v=-0.0128, grad=0.0000), Var(v=0.0284, grad=0.0000), Var(v=-0.0291, grad=0.0000), Var(v=-0.0150, grad=0.0000), Var(v=-0.1088, grad=0.0000), Var(v=-0.0110, grad=0.0000), Var(v=-0.0337, grad=0.0000), Var(v=0.0238, grad=0.0000), Var(v=-0.0846, grad=0.0000), Var(v=0.0282, grad=0.0000), Var(v=-0.1167, grad=0.0000), Var(v=-0.0602, grad=0.0000), Var(v=0.0393, grad=0.0000), Var(v=-0.0222, grad=0.0000), Var(v=-0.1079, grad=0.0000), Var(v=0.1048, grad=0.0000), Var(v=-0.1353, grad=0.0000), Var(v=0.1436, grad=0.0000), Var(v=0.1272, grad=0.0000), Var(v=-0.0551, grad=0.0000), Var(v=0.0379, grad=0.0000), Var(v=0.1048, grad=0.0000), Var(v=-0.0473, grad=0.0000), Var(v=-0.0676, grad=0.0000), Var(v=0.0836, grad=0.0000), Var(v=0.0527, grad=0.0000), Var(v=-0.1140, grad=0.0000), Var(v=-0.0342, grad=0.0000), Var(v=0.0927, grad=0.0000), Var(v=0.1976, grad=0.0000), Var(v=-0.1291, grad=0.0000), Var(v=0.0135, grad=0.0000), Var(v=0.0628, grad=0.0000)], [Var(v=0.0016, grad=0.0000), Var(v=0.0323, grad=0.0000), Var(v=0.0343, grad=0.0000), Var(v=0.1434, grad=0.0000), Var(v=-0.2302, grad=0.0000), Var(v=0.0106, grad=0.0000), Var(v=0.0720, grad=0.0000), Var(v=-0.0816, grad=0.0000), Var(v=0.1629, grad=0.0000), Var(v=0.0858, grad=0.0000), Var(v=0.0331, grad=0.0000), Var(v=-0.1075, grad=0.0000), Var(v=-0.0288, grad=0.0000), Var(v=-0.0438, grad=0.0000), Var(v=-0.0858, grad=0.0000), Var(v=0.0489, grad=0.0000), Var(v=-0.0874, grad=0.0000), Var(v=-0.2437, grad=0.0000), Var(v=0.0644, grad=0.0000), Var(v=0.2127, grad=0.0000), Var(v=-0.0006, grad=0.0000), Var(v=-0.1231, grad=0.0000), Var(v=0.0708, grad=0.0000), Var(v=-0.0549, grad=0.0000), Var(v=0.0369, grad=0.0000), Var(v=-0.0566, grad=0.0000), Var(v=-0.0570, grad=0.0000), Var(v=0.1276, grad=0.0000), Var(v=-0.0363, grad=0.0000), Var(v=-0.0512, grad=0.0000), Var(v=0.0682, grad=0.0000), Var(v=0.0115, grad=0.0000), Var(v=0.1000, grad=0.0000), Var(v=-0.0863, grad=0.0000), Var(v=0.1136, grad=0.0000), Var(v=-0.1383, grad=0.0000), Var(v=0.0037, grad=0.0000), Var(v=0.0626, grad=0.0000), Var(v=-0.0357, grad=0.0000), Var(v=-0.0809, grad=0.0000), Var(v=-0.1064, grad=0.0000), Var(v=-0.0196, grad=0.0000), Var(v=-0.0348, grad=0.0000), Var(v=0.0817, grad=0.0000), Var(v=-0.0141, grad=0.0000), Var(v=0.0863, grad=0.0000), Var(v=-0.0341, grad=0.0000), Var(v=-0.0305, grad=0.0000), Var(v=-0.1012, grad=0.0000), Var(v=-0.0018, grad=0.0000)], [Var(v=0.0701, grad=0.0000), Var(v=0.2269, grad=0.0000), Var(v=-0.0505, grad=0.0000), Var(v=-0.1640, grad=0.0000), Var(v=0.0741, grad=0.0000), Var(v=0.0086, grad=0.0000), Var(v=-0.0316, grad=0.0000), Var(v=0.0650, grad=0.0000), Var(v=0.0618, grad=0.0000), Var(v=-0.1711, grad=0.0000), Var(v=0.1531, grad=0.0000), Var(v=0.1200, grad=0.0000), Var(v=-0.0346, grad=0.0000), Var(v=-0.0247, grad=0.0000), Var(v=0.0816, grad=0.0000), Var(v=0.1640, grad=0.0000), Var(v=0.0011, grad=0.0000), Var(v=-0.0642, grad=0.0000), Var(v=-0.2125, grad=0.0000), Var(v=-0.0629, grad=0.0000), Var(v=0.1300, grad=0.0000), Var(v=-0.0595, grad=0.0000), Var(v=-0.1267, grad=0.0000), Var(v=0.1036, grad=0.0000), Var(v=0.0621, grad=0.0000), Var(v=-0.1058, grad=0.0000), Var(v=-0.1530, grad=0.0000), Var(v=-0.1842, grad=0.0000), Var(v=-0.1781, grad=0.0000), Var(v=-0.0280, grad=0.0000), Var(v=0.0026, grad=0.0000), Var(v=-0.0484, grad=0.0000), Var(v=0.0102, grad=0.0000), Var(v=0.1009, grad=0.0000), Var(v=-0.0689, grad=0.0000), Var(v=0.2212, grad=0.0000), Var(v=-0.0748, grad=0.0000), Var(v=-0.1289, grad=0.0000), Var(v=-0.0584, grad=0.0000), Var(v=0.0440, grad=0.0000), Var(v=-0.0523, grad=0.0000), Var(v=-0.0151, grad=0.0000), Var(v=0.0861, grad=0.0000), Var(v=0.0294, grad=0.0000), Var(v=-0.0427, grad=0.0000), Var(v=-0.0341, grad=0.0000), Var(v=0.0204, grad=0.0000), Var(v=0.1034, grad=0.0000), Var(v=-0.0269, grad=0.0000), Var(v=-0.0946, grad=0.0000)]] Biases: [Var(v=0.0000, grad=0.0000), Var(v=0.1513, grad=0.0000), Var(v=-0.0006, grad=0.0000), Var(v=0.0000, grad=0.0000), Var(v=0.0005, grad=0.0000), Var(v=0.0652, grad=0.0000), Var(v=0.0000, grad=0.0000), Var(v=0.0001, grad=0.0000), Var(v=-0.0192, grad=0.0000), Var(v=0.0000, grad=0.0000), Var(v=0.1355, grad=0.0000), Var(v=0.0000, grad=0.0000), Var(v=-0.0222, grad=0.0000), Var(v=-0.0001, grad=0.0000), Var(v=0.0000, grad=0.0000), Var(v=-0.0380, grad=0.0000), Var(v=0.0002, grad=0.0000), Var(v=0.0009, grad=0.0000), Var(v=-0.0008, grad=0.0000), Var(v=-0.1375, grad=0.0000), Var(v=0.0428, grad=0.0000), Var(v=0.0000, grad=0.0000), Var(v=0.0000, grad=0.0000), Var(v=-0.0411, grad=0.0000), Var(v=0.0686, grad=0.0000), Var(v=0.0001, grad=0.0000), Var(v=0.0009, grad=0.0000), Var(v=-0.0795, grad=0.0000), Var(v=-0.1884, grad=0.0000), Var(v=-0.0101, grad=0.0000), Var(v=0.0000, grad=0.0000), Var(v=0.0000, grad=0.0000), Var(v=-0.0009, grad=0.0000), Var(v=0.0000, grad=0.0000), Var(v=0.0423, grad=0.0000), Var(v=-0.0347, grad=0.0000), Var(v=0.0000, grad=0.0000), Var(v=0.0005, grad=0.0000), Var(v=0.1278, grad=0.0000), Var(v=0.1505, grad=0.0000), Var(v=0.0000, grad=0.0000), Var(v=-0.2120, grad=0.0000), Var(v=-0.0047, grad=0.0000), Var(v=-0.0319, grad=0.0000), Var(v=-0.0429, grad=0.0000), Var(v=-0.0573, grad=0.0000), Var(v=0.0000, grad=0.0000), Var(v=-0.1431, grad=0.0000), Var(v=0.0555, grad=0.0000), Var(v=-0.0004, grad=0.0000)]\n",
      "Layer 2 \n",
      " Weights: [[Var(v=-0.0462, grad=0.0000)], [Var(v=-0.1952, grad=0.0000)], [Var(v=0.0868, grad=0.0000)], [Var(v=-0.0081, grad=0.0000)], [Var(v=-0.1027, grad=0.0000)], [Var(v=0.0949, grad=0.0000)], [Var(v=0.0148, grad=0.0000)], [Var(v=-0.0175, grad=0.0000)], [Var(v=-0.0000, grad=0.0000)], [Var(v=0.0754, grad=0.0000)], [Var(v=0.1757, grad=0.0000)], [Var(v=0.1108, grad=0.0000)], [Var(v=-0.0021, grad=0.0000)], [Var(v=-0.0318, grad=0.0000)], [Var(v=-0.0067, grad=0.0000)], [Var(v=0.0203, grad=0.0000)], [Var(v=-0.0638, grad=0.0000)], [Var(v=-0.1593, grad=0.0000)], [Var(v=0.1339, grad=0.0000)], [Var(v=-0.1236, grad=0.0000)], [Var(v=-0.0818, grad=0.0000)], [Var(v=0.0072, grad=0.0000)], [Var(v=0.1028, grad=0.0000)], [Var(v=-0.0321, grad=0.0000)], [Var(v=0.1008, grad=0.0000)], [Var(v=-0.0228, grad=0.0000)], [Var(v=-0.1490, grad=0.0000)], [Var(v=0.0702, grad=0.0000)], [Var(v=0.1623, grad=0.0000)], [Var(v=-0.0259, grad=0.0000)], [Var(v=-0.0011, grad=0.0000)], [Var(v=0.1305, grad=0.0000)], [Var(v=0.1064, grad=0.0000)], [Var(v=0.0109, grad=0.0000)], [Var(v=0.0864, grad=0.0000)], [Var(v=-0.0172, grad=0.0000)], [Var(v=-0.1855, grad=0.0000)], [Var(v=-0.0985, grad=0.0000)], [Var(v=-0.2015, grad=0.0000)], [Var(v=0.1772, grad=0.0000)], [Var(v=0.0207, grad=0.0000)], [Var(v=-0.1910, grad=0.0000)], [Var(v=0.0038, grad=0.0000)], [Var(v=-0.0121, grad=0.0000)], [Var(v=-0.0059, grad=0.0000)], [Var(v=-0.0578, grad=0.0000)], [Var(v=0.0667, grad=0.0000)], [Var(v=0.1243, grad=0.0000)], [Var(v=0.0747, grad=0.0000)], [Var(v=0.0958, grad=0.0000)]] Biases: [Var(v=-0.0058, grad=0.0000)]\n"
     ]
    },
    {
     "data": {
      "text/plain": [
       "[None, None, None]"
      ]
     },
     "execution_count": 75,
     "metadata": {},
     "output_type": "execute_result"
    }
   ],
   "source": [
    "print('Network before update:')\n",
    "[print('Layer', i, '\\n', NN[i]) for i in range(len(NN))] \n",
    "\n",
    "def parameters(network):\n",
    "  params = []\n",
    "  for layer in range(len(network)):\n",
    "    params += network[layer].parameters()\n",
    "  return params\n",
    "\n",
    "def update_parameters(params, learning_rate=0.01):\n",
    "  for p in params:\n",
    "    p.v -= learning_rate*p.grad\n",
    "\n",
    "def zero_gradients(params):\n",
    "  for p in params:\n",
    "    p.grad = 0.0\n",
    "\n",
    "update_parameters(parameters(NN))\n",
    "\n",
    "print('\\nNetwork after update:')\n",
    "[print('Layer', i, '\\n', NN[i]) for i in range(len(NN))] \n",
    "\n",
    "zero_gradients(parameters(NN))\n",
    "\n",
    "print('\\nNetwork after zeroing gradients:')\n",
    "[print('Layer', i, '\\n', NN[i]) for i in range(len(NN))] "
   ]
  },
  {
   "cell_type": "code",
   "execution_count": 76,
   "metadata": {
    "id": "woWYpdw6FtIO"
   },
   "outputs": [],
   "source": [
    "# Initialize an arbitrary neural network\n",
    "NN = [\n",
    "    DenseLayer(1, 8, lambda x: x.relu()),\n",
    "    DenseLayer(8, 1, lambda x: x.identity())\n",
    "]\n",
    "\n",
    "# Recommended hyper-parameters for 3-D: \n",
    "#NN = [\n",
    "#    DenseLayer(3, 16, lambda x: x.relu()),\n",
    "#    DenseLayer(16, 1, lambda x: x.identity())\n",
    "#]\n",
    "\n",
    "\n",
    "### Notice that, when we switch from tanh to relu activation, we decrease the learning rate. This is due the stability of the gradients \n",
    "## of the activation functions."
   ]
  },
  {
   "cell_type": "code",
   "execution_count": 77,
   "metadata": {
    "id": "mdqaqYBVFtIR"
   },
   "outputs": [],
   "source": [
    "# Initialize training hyperparameters\n",
    "EPOCHS = 200\n",
    "LEARN_R = 2e-3 "
   ]
  },
  {
   "cell_type": "code",
   "execution_count": 78,
   "metadata": {
    "colab": {
     "base_uri": "https://localhost:8080/"
    },
    "id": "5kfg76GMFtIW",
    "outputId": "e30cf68a-31f2-42b4-cc5e-860c297c0f04",
    "scrolled": true
   },
   "outputs": [
    {
     "name": "stdout",
     "output_type": "stream",
     "text": [
      "   0 ( 0.00%) Train loss: 106.410 \t Validation loss: 104.912\n",
      "  10 ( 5.00%) Train loss: 25.020 \t Validation loss: 19.433\n",
      "  20 (10.00%) Train loss: 14.127 \t Validation loss: 11.103\n",
      "  30 (15.00%) Train loss: 13.405 \t Validation loss: 10.387\n",
      "  40 (20.00%) Train loss: 13.014 \t Validation loss: 9.917\n",
      "  50 (25.00%) Train loss: 12.735 \t Validation loss: 9.539\n",
      "  60 (30.00%) Train loss: 12.538 \t Validation loss: 9.245\n",
      "  70 (35.00%) Train loss: 12.389 \t Validation loss: 9.060\n",
      "  80 (40.00%) Train loss: 12.276 \t Validation loss: 8.979\n",
      "  90 (45.00%) Train loss: 12.192 \t Validation loss: 8.942\n",
      " 100 (50.00%) Train loss: 12.118 \t Validation loss: 8.921\n",
      " 110 (55.00%) Train loss: 12.060 \t Validation loss: 8.910\n",
      " 120 (60.00%) Train loss: 12.018 \t Validation loss: 8.911\n",
      " 130 (65.00%) Train loss: 11.980 \t Validation loss: 8.933\n",
      " 140 (70.00%) Train loss: 11.945 \t Validation loss: 8.956\n",
      " 150 (75.00%) Train loss: 11.909 \t Validation loss: 9.003\n",
      " 160 (80.00%) Train loss: 11.891 \t Validation loss: 8.993\n",
      " 170 (85.00%) Train loss: 11.889 \t Validation loss: 8.992\n",
      " 180 (90.00%) Train loss: 11.869 \t Validation loss: 9.029\n",
      " 190 (95.00%) Train loss: 11.859 \t Validation loss: 9.025\n"
     ]
    }
   ],
   "source": [
    "train_loss = []\n",
    "val_loss = []\n",
    "\n",
    "for e in range(EPOCHS):\n",
    "     \n",
    "    # Forward pass and loss computation\n",
    "    Loss = squared_loss(y_train, forward(x_train, NN))\n",
    "\n",
    "    # Backward pass\n",
    "    Loss.backward()\n",
    "    \n",
    "    # gradient descent update\n",
    "    update_parameters(parameters(NN), LEARN_R)\n",
    "    zero_gradients(parameters(NN))\n",
    "    \n",
    "    # Training loss\n",
    "    train_loss.append(Loss.v)\n",
    "    \n",
    "    # Validation\n",
    "    Loss_validation = squared_loss(y_validation, forward(x_validation, NN))\n",
    "    val_loss.append(Loss_validation.v)\n",
    "    \n",
    "    if e%10==0:\n",
    "        print(\"{:4d}\".format(e),\n",
    "              \"({:5.2f}%)\".format(e/EPOCHS*100), \n",
    "              \"Train loss: {:4.3f} \\t Validation loss: {:4.3f}\".format(train_loss[-1], val_loss[-1]))\n",
    "        \n"
   ]
  },
  {
   "cell_type": "code",
   "execution_count": 79,
   "metadata": {
    "colab": {
     "base_uri": "https://localhost:8080/",
     "height": 265
    },
    "id": "VetyRWFwFtIY",
    "outputId": "344e490d-6d7d-455a-fa6f-88dd11eb957e"
   },
   "outputs": [
    {
     "data": {
      "image/png": "[encoded data removed]",
      "text/plain": [
       "<Figure size 640x480 with 1 Axes>"
      ]
     },
     "metadata": {},
     "output_type": "display_data"
    }
   ],
   "source": [
    "plt.plot(range(len(train_loss)), train_loss);\n",
    "plt.plot(range(len(val_loss)), val_loss);"
   ]
  },
  {
   "cell_type": "markdown",
   "metadata": {
    "id": "8OgmIrM9FtIb"
   },
   "source": [
    "# Testing\n",
    "\n",
    "We have kept the calculation of the test error separate in order to emphasize that you should not use the test set in optimization."
   ]
  },
  {
   "cell_type": "code",
   "execution_count": 80,
   "metadata": {
    "id": "HmNi7S-vFtIc"
   },
   "outputs": [],
   "source": [
    "output_test = forward(x_test, NN)"
   ]
  },
  {
   "cell_type": "code",
   "execution_count": 81,
   "metadata": {
    "colab": {
     "base_uri": "https://localhost:8080/",
     "height": 316
    },
    "id": "7mmJOTSEFtIf",
    "outputId": "e3264095-cefe-4aee-893d-bf152438e332"
   },
   "outputs": [
    {
     "ename": "ValueError",
     "evalue": "x and y must be the same size",
     "output_type": "error",
     "traceback": [
      "\u001b[1;31m---------------------------------------------------------------------------\u001b[0m",
      "\u001b[1;31mValueError\u001b[0m                                Traceback (most recent call last)",
      "Cell \u001b[1;32mIn[81], line 2\u001b[0m\n\u001b[0;32m      1\u001b[0m y_test_np \u001b[39m=\u001b[39m Var_to_nparray(y_test)\n\u001b[1;32m----> 2\u001b[0m plt\u001b[39m.\u001b[39;49mscatter(y_test_np, Var_to_nparray(output_test));\n\u001b[0;32m      3\u001b[0m plt\u001b[39m.\u001b[39mplot([np\u001b[39m.\u001b[39mmin(y_test_np), np\u001b[39m.\u001b[39mmax(y_test_np)], [np\u001b[39m.\u001b[39mmin(y_test_np), np\u001b[39m.\u001b[39mmax(y_test_np)], color\u001b[39m=\u001b[39m\u001b[39m'\u001b[39m\u001b[39mk\u001b[39m\u001b[39m'\u001b[39m);\n\u001b[0;32m      4\u001b[0m plt\u001b[39m.\u001b[39mxlabel(\u001b[39m\"\u001b[39m\u001b[39my\u001b[39m\u001b[39m\"\u001b[39m);\n",
      "File \u001b[1;32mc:\\Users\\rink\\AppData\\Local\\miniconda3\\envs\\deeplearning\\lib\\site-packages\\matplotlib\\pyplot.py:2862\u001b[0m, in \u001b[0;36mscatter\u001b[1;34m(x, y, s, c, marker, cmap, norm, vmin, vmax, alpha, linewidths, edgecolors, plotnonfinite, data, **kwargs)\u001b[0m\n\u001b[0;32m   2857\u001b[0m \u001b[39m@_copy_docstring_and_deprecators\u001b[39m(Axes\u001b[39m.\u001b[39mscatter)\n\u001b[0;32m   2858\u001b[0m \u001b[39mdef\u001b[39;00m \u001b[39mscatter\u001b[39m(\n\u001b[0;32m   2859\u001b[0m         x, y, s\u001b[39m=\u001b[39m\u001b[39mNone\u001b[39;00m, c\u001b[39m=\u001b[39m\u001b[39mNone\u001b[39;00m, marker\u001b[39m=\u001b[39m\u001b[39mNone\u001b[39;00m, cmap\u001b[39m=\u001b[39m\u001b[39mNone\u001b[39;00m, norm\u001b[39m=\u001b[39m\u001b[39mNone\u001b[39;00m,\n\u001b[0;32m   2860\u001b[0m         vmin\u001b[39m=\u001b[39m\u001b[39mNone\u001b[39;00m, vmax\u001b[39m=\u001b[39m\u001b[39mNone\u001b[39;00m, alpha\u001b[39m=\u001b[39m\u001b[39mNone\u001b[39;00m, linewidths\u001b[39m=\u001b[39m\u001b[39mNone\u001b[39;00m, \u001b[39m*\u001b[39m,\n\u001b[0;32m   2861\u001b[0m         edgecolors\u001b[39m=\u001b[39m\u001b[39mNone\u001b[39;00m, plotnonfinite\u001b[39m=\u001b[39m\u001b[39mFalse\u001b[39;00m, data\u001b[39m=\u001b[39m\u001b[39mNone\u001b[39;00m, \u001b[39m*\u001b[39m\u001b[39m*\u001b[39mkwargs):\n\u001b[1;32m-> 2862\u001b[0m     __ret \u001b[39m=\u001b[39m gca()\u001b[39m.\u001b[39mscatter(\n\u001b[0;32m   2863\u001b[0m         x, y, s\u001b[39m=\u001b[39ms, c\u001b[39m=\u001b[39mc, marker\u001b[39m=\u001b[39mmarker, cmap\u001b[39m=\u001b[39mcmap, norm\u001b[39m=\u001b[39mnorm,\n\u001b[0;32m   2864\u001b[0m         vmin\u001b[39m=\u001b[39mvmin, vmax\u001b[39m=\u001b[39mvmax, alpha\u001b[39m=\u001b[39malpha, linewidths\u001b[39m=\u001b[39mlinewidths,\n\u001b[0;32m   2865\u001b[0m         edgecolors\u001b[39m=\u001b[39medgecolors, plotnonfinite\u001b[39m=\u001b[39mplotnonfinite,\n\u001b[0;32m   2866\u001b[0m         \u001b[39m*\u001b[39m\u001b[39m*\u001b[39m({\u001b[39m\"\u001b[39m\u001b[39mdata\u001b[39m\u001b[39m\"\u001b[39m: data} \u001b[39mif\u001b[39;00m data \u001b[39mis\u001b[39;00m \u001b[39mnot\u001b[39;00m \u001b[39mNone\u001b[39;00m \u001b[39melse\u001b[39;00m {}), \u001b[39m*\u001b[39m\u001b[39m*\u001b[39mkwargs)\n\u001b[0;32m   2867\u001b[0m     sci(__ret)\n\u001b[0;32m   2868\u001b[0m     \u001b[39mreturn\u001b[39;00m __ret\n",
      "File \u001b[1;32mc:\\Users\\rink\\AppData\\Local\\miniconda3\\envs\\deeplearning\\lib\\site-packages\\matplotlib\\__init__.py:1442\u001b[0m, in \u001b[0;36m_preprocess_data.<locals>.inner\u001b[1;34m(ax, data, *args, **kwargs)\u001b[0m\n\u001b[0;32m   1439\u001b[0m \u001b[39m@functools\u001b[39m\u001b[39m.\u001b[39mwraps(func)\n\u001b[0;32m   1440\u001b[0m \u001b[39mdef\u001b[39;00m \u001b[39minner\u001b[39m(ax, \u001b[39m*\u001b[39margs, data\u001b[39m=\u001b[39m\u001b[39mNone\u001b[39;00m, \u001b[39m*\u001b[39m\u001b[39m*\u001b[39mkwargs):\n\u001b[0;32m   1441\u001b[0m     \u001b[39mif\u001b[39;00m data \u001b[39mis\u001b[39;00m \u001b[39mNone\u001b[39;00m:\n\u001b[1;32m-> 1442\u001b[0m         \u001b[39mreturn\u001b[39;00m func(ax, \u001b[39m*\u001b[39m\u001b[39mmap\u001b[39m(sanitize_sequence, args), \u001b[39m*\u001b[39m\u001b[39m*\u001b[39mkwargs)\n\u001b[0;32m   1444\u001b[0m     bound \u001b[39m=\u001b[39m new_sig\u001b[39m.\u001b[39mbind(ax, \u001b[39m*\u001b[39margs, \u001b[39m*\u001b[39m\u001b[39m*\u001b[39mkwargs)\n\u001b[0;32m   1445\u001b[0m     auto_label \u001b[39m=\u001b[39m (bound\u001b[39m.\u001b[39marguments\u001b[39m.\u001b[39mget(label_namer)\n\u001b[0;32m   1446\u001b[0m                   \u001b[39mor\u001b[39;00m bound\u001b[39m.\u001b[39mkwargs\u001b[39m.\u001b[39mget(label_namer))\n",
      "File \u001b[1;32mc:\\Users\\rink\\AppData\\Local\\miniconda3\\envs\\deeplearning\\lib\\site-packages\\matplotlib\\axes\\_axes.py:4584\u001b[0m, in \u001b[0;36mAxes.scatter\u001b[1;34m(self, x, y, s, c, marker, cmap, norm, vmin, vmax, alpha, linewidths, edgecolors, plotnonfinite, **kwargs)\u001b[0m\n\u001b[0;32m   4582\u001b[0m y \u001b[39m=\u001b[39m np\u001b[39m.\u001b[39mma\u001b[39m.\u001b[39mravel(y)\n\u001b[0;32m   4583\u001b[0m \u001b[39mif\u001b[39;00m x\u001b[39m.\u001b[39msize \u001b[39m!=\u001b[39m y\u001b[39m.\u001b[39msize:\n\u001b[1;32m-> 4584\u001b[0m     \u001b[39mraise\u001b[39;00m \u001b[39mValueError\u001b[39;00m(\u001b[39m\"\u001b[39m\u001b[39mx and y must be the same size\u001b[39m\u001b[39m\"\u001b[39m)\n\u001b[0;32m   4586\u001b[0m \u001b[39mif\u001b[39;00m s \u001b[39mis\u001b[39;00m \u001b[39mNone\u001b[39;00m:\n\u001b[0;32m   4587\u001b[0m     s \u001b[39m=\u001b[39m (\u001b[39m20\u001b[39m \u001b[39mif\u001b[39;00m mpl\u001b[39m.\u001b[39mrcParams[\u001b[39m'\u001b[39m\u001b[39m_internal.classic_mode\u001b[39m\u001b[39m'\u001b[39m] \u001b[39melse\u001b[39;00m\n\u001b[0;32m   4588\u001b[0m          mpl\u001b[39m.\u001b[39mrcParams[\u001b[39m'\u001b[39m\u001b[39mlines.markersize\u001b[39m\u001b[39m'\u001b[39m] \u001b[39m*\u001b[39m\u001b[39m*\u001b[39m \u001b[39m2.0\u001b[39m)\n",
      "\u001b[1;31mValueError\u001b[0m: x and y must be the same size"
     ]
    },
    {
     "data": {
      "image/png": "[encoded data removed]",
      "text/plain": [
       "<Figure size 640x480 with 1 Axes>"
      ]
     },
     "metadata": {},
     "output_type": "display_data"
    }
   ],
   "source": [
    "y_test_np = Var_to_nparray(y_test)\n",
    "plt.scatter(y_test_np, Var_to_nparray(output_test));\n",
    "plt.plot([np.min(y_test_np), np.max(y_test_np)], [np.min(y_test_np), np.max(y_test_np)], color='k');\n",
    "plt.xlabel(\"y\");\n",
    "plt.ylabel(\"$\\hat{y}$\");\n",
    "plt.title(\"Model prediction vs real in the test set, the close to the line the better\")\n",
    "plt.grid(True);\n",
    "plt.axis('equal');\n",
    "plt.tight_layout();\n",
    "\n",
    "Loss_test = squared_loss(y_test, forward(x_test, NN))\n",
    "\n",
    "print(\"Test loss:  {:4.3f}\".format(Loss_test.v))"
   ]
  },
  {
   "cell_type": "code",
   "execution_count": null,
   "metadata": {
    "colab": {
     "base_uri": "https://localhost:8080/",
     "height": 279
    },
    "id": "ODi0WlmQFtIh",
    "outputId": "d1ab874f-0717-4987-87bf-1f0c7c8e7148"
   },
   "outputs": [],
   "source": [
    "x_test_np = Var_to_nparray(x_test)\n",
    "x_train_np = Var_to_nparray(x_train)\n",
    "y_train_np = Var_to_nparray(y_train)\n",
    "if D1:\n",
    "    plt.scatter(x_train_np, y_train_np, label=\"train data\");\n",
    "    plt.scatter(x_test_np, Var_to_nparray(output_test), label=\"test prediction\");\n",
    "    plt.scatter(x_test_np, y_test_np, label=\"test data\");\n",
    "    plt.legend();\n",
    "    plt.xlabel(\"x\");\n",
    "    plt.ylabel(\"y\");\n",
    "else:\n",
    "    plt.scatter(x_train_np[:,1], y_train, label=\"train data\");\n",
    "    plt.scatter(x_test_np[:,1], Var_to_nparray(output_test), label=\"test data prediction\");\n",
    "    plt.scatter(x_test_np[:,1], y_test_np, label=\"test data\");\n",
    "    plt.legend();\n",
    "    plt.xlabel(\"x\");\n",
    "    plt.ylabel(\"y\");"
   ]
  },
  {
   "cell_type": "markdown",
   "metadata": {
    "id": "zTBAmjsAFtIk"
   },
   "source": [
    "## Exercise l) Show overfitting, underfitting and just right fitting\n",
    "\n",
    "Vary the architecture and other things to show clear signs of overfitting (=training loss significantly lower than test loss) and underfitting (=not fitting enoung to training data so that test performance is also hurt).\n",
    "\n",
    "See also if you can get a good compromise which leads to a low validation loss. \n",
    "\n",
    "For this problem do you see any big difference between validation and test loss? The answer here will probably be no. Discuss cases where it is important to keep the two separate.\n",
    "\n",
    "_Insert written answer here._\n"
   ]
  },
  {
   "cell_type": "code",
   "execution_count": null,
   "metadata": {
    "id": "tQZCn2dxFtIl"
   },
   "outputs": [],
   "source": [
    "# Insert your code for getting overfitting, underfitting and just right fitting"
   ]
  },
  {
   "cell_type": "markdown",
   "metadata": {
    "id": "fYPZP-eTFtIo"
   },
   "source": [
    "# Next steps - classification\n",
    "\n",
    "It is straight forward to extend what we have done to classification. \n",
    "\n",
    "For numerical stability it is better to make softmax and cross-entropy as one function so we write the cross entropy loss as a function of the logits we talked about last week. \n",
    "\n",
    "Next week we will see how to perform classification in PyTorch."
   ]
  },
  {
   "cell_type": "markdown",
   "metadata": {
    "id": "qsVPul3QFtIo"
   },
   "source": [
    "## Exercise m) optional - Implement backpropagation for classification\n",
    "\n",
    "Should be possible with very few lines of code. :-)"
   ]
  },
  {
   "cell_type": "code",
   "execution_count": null,
   "metadata": {
    "id": "oC8QrI2tFtIp"
   },
   "outputs": [],
   "source": [
    "# Just add code."
   ]
  },
  {
   "cell_type": "markdown",
   "metadata": {
    "id": "APqhJv3tta1O"
   },
   "source": [
    "## Exercise n) optional - Introduce a NeuralNetwork class\n",
    "\n",
    "The functions we applied on the neural network (parameters, update_parameters and zero_gradients) can more naturally be included as methods in a NeuralNetwork class. Make such a class and modify the code to use it. "
   ]
  },
  {
   "cell_type": "code",
   "execution_count": null,
   "metadata": {
    "id": "Dqfnor1ouMLq"
   },
   "outputs": [],
   "source": [
    "# just add some code"
   ]
  }
 ],
 "metadata": {
  "anaconda-cloud": {},
  "colab": {
   "collapsed_sections": [
    "U4057_ljNvWB",
    "p_8n_SKnIW2F",
    "oLrGJytZFtGm",
    "jpIZPBpNI0pO",
    "_79HOAXrFtHK",
    "mqeyab9qFtGs",
    "-XyXBD37FtHk",
    "SrwSJ2UWFtHu",
    "zTBAmjsAFtIk",
    "qsVPul3QFtIo",
    "APqhJv3tta1O"
   ],
   "name": "2.1-EXE-FNN-AutoDif-Nanograd.ipynb",
   "provenance": []
  },
  "kernelspec": {
   "display_name": "Python 3",
   "language": "python",
   "name": "python3"
  },
  "language_info": {
   "codemirror_mode": {
    "name": "ipython",
    "version": 3
   },
   "file_extension": ".py",
   "mimetype": "text/x-python",
   "name": "python",
   "nbconvert_exporter": "python",
   "pygments_lexer": "ipython3",
   "version": "3.10.12"
  }
 },
 "nbformat": 4,
 "nbformat_minor": 1
}
